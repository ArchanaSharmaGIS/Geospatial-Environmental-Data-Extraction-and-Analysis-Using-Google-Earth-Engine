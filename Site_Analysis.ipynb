{
 "cells": [
  {
   "cell_type": "markdown",
   "id": "e0a1c927-3a67-4278-9f8c-190cde96cd19",
   "metadata": {},
   "source": [
    "## Importing necessary libraries for geospatial data analysis"
   ]
  },
  {
   "cell_type": "code",
   "execution_count": 138,
   "id": "c3684ac5-7beb-4703-a7f6-f1eadb7ab0aa",
   "metadata": {},
   "outputs": [
    {
     "data": {
      "text/html": [
       "\n",
       "            <style>\n",
       "                .geemap-dark {\n",
       "                    --jp-widgets-color: white;\n",
       "                    --jp-widgets-label-color: white;\n",
       "                    --jp-ui-font-color1: white;\n",
       "                    --jp-layout-color2: #454545;\n",
       "                    background-color: #383838;\n",
       "                }\n",
       "\n",
       "                .geemap-dark .jupyter-button {\n",
       "                    --jp-layout-color3: #383838;\n",
       "                }\n",
       "\n",
       "                .geemap-colab {\n",
       "                    background-color: var(--colab-primary-surface-color, white);\n",
       "                }\n",
       "\n",
       "                .geemap-colab .jupyter-button {\n",
       "                    --jp-layout-color3: var(--colab-primary-surface-color, white);\n",
       "                }\n",
       "            </style>\n",
       "            "
      ],
      "text/plain": [
       "<IPython.core.display.HTML object>"
      ]
     },
     "metadata": {},
     "output_type": "display_data"
    }
   ],
   "source": [
    "import geemap\n",
    "import matplotlib.pyplot as plt\n",
    "import ee\n",
    "import datetime\n",
    "import pandas as pd\n",
    "import plotly.graph_objects as go\n",
    "from IPython.display import display, HTML\n",
    "import datetime\n",
    "import time\n",
    "import geopandas as gpd\n",
    "import numpy as np\n",
    "import geemap.chart as chart\n",
    "import ee.reducer\n",
    "import folium\n",
    "from bqplot import pyplot as plt\n",
    "import plotly.graph_objs as go\n",
    "import plotly.express as px"
   ]
  },
  {
   "cell_type": "markdown",
   "id": "1b20aa44-a319-4238-a1fc-20deabebb79d",
   "metadata": {},
   "source": [
    "## Initialize Earth Engine"
   ]
  },
  {
   "cell_type": "code",
   "execution_count": 86,
   "id": "820cd558-662a-403a-a3b4-2d57fd034a18",
   "metadata": {},
   "outputs": [
    {
     "data": {
      "text/html": [
       "\n",
       "            <style>\n",
       "                .geemap-dark {\n",
       "                    --jp-widgets-color: white;\n",
       "                    --jp-widgets-label-color: white;\n",
       "                    --jp-ui-font-color1: white;\n",
       "                    --jp-layout-color2: #454545;\n",
       "                    background-color: #383838;\n",
       "                }\n",
       "\n",
       "                .geemap-dark .jupyter-button {\n",
       "                    --jp-layout-color3: #383838;\n",
       "                }\n",
       "\n",
       "                .geemap-colab {\n",
       "                    background-color: var(--colab-primary-surface-color, white);\n",
       "                }\n",
       "\n",
       "                .geemap-colab .jupyter-button {\n",
       "                    --jp-layout-color3: var(--colab-primary-surface-color, white);\n",
       "                }\n",
       "            </style>\n",
       "            "
      ],
      "text/plain": [
       "<IPython.core.display.HTML object>"
      ]
     },
     "metadata": {},
     "output_type": "display_data"
    }
   ],
   "source": [
    "ee.Authenticate()\n",
    "ee.Initialize( project=\"archanagis\")"
   ]
  },
  {
   "cell_type": "markdown",
   "id": "b2729b38-ec17-444a-86db-0a65383ae7b0",
   "metadata": {},
   "source": [
    "## Define the area of interest and time range"
   ]
  },
  {
   "cell_type": "code",
   "execution_count": 87,
   "id": "0e4ed8a8-6a6d-48b8-b58a-854ee5ca18fc",
   "metadata": {},
   "outputs": [
    {
     "data": {
      "text/html": [
       "\n",
       "            <style>\n",
       "                .geemap-dark {\n",
       "                    --jp-widgets-color: white;\n",
       "                    --jp-widgets-label-color: white;\n",
       "                    --jp-ui-font-color1: white;\n",
       "                    --jp-layout-color2: #454545;\n",
       "                    background-color: #383838;\n",
       "                }\n",
       "\n",
       "                .geemap-dark .jupyter-button {\n",
       "                    --jp-layout-color3: #383838;\n",
       "                }\n",
       "\n",
       "                .geemap-colab {\n",
       "                    background-color: var(--colab-primary-surface-color, white);\n",
       "                }\n",
       "\n",
       "                .geemap-colab .jupyter-button {\n",
       "                    --jp-layout-color3: var(--colab-primary-surface-color, white);\n",
       "                }\n",
       "            </style>\n",
       "            "
      ],
      "text/plain": [
       "<IPython.core.display.HTML object>"
      ]
     },
     "metadata": {},
     "output_type": "display_data"
    }
   ],
   "source": [
    "shapefile =r\"D:\\pythonCourse05-04-2024\\Git_Hub\\Sample_Data.shp\"\n",
    "roi = geemap.shp_to_ee(shapefile)\n",
    "region = roi.geometry()\n",
    "map = geemap.Map()\n",
    "map.centerObject(roi,14)\n",
    "map.addLayer(roi.style(**{'color':'FFFFFF', 'fillColor':'00000000'}) ,{},'boundary')\n",
    "start_date = '2020-01-01'\n",
    "end_date = '2020-12-30'\n"
   ]
  },
  {
   "cell_type": "markdown",
   "id": "f6aa86bc-2aa8-40f6-8413-062879b1f7ab",
   "metadata": {},
   "source": [
    " ## Load Sentinel-2 imagery from Google Earth Engine"
   ]
  },
  {
   "cell_type": "code",
   "execution_count": 88,
   "id": "7982b05d-53ad-4216-b444-383b71bed252",
   "metadata": {},
   "outputs": [
    {
     "data": {
      "text/html": [
       "\n",
       "            <style>\n",
       "                .geemap-dark {\n",
       "                    --jp-widgets-color: white;\n",
       "                    --jp-widgets-label-color: white;\n",
       "                    --jp-ui-font-color1: white;\n",
       "                    --jp-layout-color2: #454545;\n",
       "                    background-color: #383838;\n",
       "                }\n",
       "\n",
       "                .geemap-dark .jupyter-button {\n",
       "                    --jp-layout-color3: #383838;\n",
       "                }\n",
       "\n",
       "                .geemap-colab {\n",
       "                    background-color: var(--colab-primary-surface-color, white);\n",
       "                }\n",
       "\n",
       "                .geemap-colab .jupyter-button {\n",
       "                    --jp-layout-color3: var(--colab-primary-surface-color, white);\n",
       "                }\n",
       "            </style>\n",
       "            "
      ],
      "text/plain": [
       "<IPython.core.display.HTML object>"
      ]
     },
     "metadata": {},
     "output_type": "display_data"
    }
   ],
   "source": [
    "dataset = ee.ImageCollection(\"COPERNICUS/S2_SR_HARMONIZED\")\\\n",
    "            .filterBounds(roi)\\\n",
    "            .filterDate(start_date ,end_date)\\\n",
    "            # .filterMetadata('CLOUDY_PIXEL_PERCENTAGE','less_than',70)\n",
    "        \n",
    "sentinel2 = dataset.median().clip(roi)"
   ]
  },
  {
   "cell_type": "code",
   "execution_count": 89,
   "id": "d4593111-bf33-4b89-9fdc-d89cd0456336",
   "metadata": {},
   "outputs": [
    {
     "data": {
      "text/html": [
       "\n",
       "            <style>\n",
       "                .geemap-dark {\n",
       "                    --jp-widgets-color: white;\n",
       "                    --jp-widgets-label-color: white;\n",
       "                    --jp-ui-font-color1: white;\n",
       "                    --jp-layout-color2: #454545;\n",
       "                    background-color: #383838;\n",
       "                }\n",
       "\n",
       "                .geemap-dark .jupyter-button {\n",
       "                    --jp-layout-color3: #383838;\n",
       "                }\n",
       "\n",
       "                .geemap-colab {\n",
       "                    background-color: var(--colab-primary-surface-color, white);\n",
       "                }\n",
       "\n",
       "                .geemap-colab .jupyter-button {\n",
       "                    --jp-layout-color3: var(--colab-primary-surface-color, white);\n",
       "                }\n",
       "            </style>\n",
       "            "
      ],
      "text/plain": [
       "<IPython.core.display.HTML object>"
      ]
     },
     "metadata": {},
     "output_type": "display_data"
    }
   ],
   "source": [
    "red = sentinel2.select('B4')\n",
    "nir = sentinel2.select('B8')\n",
    "red_edge = sentinel2.select('B5')\n",
    "nirA = sentinel2.select('B8A')\n",
    "SWIR =  sentinel2.select('B11')\n"
   ]
  },
  {
   "cell_type": "markdown",
   "id": "1c409d5c-95f7-4ae6-86e3-b999837abb7e",
   "metadata": {},
   "source": [
    "##  Define visualization parameters"
   ]
  },
  {
   "cell_type": "code",
   "execution_count": 90,
   "id": "44cf9a02-9107-452a-ac30-ab0e19803e14",
   "metadata": {},
   "outputs": [
    {
     "data": {
      "text/html": [
       "\n",
       "            <style>\n",
       "                .geemap-dark {\n",
       "                    --jp-widgets-color: white;\n",
       "                    --jp-widgets-label-color: white;\n",
       "                    --jp-ui-font-color1: white;\n",
       "                    --jp-layout-color2: #454545;\n",
       "                    background-color: #383838;\n",
       "                }\n",
       "\n",
       "                .geemap-dark .jupyter-button {\n",
       "                    --jp-layout-color3: #383838;\n",
       "                }\n",
       "\n",
       "                .geemap-colab {\n",
       "                    background-color: var(--colab-primary-surface-color, white);\n",
       "                }\n",
       "\n",
       "                .geemap-colab .jupyter-button {\n",
       "                    --jp-layout-color3: var(--colab-primary-surface-color, white);\n",
       "                }\n",
       "            </style>\n",
       "            "
      ],
      "text/plain": [
       "<IPython.core.display.HTML object>"
      ]
     },
     "metadata": {},
     "output_type": "display_data"
    }
   ],
   "source": [
    "\n",
    "ndre_viz = {'palette': ['green', 'yellow', 'red'], 'min': -1, 'max': 1}\n",
    "ndmi_viz = {'palette': ['red', 'yellow', 'green'], 'min': -1, 'max': 1}\n",
    "ndvi_viz = {'palette': ['blue', 'white', 'green'], 'min': -1, 'max': 1}"
   ]
  },
  {
   "cell_type": "markdown",
   "id": "0beb4ef6-e0c3-429b-8609-c81f35c5e37c",
   "metadata": {},
   "source": [
    "## vegetation_indices calculation"
   ]
  },
  {
   "cell_type": "code",
   "execution_count": 91,
   "id": "f8c03eea-2a38-4b5e-96f0-ed11d5b0a55d",
   "metadata": {},
   "outputs": [
    {
     "data": {
      "text/html": [
       "\n",
       "            <style>\n",
       "                .geemap-dark {\n",
       "                    --jp-widgets-color: white;\n",
       "                    --jp-widgets-label-color: white;\n",
       "                    --jp-ui-font-color1: white;\n",
       "                    --jp-layout-color2: #454545;\n",
       "                    background-color: #383838;\n",
       "                }\n",
       "\n",
       "                .geemap-dark .jupyter-button {\n",
       "                    --jp-layout-color3: #383838;\n",
       "                }\n",
       "\n",
       "                .geemap-colab {\n",
       "                    background-color: var(--colab-primary-surface-color, white);\n",
       "                }\n",
       "\n",
       "                .geemap-colab .jupyter-button {\n",
       "                    --jp-layout-color3: var(--colab-primary-surface-color, white);\n",
       "                }\n",
       "            </style>\n",
       "            "
      ],
      "text/plain": [
       "<IPython.core.display.HTML object>"
      ]
     },
     "metadata": {},
     "output_type": "display_data"
    }
   ],
   "source": [
    "ndre = nir.subtract(red_edge).divide(nir.add(red_edge)).rename('NDRE')\n",
    "ndmi =nirA.subtract(SWIR).divide(nirA.add(SWIR)).rename('NDMI')\n",
    "ndvi = nir.subtract(red).divide(nir.add(red)).rename('NDVI')"
   ]
  },
  {
   "cell_type": "markdown",
   "id": "a00e6f96-d9b6-4e5a-80ee-714e776800f1",
   "metadata": {},
   "source": [
    "##  Add NDRE, NDMI, and NDVI layers to the map with visualization settings"
   ]
  },
  {
   "cell_type": "code",
   "execution_count": 164,
   "id": "5e8b3a96-6264-4426-829b-7c818f5b9c0a",
   "metadata": {},
   "outputs": [
    {
     "data": {
      "text/html": [
       "\n",
       "            <style>\n",
       "                .geemap-dark {\n",
       "                    --jp-widgets-color: white;\n",
       "                    --jp-widgets-label-color: white;\n",
       "                    --jp-ui-font-color1: white;\n",
       "                    --jp-layout-color2: #454545;\n",
       "                    background-color: #383838;\n",
       "                }\n",
       "\n",
       "                .geemap-dark .jupyter-button {\n",
       "                    --jp-layout-color3: #383838;\n",
       "                }\n",
       "\n",
       "                .geemap-colab {\n",
       "                    background-color: var(--colab-primary-surface-color, white);\n",
       "                }\n",
       "\n",
       "                .geemap-colab .jupyter-button {\n",
       "                    --jp-layout-color3: var(--colab-primary-surface-color, white);\n",
       "                }\n",
       "            </style>\n",
       "            "
      ],
      "text/plain": [
       "<IPython.core.display.HTML object>"
      ]
     },
     "metadata": {},
     "output_type": "display_data"
    },
    {
     "data": {
      "application/vnd.jupyter.widget-view+json": {
       "model_id": "b4fd196f532a4b9f995e417b64ea3511",
       "version_major": 2,
       "version_minor": 0
      },
      "text/plain": [
       "Map(bottom=133096.0, center=[-2.7785049961639174, 129.71145629882815], controls=(WidgetControl(options=['posit…"
      ]
     },
     "execution_count": 164,
     "metadata": {},
     "output_type": "execute_result"
    }
   ],
   "source": [
    "map.addLayer(ndre , ndre_viz , 'NDRE'  )\n",
    "map.addLayer(ndmi,ndmi_viz,'NDMI')\n",
    "map.addLayer(ndvi, ndvi_viz, 'NDVI')\n",
    "map"
   ]
  },
  {
   "cell_type": "markdown",
   "id": "26217399-b065-49e2-8fd2-709adcf4818f",
   "metadata": {},
   "source": [
    "## File paths for NDVI, NDRE, and NDMI raster datasets"
   ]
  },
  {
   "cell_type": "code",
   "execution_count": 93,
   "id": "3a2d9d24-8ee4-483a-b699-4b8ff655d36a",
   "metadata": {},
   "outputs": [
    {
     "data": {
      "text/html": [
       "\n",
       "            <style>\n",
       "                .geemap-dark {\n",
       "                    --jp-widgets-color: white;\n",
       "                    --jp-widgets-label-color: white;\n",
       "                    --jp-ui-font-color1: white;\n",
       "                    --jp-layout-color2: #454545;\n",
       "                    background-color: #383838;\n",
       "                }\n",
       "\n",
       "                .geemap-dark .jupyter-button {\n",
       "                    --jp-layout-color3: #383838;\n",
       "                }\n",
       "\n",
       "                .geemap-colab {\n",
       "                    background-color: var(--colab-primary-surface-color, white);\n",
       "                }\n",
       "\n",
       "                .geemap-colab .jupyter-button {\n",
       "                    --jp-layout-color3: var(--colab-primary-surface-color, white);\n",
       "                }\n",
       "            </style>\n",
       "            "
      ],
      "text/plain": [
       "<IPython.core.display.HTML object>"
      ]
     },
     "metadata": {},
     "output_type": "display_data"
    }
   ],
   "source": [
    "path_ndvi = r\"D:\\pythonCourse05-04-2024\\Git_Hub\\sample_ndvi.tif\"\n",
    "path_ndre =r\"D:\\pythonCourse05-04-2024\\Git_Hub\\sample_ndre.tif\"\n",
    "path_ndmi =r\"D:\\pythonCourse05-04-2024\\Git_Hub\\sample_ndmi.tif\""
   ]
  },
  {
   "cell_type": "code",
   "execution_count": 94,
   "id": "d0f6920d-dfda-4c69-8485-4566d81811e4",
   "metadata": {},
   "outputs": [
    {
     "data": {
      "text/html": [
       "\n",
       "            <style>\n",
       "                .geemap-dark {\n",
       "                    --jp-widgets-color: white;\n",
       "                    --jp-widgets-label-color: white;\n",
       "                    --jp-ui-font-color1: white;\n",
       "                    --jp-layout-color2: #454545;\n",
       "                    background-color: #383838;\n",
       "                }\n",
       "\n",
       "                .geemap-dark .jupyter-button {\n",
       "                    --jp-layout-color3: #383838;\n",
       "                }\n",
       "\n",
       "                .geemap-colab {\n",
       "                    background-color: var(--colab-primary-surface-color, white);\n",
       "                }\n",
       "\n",
       "                .geemap-colab .jupyter-button {\n",
       "                    --jp-layout-color3: var(--colab-primary-surface-color, white);\n",
       "                }\n",
       "            </style>\n",
       "            "
      ],
      "text/plain": [
       "<IPython.core.display.HTML object>"
      ]
     },
     "metadata": {},
     "output_type": "display_data"
    }
   ],
   "source": [
    "region = region  # Replace with your region of interest\n",
    "crs = 'EPSG:4326'\n",
    "scale = 10\n",
    "# Specify maxPixels as a keyword argument\n",
    "file_per_band = False"
   ]
  },
  {
   "cell_type": "markdown",
   "id": "4c2d2644-63d9-4e38-bae6-01d0fffff71d",
   "metadata": {},
   "source": [
    "## Export the NDVI image to the specified file path with defined region, CRS, and scale"
   ]
  },
  {
   "cell_type": "code",
   "execution_count": 95,
   "id": "8eb8b045-9ab7-46fd-88f4-fa183cc64164",
   "metadata": {},
   "outputs": [
    {
     "data": {
      "text/html": [
       "\n",
       "            <style>\n",
       "                .geemap-dark {\n",
       "                    --jp-widgets-color: white;\n",
       "                    --jp-widgets-label-color: white;\n",
       "                    --jp-ui-font-color1: white;\n",
       "                    --jp-layout-color2: #454545;\n",
       "                    background-color: #383838;\n",
       "                }\n",
       "\n",
       "                .geemap-dark .jupyter-button {\n",
       "                    --jp-layout-color3: #383838;\n",
       "                }\n",
       "\n",
       "                .geemap-colab {\n",
       "                    background-color: var(--colab-primary-surface-color, white);\n",
       "                }\n",
       "\n",
       "                .geemap-colab .jupyter-button {\n",
       "                    --jp-layout-color3: var(--colab-primary-surface-color, white);\n",
       "                }\n",
       "            </style>\n",
       "            "
      ],
      "text/plain": [
       "<IPython.core.display.HTML object>"
      ]
     },
     "metadata": {},
     "output_type": "display_data"
    },
    {
     "name": "stdout",
     "output_type": "stream",
     "text": [
      "Generating URL ...\n",
      "Downloading data from https://earthengine.googleapis.com/v1/projects/archanagis/thumbnails/91c2aa6210aabdda7abdd78f19d95340-dca5b06d5145c350a1bab9c32396b30a:getPixels\n",
      "Please wait ...\n",
      "Data downloaded to D:\\pythonCourse05-04-2024\\Git_Hub\\sample_ndvi.tif\n",
      "Export completed.\n"
     ]
    }
   ],
   "source": [
    "geemap.ee_export_image(\n",
    "    ndvi,\n",
    "    filename=path_ndvi,\n",
    "    region=region,\n",
    "    crs=crs,\n",
    "    scale=10,\n",
    "    file_per_band=file_per_band\n",
    ")\n",
    "\n",
    "print('Export completed.')"
   ]
  },
  {
   "cell_type": "markdown",
   "id": "3b2b161b-a93b-4eef-a26c-9f491b504b3d",
   "metadata": {},
   "source": [
    "## Export the NDRE image to the specified file path with defined region, CRS, and scale"
   ]
  },
  {
   "cell_type": "code",
   "execution_count": 96,
   "id": "6062e044-5077-4c1f-a423-a6b9bb651b1e",
   "metadata": {},
   "outputs": [
    {
     "data": {
      "text/html": [
       "\n",
       "            <style>\n",
       "                .geemap-dark {\n",
       "                    --jp-widgets-color: white;\n",
       "                    --jp-widgets-label-color: white;\n",
       "                    --jp-ui-font-color1: white;\n",
       "                    --jp-layout-color2: #454545;\n",
       "                    background-color: #383838;\n",
       "                }\n",
       "\n",
       "                .geemap-dark .jupyter-button {\n",
       "                    --jp-layout-color3: #383838;\n",
       "                }\n",
       "\n",
       "                .geemap-colab {\n",
       "                    background-color: var(--colab-primary-surface-color, white);\n",
       "                }\n",
       "\n",
       "                .geemap-colab .jupyter-button {\n",
       "                    --jp-layout-color3: var(--colab-primary-surface-color, white);\n",
       "                }\n",
       "            </style>\n",
       "            "
      ],
      "text/plain": [
       "<IPython.core.display.HTML object>"
      ]
     },
     "metadata": {},
     "output_type": "display_data"
    },
    {
     "name": "stdout",
     "output_type": "stream",
     "text": [
      "Generating URL ...\n",
      "Downloading data from https://earthengine.googleapis.com/v1/projects/archanagis/thumbnails/08a51f9753cabc802dbf67484c386153-659b0caa20677ef7880177cbbdefffa0:getPixels\n",
      "Please wait ...\n",
      "Data downloaded to D:\\pythonCourse05-04-2024\\Git_Hub\\sample_ndre.tif\n",
      "Export completed.\n"
     ]
    }
   ],
   "source": [
    "geemap.ee_export_image(\n",
    "    ndre,\n",
    "    filename=path_ndre,\n",
    "    region=region,\n",
    "    crs=crs,\n",
    "    scale=scale,\n",
    "    file_per_band=file_per_band\n",
    ")\n",
    "\n",
    "print('Export completed.')"
   ]
  },
  {
   "cell_type": "markdown",
   "id": "f23628fd-dc8c-4b0f-8022-bf93ac1410b9",
   "metadata": {},
   "source": [
    "## Export the NDMI image to the specified file path with defined region, CRS, and scale"
   ]
  },
  {
   "cell_type": "code",
   "execution_count": 97,
   "id": "37712c53-58e5-466f-9f0e-450e2fc1961f",
   "metadata": {},
   "outputs": [
    {
     "data": {
      "text/html": [
       "\n",
       "            <style>\n",
       "                .geemap-dark {\n",
       "                    --jp-widgets-color: white;\n",
       "                    --jp-widgets-label-color: white;\n",
       "                    --jp-ui-font-color1: white;\n",
       "                    --jp-layout-color2: #454545;\n",
       "                    background-color: #383838;\n",
       "                }\n",
       "\n",
       "                .geemap-dark .jupyter-button {\n",
       "                    --jp-layout-color3: #383838;\n",
       "                }\n",
       "\n",
       "                .geemap-colab {\n",
       "                    background-color: var(--colab-primary-surface-color, white);\n",
       "                }\n",
       "\n",
       "                .geemap-colab .jupyter-button {\n",
       "                    --jp-layout-color3: var(--colab-primary-surface-color, white);\n",
       "                }\n",
       "            </style>\n",
       "            "
      ],
      "text/plain": [
       "<IPython.core.display.HTML object>"
      ]
     },
     "metadata": {},
     "output_type": "display_data"
    },
    {
     "name": "stdout",
     "output_type": "stream",
     "text": [
      "Generating URL ...\n",
      "Downloading data from https://earthengine.googleapis.com/v1/projects/archanagis/thumbnails/7de5d70cc677b5fd9d7a0d8233f86d86-c0b908a318b55de28c1e481617e7a6a3:getPixels\n",
      "Please wait ...\n",
      "Data downloaded to D:\\pythonCourse05-04-2024\\Git_Hub\\sample_ndmi.tif\n",
      "Export completed\n"
     ]
    }
   ],
   "source": [
    "geemap.ee_export_image(\n",
    "    ndmi,\n",
    "    filename=path_ndmi,\n",
    "    region=region,\n",
    "    crs=crs,\n",
    "    scale=scale,\n",
    "    file_per_band=file_per_band\n",
    ")\n",
    "\n",
    "print(\"Export completed\")"
   ]
  },
  {
   "cell_type": "markdown",
   "id": "eacf4d00-dd3a-4a20-89b8-24c8825cddf3",
   "metadata": {},
   "source": [
    "## Function to calculate NDVI"
   ]
  },
  {
   "cell_type": "code",
   "execution_count": 98,
   "id": "2f9c869f-6deb-493a-a9d1-2ac7d8ceaa71",
   "metadata": {},
   "outputs": [
    {
     "data": {
      "text/html": [
       "\n",
       "            <style>\n",
       "                .geemap-dark {\n",
       "                    --jp-widgets-color: white;\n",
       "                    --jp-widgets-label-color: white;\n",
       "                    --jp-ui-font-color1: white;\n",
       "                    --jp-layout-color2: #454545;\n",
       "                    background-color: #383838;\n",
       "                }\n",
       "\n",
       "                .geemap-dark .jupyter-button {\n",
       "                    --jp-layout-color3: #383838;\n",
       "                }\n",
       "\n",
       "                .geemap-colab {\n",
       "                    background-color: var(--colab-primary-surface-color, white);\n",
       "                }\n",
       "\n",
       "                .geemap-colab .jupyter-button {\n",
       "                    --jp-layout-color3: var(--colab-primary-surface-color, white);\n",
       "                }\n",
       "            </style>\n",
       "            "
      ],
      "text/plain": [
       "<IPython.core.display.HTML object>"
      ]
     },
     "metadata": {},
     "output_type": "display_data"
    }
   ],
   "source": [
    "# Function to calculate NDVI\n",
    "def calculate_ndvi(image):\n",
    "    ndvi = image.normalizedDifference(['B8', 'B4']).rename('NDVI')\n",
    "    return image.addBands(ndvi)\n",
    "\n",
    "# Define functions to calculate NDRE and NDMI\n",
    "def calculate_ndre(image):\n",
    "    ndre = image.normalizedDifference(['B8', 'B5']).rename('NDRE')\n",
    "    return image.addBands(ndre)\n",
    "\n",
    "def calculate_ndmi(image):\n",
    "    ndmi = image.normalizedDifference(['B8', 'B11']).rename('NDMI')\n",
    "    return image.addBands(ndmi)\n",
    "    \n",
    "# Apply these functions to the dataset\n",
    "ndre_collection = dataset.map(calculate_ndre)\n",
    "ndmi_collection = dataset.map(calculate_ndmi)\n",
    "ndvi_collection = dataset.map(calculate_ndvi)\n"
   ]
  },
  {
   "cell_type": "markdown",
   "id": "2141d411-f316-4754-a88b-e6f5d40631cd",
   "metadata": {},
   "source": [
    "## Function to reduce the image collection to get NDVI stats"
   ]
  },
  {
   "cell_type": "code",
   "execution_count": 99,
   "id": "b588fa72-133a-4853-a205-7049896a7b69",
   "metadata": {},
   "outputs": [
    {
     "data": {
      "text/html": [
       "\n",
       "            <style>\n",
       "                .geemap-dark {\n",
       "                    --jp-widgets-color: white;\n",
       "                    --jp-widgets-label-color: white;\n",
       "                    --jp-ui-font-color1: white;\n",
       "                    --jp-layout-color2: #454545;\n",
       "                    background-color: #383838;\n",
       "                }\n",
       "\n",
       "                .geemap-dark .jupyter-button {\n",
       "                    --jp-layout-color3: #383838;\n",
       "                }\n",
       "\n",
       "                .geemap-colab {\n",
       "                    background-color: var(--colab-primary-surface-color, white);\n",
       "                }\n",
       "\n",
       "                .geemap-colab .jupyter-button {\n",
       "                    --jp-layout-color3: var(--colab-primary-surface-color, white);\n",
       "                }\n",
       "            </style>\n",
       "            "
      ],
      "text/plain": [
       "<IPython.core.display.HTML object>"
      ]
     },
     "metadata": {},
     "output_type": "display_data"
    }
   ],
   "source": [
    "# Function to reduce the image collection to get NDVI stats\n",
    "def reduce_image(image):\n",
    "    stats = image.reduceRegion(\n",
    "        reducer=ee.Reducer.mean().combine(\n",
    "            reducer2=ee.Reducer.minMax(),\n",
    "            sharedInputs=True\n",
    "        ).combine(\n",
    "            reducer2=ee.Reducer.stdDev(),\n",
    "            sharedInputs=True\n",
    "        ),\n",
    "        maxPixels=1e9,\n",
    "         bestEffort=True,\n",
    "        geometry=roi,\n",
    "        scale=10\n",
    "    )\n",
    "    return ee.Feature(None, {\n",
    "        'mean': stats.get('NDVI_mean'),\n",
    "        'min': stats.get('NDVI_min'),\n",
    "        'max': stats.get('NDVI_max'),\n",
    "        'stdDev': stats.get('NDVI_stdDev'),\n",
    "        'date': ee.Date(image.get('system:time_start')).format('YYYY-MM-dd')\n",
    "    })\n",
    "\n",
    "\n",
    "# Function to reduce the image collection to get NDRE stats\n",
    "def reduce_image_ndre(image):\n",
    "    stats = image.reduceRegion(\n",
    "        reducer=ee.Reducer.mean().combine(\n",
    "            reducer2=ee.Reducer.minMax(),\n",
    "            sharedInputs=True\n",
    "        ).combine(\n",
    "            reducer2=ee.Reducer.stdDev(),\n",
    "            sharedInputs=True\n",
    "        ),\n",
    "        maxPixels=1e9,\n",
    "        bestEffort=True,\n",
    "        geometry=roi,\n",
    "        scale=10\n",
    "    )\n",
    "    return ee.Feature(None, {\n",
    "        'mean': stats.get('NDRE_mean'),\n",
    "        'min': stats.get('NDRE_min'),\n",
    "        'max': stats.get('NDRE_max'),\n",
    "        'stdDev': stats.get('NDRE_stdDev'),\n",
    "        'date': ee.Date(image.get('system:time_start')).format('YYYY-MM-dd')\n",
    "    })\n",
    "\n",
    "# Function to reduce the image collection to get NDMI stats\n",
    "def reduce_image_ndmi(image):\n",
    "    stats = image.reduceRegion(\n",
    "        reducer=ee.Reducer.mean().combine(\n",
    "            reducer2=ee.Reducer.minMax(),\n",
    "            sharedInputs=True\n",
    "        ).combine(\n",
    "            reducer2=ee.Reducer.stdDev(),\n",
    "            sharedInputs=True\n",
    "        ),\n",
    "        maxPixels=1e9,\n",
    "        bestEffort=True,\n",
    "        geometry=roi,\n",
    "        scale=10\n",
    "    )\n",
    "    return ee.Feature(None, {\n",
    "        'mean': stats.get('NDMI_mean'),\n",
    "        'min': stats.get('NDMI_min'),\n",
    "        'max': stats.get('NDMI_max'),\n",
    "        'stdDev': stats.get('NDMI_stdDev'),\n",
    "        'date': ee.Date(image.get('system:time_start')).format('YYYY-MM-dd')\n",
    "    })"
   ]
  },
  {
   "cell_type": "markdown",
   "id": "723603a6-30cd-4c66-a86c-ef18dee14373",
   "metadata": {},
   "source": [
    "# Reduce the collection by applying the reduce_image function to each image in the NDVI collection\n",
    "### and filtering out images where the 'mean' value is null."
   ]
  },
  {
   "cell_type": "code",
   "execution_count": 100,
   "id": "e88cbc9e-59a3-43a9-97e8-6aaa1233d0c3",
   "metadata": {},
   "outputs": [
    {
     "data": {
      "text/html": [
       "\n",
       "            <style>\n",
       "                .geemap-dark {\n",
       "                    --jp-widgets-color: white;\n",
       "                    --jp-widgets-label-color: white;\n",
       "                    --jp-ui-font-color1: white;\n",
       "                    --jp-layout-color2: #454545;\n",
       "                    background-color: #383838;\n",
       "                }\n",
       "\n",
       "                .geemap-dark .jupyter-button {\n",
       "                    --jp-layout-color3: #383838;\n",
       "                }\n",
       "\n",
       "                .geemap-colab {\n",
       "                    background-color: var(--colab-primary-surface-color, white);\n",
       "                }\n",
       "\n",
       "                .geemap-colab .jupyter-button {\n",
       "                    --jp-layout-color3: var(--colab-primary-surface-color, white);\n",
       "                }\n",
       "            </style>\n",
       "            "
      ],
      "text/plain": [
       "<IPython.core.display.HTML object>"
      ]
     },
     "metadata": {},
     "output_type": "display_data"
    }
   ],
   "source": [
    "# Reduce the collection\n",
    "ndvi_stats = ndvi_collection.map(reduce_image).filter(ee.Filter.notNull(['mean']))\n",
    "ndre_stats = ndre_collection.map(reduce_image_ndre).filter(ee.Filter.notNull(['mean']))\n",
    "ndmi_stats = ndmi_collection.map(reduce_image_ndmi).filter(ee.Filter.notNull(['mean']))\n",
    "\n",
    "# Get the list of dates and values\n",
    "dates = ndvi_stats.aggregate_array('date').getInfo()\n",
    "ndvi_means = ndvi_stats.aggregate_array('mean').getInfo()\n",
    "ndvi_mins = ndvi_stats.aggregate_array('min').getInfo()\n",
    "ndvi_maxs = ndvi_stats.aggregate_array('max').getInfo()\n",
    "ndvi_stds = ndvi_stats.aggregate_array('stdDev').getInfo()\n",
    "\n",
    "# Get the list of dates and values for NDRE\n",
    "ndre_dates = ndre_stats.aggregate_array('date').getInfo()\n",
    "ndre_means = ndre_stats.aggregate_array('mean').getInfo()\n",
    "ndre_mins = ndre_stats.aggregate_array('min').getInfo()\n",
    "ndre_maxs = ndre_stats.aggregate_array('max').getInfo()\n",
    "ndre_stds = ndre_stats.aggregate_array('stdDev').getInfo()\n",
    "\n",
    "# Get the list of dates and values for NDMI\n",
    "ndmi_dates = ndmi_stats.aggregate_array('date').getInfo()\n",
    "ndmi_means = ndmi_stats.aggregate_array('mean').getInfo()\n",
    "ndmi_mins = ndmi_stats.aggregate_array('min').getInfo()\n",
    "ndmi_maxs = ndmi_stats.aggregate_array('max').getInfo()\n",
    "ndmi_stds = ndmi_stats.aggregate_array('stdDev').getInfo()"
   ]
  },
  {
   "cell_type": "markdown",
   "id": "a8e24ccb-d272-453d-a41c-307e6bcb0f8a",
   "metadata": {},
   "source": [
    "## Create a DataFrame"
   ]
  },
  {
   "cell_type": "code",
   "execution_count": 101,
   "id": "2f0173ff-b221-4e94-85ef-cd88b5eea47d",
   "metadata": {},
   "outputs": [
    {
     "data": {
      "text/html": [
       "\n",
       "            <style>\n",
       "                .geemap-dark {\n",
       "                    --jp-widgets-color: white;\n",
       "                    --jp-widgets-label-color: white;\n",
       "                    --jp-ui-font-color1: white;\n",
       "                    --jp-layout-color2: #454545;\n",
       "                    background-color: #383838;\n",
       "                }\n",
       "\n",
       "                .geemap-dark .jupyter-button {\n",
       "                    --jp-layout-color3: #383838;\n",
       "                }\n",
       "\n",
       "                .geemap-colab {\n",
       "                    background-color: var(--colab-primary-surface-color, white);\n",
       "                }\n",
       "\n",
       "                .geemap-colab .jupyter-button {\n",
       "                    --jp-layout-color3: var(--colab-primary-surface-color, white);\n",
       "                }\n",
       "            </style>\n",
       "            "
      ],
      "text/plain": [
       "<IPython.core.display.HTML object>"
      ]
     },
     "metadata": {},
     "output_type": "display_data"
    }
   ],
   "source": [
    "\n",
    "data = pd.DataFrame({\n",
    "    'Date': pd.to_datetime(dates),\n",
    "    'NDVI_mean': ndvi_means,\n",
    "    'NDVI_min': ndvi_mins,\n",
    "    'NDVI_max': ndvi_maxs,\n",
    "    'NDVI_stdDev': ndvi_stds\n",
    "})\n",
    "\n",
    "\n",
    "ndre_data = pd.DataFrame({\n",
    "    'Date': pd.to_datetime(ndre_dates),\n",
    "    'NDRE_mean': ndre_means,\n",
    "    'NDRE_min': ndre_mins,\n",
    "    'NDRE_max': ndre_maxs,\n",
    "    'NDRE_stdDev': ndre_stds\n",
    "})\n",
    "\n",
    "ndmi_data = pd.DataFrame({\n",
    "    'Date': pd.to_datetime(ndmi_dates),\n",
    "    'NDMI_mean': ndmi_means,\n",
    "    'NDMI_min': ndmi_mins,\n",
    "    'NDMI_max': ndmi_maxs,\n",
    "    'NDMI_stdDev': ndmi_stds\n",
    "})"
   ]
  },
  {
   "cell_type": "markdown",
   "id": "c056f75d-43c8-47bf-812c-6a7458c3d42d",
   "metadata": {},
   "source": [
    "# Plot the data"
   ]
  },
  {
   "cell_type": "code",
   "execution_count": 102,
   "id": "a8f9c137-a575-4ddd-b29c-deb5a9b89381",
   "metadata": {},
   "outputs": [
    {
     "data": {
      "text/html": [
       "\n",
       "            <style>\n",
       "                .geemap-dark {\n",
       "                    --jp-widgets-color: white;\n",
       "                    --jp-widgets-label-color: white;\n",
       "                    --jp-ui-font-color1: white;\n",
       "                    --jp-layout-color2: #454545;\n",
       "                    background-color: #383838;\n",
       "                }\n",
       "\n",
       "                .geemap-dark .jupyter-button {\n",
       "                    --jp-layout-color3: #383838;\n",
       "                }\n",
       "\n",
       "                .geemap-colab {\n",
       "                    background-color: var(--colab-primary-surface-color, white);\n",
       "                }\n",
       "\n",
       "                .geemap-colab .jupyter-button {\n",
       "                    --jp-layout-color3: var(--colab-primary-surface-color, white);\n",
       "                }\n",
       "            </style>\n",
       "            "
      ],
      "text/plain": [
       "<IPython.core.display.HTML object>"
      ]
     },
     "metadata": {},
     "output_type": "display_data"
    },
    {
     "data": {
      "application/vnd.plotly.v1+json": {
       "config": {
        "plotlyServerURL": "https://plot.ly"
       },
       "data": [
        {
         "hovertemplate": "Date=%{x}<br>Band mean=%{y}<extra></extra>",
         "legendgroup": "",
         "line": {
          "color": "#636efa",
          "dash": "solid"
         },
         "marker": {
          "symbol": "circle"
         },
         "mode": "lines",
         "name": "",
         "orientation": "v",
         "showlegend": false,
         "type": "scatter",
         "x": [
          "2020-01-03T00:00:00",
          "2020-01-08T00:00:00",
          "2020-01-13T00:00:00",
          "2020-01-18T00:00:00",
          "2020-01-23T00:00:00",
          "2020-01-28T00:00:00",
          "2020-02-02T00:00:00",
          "2020-02-07T00:00:00",
          "2020-02-12T00:00:00",
          "2020-02-17T00:00:00",
          "2020-02-17T00:00:00",
          "2020-02-22T00:00:00",
          "2020-02-27T00:00:00",
          "2020-03-03T00:00:00",
          "2020-03-08T00:00:00",
          "2020-03-13T00:00:00",
          "2020-03-18T00:00:00",
          "2020-03-23T00:00:00",
          "2020-03-28T00:00:00",
          "2020-04-02T00:00:00",
          "2020-04-07T00:00:00",
          "2020-04-12T00:00:00",
          "2020-04-17T00:00:00",
          "2020-04-22T00:00:00",
          "2020-04-27T00:00:00",
          "2020-05-02T00:00:00",
          "2020-05-07T00:00:00",
          "2020-05-12T00:00:00",
          "2020-05-17T00:00:00",
          "2020-05-22T00:00:00",
          "2020-05-27T00:00:00",
          "2020-06-01T00:00:00",
          "2020-06-06T00:00:00",
          "2020-06-11T00:00:00",
          "2020-06-16T00:00:00",
          "2020-06-21T00:00:00",
          "2020-06-26T00:00:00",
          "2020-07-01T00:00:00",
          "2020-07-06T00:00:00",
          "2020-07-11T00:00:00",
          "2020-07-16T00:00:00",
          "2020-07-21T00:00:00",
          "2020-07-26T00:00:00",
          "2020-07-31T00:00:00",
          "2020-08-05T00:00:00",
          "2020-08-10T00:00:00",
          "2020-08-15T00:00:00",
          "2020-08-20T00:00:00",
          "2020-08-25T00:00:00",
          "2020-08-30T00:00:00",
          "2020-09-04T00:00:00",
          "2020-09-09T00:00:00",
          "2020-09-14T00:00:00",
          "2020-09-19T00:00:00",
          "2020-09-24T00:00:00",
          "2020-09-29T00:00:00",
          "2020-10-04T00:00:00",
          "2020-10-09T00:00:00",
          "2020-10-14T00:00:00",
          "2020-10-19T00:00:00",
          "2020-10-24T00:00:00",
          "2020-11-03T00:00:00",
          "2020-11-08T00:00:00",
          "2020-11-13T00:00:00",
          "2020-11-18T00:00:00",
          "2020-11-23T00:00:00",
          "2020-11-28T00:00:00",
          "2020-12-03T00:00:00",
          "2020-12-08T00:00:00",
          "2020-12-13T00:00:00",
          "2020-12-18T00:00:00",
          "2020-12-23T00:00:00",
          "2020-12-28T00:00:00"
         ],
         "xaxis": "x",
         "y": [
          0.3098335446977751,
          0.18943828964418896,
          0.5218983076888587,
          0.44226555057745937,
          0.5530087390208965,
          0.5310770744145515,
          0.5919847883086822,
          0.04167243593139262,
          0.5046188075060071,
          0.02724311478841398,
          0.02030117218159227,
          0.4043292473175062,
          0.027193108896640318,
          0.5583623542011499,
          0.057513830826964506,
          0.0008726948121766751,
          0.05744553308607931,
          0.3851386900906009,
          0.27736692998977436,
          -0.0057491534452963145,
          0.7149863346225934,
          0.49232967951404955,
          0.07994533915846645,
          0.2912423938870587,
          0.2785409472896362,
          0.7988751506865822,
          0.7302190855026107,
          0.6413879190425094,
          0.4110165298320968,
          0.19069345376929903,
          0.8202943079235623,
          0.4912520918342615,
          0.6480427680865227,
          0.25110753075139974,
          0.09832896867667623,
          0.4371542492677912,
          0.7353818562526527,
          0.0004707146644729359,
          0.2332354943212933,
          0.34921389390953445,
          0.1259620699099682,
          0.45221981298783215,
          0.0071230141095083455,
          0.48365692269849925,
          0.3038993034176736,
          0.5898068387850232,
          -0.008543794384782647,
          0.557575981170575,
          0.44310809589063777,
          0.581448811075108,
          -0.008277365997668677,
          0.5331654711509279,
          0.02740085132618272,
          0.1953743895630972,
          0.2680501263200976,
          0.00953173662972789,
          0.2540365136915058,
          0.7386985136337952,
          0.21974450297929615,
          0.6604230800540207,
          0.6180103682109751,
          0.18856726259687473,
          0.5329139931384393,
          0.5676853778920045,
          0.6036390803143574,
          0.08610867959933458,
          -0.0031673448853182643,
          0.36749375049078953,
          0.13055911971580292,
          0.48928359688731443,
          0.03666570762785793,
          0.7675776312416372,
          0.036373578166547064
         ],
         "yaxis": "y"
        }
       ],
       "layout": {
        "autosize": true,
        "legend": {
         "tracegroupgap": 0
        },
        "template": {
         "data": {
          "bar": [
           {
            "error_x": {
             "color": "#2a3f5f"
            },
            "error_y": {
             "color": "#2a3f5f"
            },
            "marker": {
             "line": {
              "color": "#E5ECF6",
              "width": 0.5
             },
             "pattern": {
              "fillmode": "overlay",
              "size": 10,
              "solidity": 0.2
             }
            },
            "type": "bar"
           }
          ],
          "barpolar": [
           {
            "marker": {
             "line": {
              "color": "#E5ECF6",
              "width": 0.5
             },
             "pattern": {
              "fillmode": "overlay",
              "size": 10,
              "solidity": 0.2
             }
            },
            "type": "barpolar"
           }
          ],
          "carpet": [
           {
            "aaxis": {
             "endlinecolor": "#2a3f5f",
             "gridcolor": "white",
             "linecolor": "white",
             "minorgridcolor": "white",
             "startlinecolor": "#2a3f5f"
            },
            "baxis": {
             "endlinecolor": "#2a3f5f",
             "gridcolor": "white",
             "linecolor": "white",
             "minorgridcolor": "white",
             "startlinecolor": "#2a3f5f"
            },
            "type": "carpet"
           }
          ],
          "choropleth": [
           {
            "colorbar": {
             "outlinewidth": 0,
             "ticks": ""
            },
            "type": "choropleth"
           }
          ],
          "contour": [
           {
            "colorbar": {
             "outlinewidth": 0,
             "ticks": ""
            },
            "colorscale": [
             [
              0,
              "#0d0887"
             ],
             [
              0.1111111111111111,
              "#46039f"
             ],
             [
              0.2222222222222222,
              "#7201a8"
             ],
             [
              0.3333333333333333,
              "#9c179e"
             ],
             [
              0.4444444444444444,
              "#bd3786"
             ],
             [
              0.5555555555555556,
              "#d8576b"
             ],
             [
              0.6666666666666666,
              "#ed7953"
             ],
             [
              0.7777777777777778,
              "#fb9f3a"
             ],
             [
              0.8888888888888888,
              "#fdca26"
             ],
             [
              1,
              "#f0f921"
             ]
            ],
            "type": "contour"
           }
          ],
          "contourcarpet": [
           {
            "colorbar": {
             "outlinewidth": 0,
             "ticks": ""
            },
            "type": "contourcarpet"
           }
          ],
          "heatmap": [
           {
            "colorbar": {
             "outlinewidth": 0,
             "ticks": ""
            },
            "colorscale": [
             [
              0,
              "#0d0887"
             ],
             [
              0.1111111111111111,
              "#46039f"
             ],
             [
              0.2222222222222222,
              "#7201a8"
             ],
             [
              0.3333333333333333,
              "#9c179e"
             ],
             [
              0.4444444444444444,
              "#bd3786"
             ],
             [
              0.5555555555555556,
              "#d8576b"
             ],
             [
              0.6666666666666666,
              "#ed7953"
             ],
             [
              0.7777777777777778,
              "#fb9f3a"
             ],
             [
              0.8888888888888888,
              "#fdca26"
             ],
             [
              1,
              "#f0f921"
             ]
            ],
            "type": "heatmap"
           }
          ],
          "heatmapgl": [
           {
            "colorbar": {
             "outlinewidth": 0,
             "ticks": ""
            },
            "colorscale": [
             [
              0,
              "#0d0887"
             ],
             [
              0.1111111111111111,
              "#46039f"
             ],
             [
              0.2222222222222222,
              "#7201a8"
             ],
             [
              0.3333333333333333,
              "#9c179e"
             ],
             [
              0.4444444444444444,
              "#bd3786"
             ],
             [
              0.5555555555555556,
              "#d8576b"
             ],
             [
              0.6666666666666666,
              "#ed7953"
             ],
             [
              0.7777777777777778,
              "#fb9f3a"
             ],
             [
              0.8888888888888888,
              "#fdca26"
             ],
             [
              1,
              "#f0f921"
             ]
            ],
            "type": "heatmapgl"
           }
          ],
          "histogram": [
           {
            "marker": {
             "pattern": {
              "fillmode": "overlay",
              "size": 10,
              "solidity": 0.2
             }
            },
            "type": "histogram"
           }
          ],
          "histogram2d": [
           {
            "colorbar": {
             "outlinewidth": 0,
             "ticks": ""
            },
            "colorscale": [
             [
              0,
              "#0d0887"
             ],
             [
              0.1111111111111111,
              "#46039f"
             ],
             [
              0.2222222222222222,
              "#7201a8"
             ],
             [
              0.3333333333333333,
              "#9c179e"
             ],
             [
              0.4444444444444444,
              "#bd3786"
             ],
             [
              0.5555555555555556,
              "#d8576b"
             ],
             [
              0.6666666666666666,
              "#ed7953"
             ],
             [
              0.7777777777777778,
              "#fb9f3a"
             ],
             [
              0.8888888888888888,
              "#fdca26"
             ],
             [
              1,
              "#f0f921"
             ]
            ],
            "type": "histogram2d"
           }
          ],
          "histogram2dcontour": [
           {
            "colorbar": {
             "outlinewidth": 0,
             "ticks": ""
            },
            "colorscale": [
             [
              0,
              "#0d0887"
             ],
             [
              0.1111111111111111,
              "#46039f"
             ],
             [
              0.2222222222222222,
              "#7201a8"
             ],
             [
              0.3333333333333333,
              "#9c179e"
             ],
             [
              0.4444444444444444,
              "#bd3786"
             ],
             [
              0.5555555555555556,
              "#d8576b"
             ],
             [
              0.6666666666666666,
              "#ed7953"
             ],
             [
              0.7777777777777778,
              "#fb9f3a"
             ],
             [
              0.8888888888888888,
              "#fdca26"
             ],
             [
              1,
              "#f0f921"
             ]
            ],
            "type": "histogram2dcontour"
           }
          ],
          "mesh3d": [
           {
            "colorbar": {
             "outlinewidth": 0,
             "ticks": ""
            },
            "type": "mesh3d"
           }
          ],
          "parcoords": [
           {
            "line": {
             "colorbar": {
              "outlinewidth": 0,
              "ticks": ""
             }
            },
            "type": "parcoords"
           }
          ],
          "pie": [
           {
            "automargin": true,
            "type": "pie"
           }
          ],
          "scatter": [
           {
            "fillpattern": {
             "fillmode": "overlay",
             "size": 10,
             "solidity": 0.2
            },
            "type": "scatter"
           }
          ],
          "scatter3d": [
           {
            "line": {
             "colorbar": {
              "outlinewidth": 0,
              "ticks": ""
             }
            },
            "marker": {
             "colorbar": {
              "outlinewidth": 0,
              "ticks": ""
             }
            },
            "type": "scatter3d"
           }
          ],
          "scattercarpet": [
           {
            "marker": {
             "colorbar": {
              "outlinewidth": 0,
              "ticks": ""
             }
            },
            "type": "scattercarpet"
           }
          ],
          "scattergeo": [
           {
            "marker": {
             "colorbar": {
              "outlinewidth": 0,
              "ticks": ""
             }
            },
            "type": "scattergeo"
           }
          ],
          "scattergl": [
           {
            "marker": {
             "colorbar": {
              "outlinewidth": 0,
              "ticks": ""
             }
            },
            "type": "scattergl"
           }
          ],
          "scattermapbox": [
           {
            "marker": {
             "colorbar": {
              "outlinewidth": 0,
              "ticks": ""
             }
            },
            "type": "scattermapbox"
           }
          ],
          "scatterpolar": [
           {
            "marker": {
             "colorbar": {
              "outlinewidth": 0,
              "ticks": ""
             }
            },
            "type": "scatterpolar"
           }
          ],
          "scatterpolargl": [
           {
            "marker": {
             "colorbar": {
              "outlinewidth": 0,
              "ticks": ""
             }
            },
            "type": "scatterpolargl"
           }
          ],
          "scatterternary": [
           {
            "marker": {
             "colorbar": {
              "outlinewidth": 0,
              "ticks": ""
             }
            },
            "type": "scatterternary"
           }
          ],
          "surface": [
           {
            "colorbar": {
             "outlinewidth": 0,
             "ticks": ""
            },
            "colorscale": [
             [
              0,
              "#0d0887"
             ],
             [
              0.1111111111111111,
              "#46039f"
             ],
             [
              0.2222222222222222,
              "#7201a8"
             ],
             [
              0.3333333333333333,
              "#9c179e"
             ],
             [
              0.4444444444444444,
              "#bd3786"
             ],
             [
              0.5555555555555556,
              "#d8576b"
             ],
             [
              0.6666666666666666,
              "#ed7953"
             ],
             [
              0.7777777777777778,
              "#fb9f3a"
             ],
             [
              0.8888888888888888,
              "#fdca26"
             ],
             [
              1,
              "#f0f921"
             ]
            ],
            "type": "surface"
           }
          ],
          "table": [
           {
            "cells": {
             "fill": {
              "color": "#EBF0F8"
             },
             "line": {
              "color": "white"
             }
            },
            "header": {
             "fill": {
              "color": "#C8D4E3"
             },
             "line": {
              "color": "white"
             }
            },
            "type": "table"
           }
          ]
         },
         "layout": {
          "annotationdefaults": {
           "arrowcolor": "#2a3f5f",
           "arrowhead": 0,
           "arrowwidth": 1
          },
          "autotypenumbers": "strict",
          "coloraxis": {
           "colorbar": {
            "outlinewidth": 0,
            "ticks": ""
           }
          },
          "colorscale": {
           "diverging": [
            [
             0,
             "#8e0152"
            ],
            [
             0.1,
             "#c51b7d"
            ],
            [
             0.2,
             "#de77ae"
            ],
            [
             0.3,
             "#f1b6da"
            ],
            [
             0.4,
             "#fde0ef"
            ],
            [
             0.5,
             "#f7f7f7"
            ],
            [
             0.6,
             "#e6f5d0"
            ],
            [
             0.7,
             "#b8e186"
            ],
            [
             0.8,
             "#7fbc41"
            ],
            [
             0.9,
             "#4d9221"
            ],
            [
             1,
             "#276419"
            ]
           ],
           "sequential": [
            [
             0,
             "#0d0887"
            ],
            [
             0.1111111111111111,
             "#46039f"
            ],
            [
             0.2222222222222222,
             "#7201a8"
            ],
            [
             0.3333333333333333,
             "#9c179e"
            ],
            [
             0.4444444444444444,
             "#bd3786"
            ],
            [
             0.5555555555555556,
             "#d8576b"
            ],
            [
             0.6666666666666666,
             "#ed7953"
            ],
            [
             0.7777777777777778,
             "#fb9f3a"
            ],
            [
             0.8888888888888888,
             "#fdca26"
            ],
            [
             1,
             "#f0f921"
            ]
           ],
           "sequentialminus": [
            [
             0,
             "#0d0887"
            ],
            [
             0.1111111111111111,
             "#46039f"
            ],
            [
             0.2222222222222222,
             "#7201a8"
            ],
            [
             0.3333333333333333,
             "#9c179e"
            ],
            [
             0.4444444444444444,
             "#bd3786"
            ],
            [
             0.5555555555555556,
             "#d8576b"
            ],
            [
             0.6666666666666666,
             "#ed7953"
            ],
            [
             0.7777777777777778,
             "#fb9f3a"
            ],
            [
             0.8888888888888888,
             "#fdca26"
            ],
            [
             1,
             "#f0f921"
            ]
           ]
          },
          "colorway": [
           "#636efa",
           "#EF553B",
           "#00cc96",
           "#ab63fa",
           "#FFA15A",
           "#19d3f3",
           "#FF6692",
           "#B6E880",
           "#FF97FF",
           "#FECB52"
          ],
          "font": {
           "color": "#2a3f5f"
          },
          "geo": {
           "bgcolor": "white",
           "lakecolor": "white",
           "landcolor": "#E5ECF6",
           "showlakes": true,
           "showland": true,
           "subunitcolor": "white"
          },
          "hoverlabel": {
           "align": "left"
          },
          "hovermode": "closest",
          "mapbox": {
           "style": "light"
          },
          "paper_bgcolor": "white",
          "plot_bgcolor": "#E5ECF6",
          "polar": {
           "angularaxis": {
            "gridcolor": "white",
            "linecolor": "white",
            "ticks": ""
           },
           "bgcolor": "#E5ECF6",
           "radialaxis": {
            "gridcolor": "white",
            "linecolor": "white",
            "ticks": ""
           }
          },
          "scene": {
           "xaxis": {
            "backgroundcolor": "#E5ECF6",
            "gridcolor": "white",
            "gridwidth": 2,
            "linecolor": "white",
            "showbackground": true,
            "ticks": "",
            "zerolinecolor": "white"
           },
           "yaxis": {
            "backgroundcolor": "#E5ECF6",
            "gridcolor": "white",
            "gridwidth": 2,
            "linecolor": "white",
            "showbackground": true,
            "ticks": "",
            "zerolinecolor": "white"
           },
           "zaxis": {
            "backgroundcolor": "#E5ECF6",
            "gridcolor": "white",
            "gridwidth": 2,
            "linecolor": "white",
            "showbackground": true,
            "ticks": "",
            "zerolinecolor": "white"
           }
          },
          "shapedefaults": {
           "line": {
            "color": "#2a3f5f"
           }
          },
          "ternary": {
           "aaxis": {
            "gridcolor": "white",
            "linecolor": "white",
            "ticks": ""
           },
           "baxis": {
            "gridcolor": "white",
            "linecolor": "white",
            "ticks": ""
           },
           "bgcolor": "#E5ECF6",
           "caxis": {
            "gridcolor": "white",
            "linecolor": "white",
            "ticks": ""
           }
          },
          "title": {
           "x": 0.05
          },
          "xaxis": {
           "automargin": true,
           "gridcolor": "white",
           "linecolor": "white",
           "ticks": "",
           "title": {
            "standoff": 15
           },
           "zerolinecolor": "white",
           "zerolinewidth": 2
          },
          "yaxis": {
           "automargin": true,
           "gridcolor": "white",
           "linecolor": "white",
           "ticks": "",
           "title": {
            "standoff": 15
           },
           "zerolinecolor": "white",
           "zerolinewidth": 2
          }
         }
        },
        "title": {
         "text": "NDVI Time Series"
        },
        "xaxis": {
         "anchor": "y",
         "autorange": true,
         "domain": [
          0,
          1
         ],
         "range": [
          "2020-01-03",
          "2020-12-28"
         ],
         "title": {
          "text": "Date"
         },
         "type": "date"
        },
        "yaxis": {
         "anchor": "x",
         "autorange": true,
         "domain": [
          0,
          1
         ],
         "range": [
          -0.05459035562413515,
          0.8663408691629148
         ],
         "title": {
          "text": "Band mean"
         },
         "type": "linear"
        }
       }
      },
      "image/png": "[encoded data removed]",
      "text/html": [
       "<div>                            <div id=\"93877973-81c9-4f29-959d-8932aa129857\" class=\"plotly-graph-div\" style=\"height:525px; width:100%;\"></div>            <script type=\"text/javascript\">                require([\"plotly\"], function(Plotly) {                    window.PLOTLYENV=window.PLOTLYENV || {};                                    if (document.getElementById(\"93877973-81c9-4f29-959d-8932aa129857\")) {                    Plotly.newPlot(                        \"93877973-81c9-4f29-959d-8932aa129857\",                        [{\"hovertemplate\":\"Date=%{x}\\u003cbr\\u003eBand mean=%{y}\\u003cextra\\u003e\\u003c\\u002fextra\\u003e\",\"legendgroup\":\"\",\"line\":{\"color\":\"#636efa\",\"dash\":\"solid\"},\"marker\":{\"symbol\":\"circle\"},\"mode\":\"lines\",\"name\":\"\",\"orientation\":\"v\",\"showlegend\":false,\"x\":[\"2020-01-03T00:00:00\",\"2020-01-08T00:00:00\",\"2020-01-13T00:00:00\",\"2020-01-18T00:00:00\",\"2020-01-23T00:00:00\",\"2020-01-28T00:00:00\",\"2020-02-02T00:00:00\",\"2020-02-07T00:00:00\",\"2020-02-12T00:00:00\",\"2020-02-17T00:00:00\",\"2020-02-17T00:00:00\",\"2020-02-22T00:00:00\",\"2020-02-27T00:00:00\",\"2020-03-03T00:00:00\",\"2020-03-08T00:00:00\",\"2020-03-13T00:00:00\",\"2020-03-18T00:00:00\",\"2020-03-23T00:00:00\",\"2020-03-28T00:00:00\",\"2020-04-02T00:00:00\",\"2020-04-07T00:00:00\",\"2020-04-12T00:00:00\",\"2020-04-17T00:00:00\",\"2020-04-22T00:00:00\",\"2020-04-27T00:00:00\",\"2020-05-02T00:00:00\",\"2020-05-07T00:00:00\",\"2020-05-12T00:00:00\",\"2020-05-17T00:00:00\",\"2020-05-22T00:00:00\",\"2020-05-27T00:00:00\",\"2020-06-01T00:00:00\",\"2020-06-06T00:00:00\",\"2020-06-11T00:00:00\",\"2020-06-16T00:00:00\",\"2020-06-21T00:00:00\",\"2020-06-26T00:00:00\",\"2020-07-01T00:00:00\",\"2020-07-06T00:00:00\",\"2020-07-11T00:00:00\",\"2020-07-16T00:00:00\",\"2020-07-21T00:00:00\",\"2020-07-26T00:00:00\",\"2020-07-31T00:00:00\",\"2020-08-05T00:00:00\",\"2020-08-10T00:00:00\",\"2020-08-15T00:00:00\",\"2020-08-20T00:00:00\",\"2020-08-25T00:00:00\",\"2020-08-30T00:00:00\",\"2020-09-04T00:00:00\",\"2020-09-09T00:00:00\",\"2020-09-14T00:00:00\",\"2020-09-19T00:00:00\",\"2020-09-24T00:00:00\",\"2020-09-29T00:00:00\",\"2020-10-04T00:00:00\",\"2020-10-09T00:00:00\",\"2020-10-14T00:00:00\",\"2020-10-19T00:00:00\",\"2020-10-24T00:00:00\",\"2020-11-03T00:00:00\",\"2020-11-08T00:00:00\",\"2020-11-13T00:00:00\",\"2020-11-18T00:00:00\",\"2020-11-23T00:00:00\",\"2020-11-28T00:00:00\",\"2020-12-03T00:00:00\",\"2020-12-08T00:00:00\",\"2020-12-13T00:00:00\",\"2020-12-18T00:00:00\",\"2020-12-23T00:00:00\",\"2020-12-28T00:00:00\"],\"xaxis\":\"x\",\"y\":[0.3098335446977751,0.18943828964418896,0.5218983076888587,0.44226555057745937,0.5530087390208965,0.5310770744145515,0.5919847883086822,0.04167243593139262,0.5046188075060071,0.02724311478841398,0.02030117218159227,0.4043292473175062,0.027193108896640318,0.5583623542011499,0.057513830826964506,0.0008726948121766751,0.05744553308607931,0.3851386900906009,0.27736692998977436,-0.0057491534452963145,0.7149863346225934,0.49232967951404955,0.07994533915846645,0.2912423938870587,0.2785409472896362,0.7988751506865822,0.7302190855026107,0.6413879190425094,0.4110165298320968,0.19069345376929903,0.8202943079235623,0.4912520918342615,0.6480427680865227,0.25110753075139974,0.09832896867667623,0.4371542492677912,0.7353818562526527,0.0004707146644729359,0.2332354943212933,0.34921389390953445,0.1259620699099682,0.45221981298783215,0.0071230141095083455,0.48365692269849925,0.3038993034176736,0.5898068387850232,-0.008543794384782647,0.557575981170575,0.44310809589063777,0.581448811075108,-0.008277365997668677,0.5331654711509279,0.02740085132618272,0.1953743895630972,0.2680501263200976,0.00953173662972789,0.2540365136915058,0.7386985136337952,0.21974450297929615,0.6604230800540207,0.6180103682109751,0.18856726259687473,0.5329139931384393,0.5676853778920045,0.6036390803143574,0.08610867959933458,-0.0031673448853182643,0.36749375049078953,0.13055911971580292,0.48928359688731443,0.03666570762785793,0.7675776312416372,0.036373578166547064],\"yaxis\":\"y\",\"type\":\"scatter\"}],                        {\"template\":{\"data\":{\"histogram2dcontour\":[{\"type\":\"histogram2dcontour\",\"colorbar\":{\"outlinewidth\":0,\"ticks\":\"\"},\"colorscale\":[[0.0,\"#0d0887\"],[0.1111111111111111,\"#46039f\"],[0.2222222222222222,\"#7201a8\"],[0.3333333333333333,\"#9c179e\"],[0.4444444444444444,\"#bd3786\"],[0.5555555555555556,\"#d8576b\"],[0.6666666666666666,\"#ed7953\"],[0.7777777777777778,\"#fb9f3a\"],[0.8888888888888888,\"#fdca26\"],[1.0,\"#f0f921\"]]}],\"choropleth\":[{\"type\":\"choropleth\",\"colorbar\":{\"outlinewidth\":0,\"ticks\":\"\"}}],\"histogram2d\":[{\"type\":\"histogram2d\",\"colorbar\":{\"outlinewidth\":0,\"ticks\":\"\"},\"colorscale\":[[0.0,\"#0d0887\"],[0.1111111111111111,\"#46039f\"],[0.2222222222222222,\"#7201a8\"],[0.3333333333333333,\"#9c179e\"],[0.4444444444444444,\"#bd3786\"],[0.5555555555555556,\"#d8576b\"],[0.6666666666666666,\"#ed7953\"],[0.7777777777777778,\"#fb9f3a\"],[0.8888888888888888,\"#fdca26\"],[1.0,\"#f0f921\"]]}],\"heatmap\":[{\"type\":\"heatmap\",\"colorbar\":{\"outlinewidth\":0,\"ticks\":\"\"},\"colorscale\":[[0.0,\"#0d0887\"],[0.1111111111111111,\"#46039f\"],[0.2222222222222222,\"#7201a8\"],[0.3333333333333333,\"#9c179e\"],[0.4444444444444444,\"#bd3786\"],[0.5555555555555556,\"#d8576b\"],[0.6666666666666666,\"#ed7953\"],[0.7777777777777778,\"#fb9f3a\"],[0.8888888888888888,\"#fdca26\"],[1.0,\"#f0f921\"]]}],\"heatmapgl\":[{\"type\":\"heatmapgl\",\"colorbar\":{\"outlinewidth\":0,\"ticks\":\"\"},\"colorscale\":[[0.0,\"#0d0887\"],[0.1111111111111111,\"#46039f\"],[0.2222222222222222,\"#7201a8\"],[0.3333333333333333,\"#9c179e\"],[0.4444444444444444,\"#bd3786\"],[0.5555555555555556,\"#d8576b\"],[0.6666666666666666,\"#ed7953\"],[0.7777777777777778,\"#fb9f3a\"],[0.8888888888888888,\"#fdca26\"],[1.0,\"#f0f921\"]]}],\"contourcarpet\":[{\"type\":\"contourcarpet\",\"colorbar\":{\"outlinewidth\":0,\"ticks\":\"\"}}],\"contour\":[{\"type\":\"contour\",\"colorbar\":{\"outlinewidth\":0,\"ticks\":\"\"},\"colorscale\":[[0.0,\"#0d0887\"],[0.1111111111111111,\"#46039f\"],[0.2222222222222222,\"#7201a8\"],[0.3333333333333333,\"#9c179e\"],[0.4444444444444444,\"#bd3786\"],[0.5555555555555556,\"#d8576b\"],[0.6666666666666666,\"#ed7953\"],[0.7777777777777778,\"#fb9f3a\"],[0.8888888888888888,\"#fdca26\"],[1.0,\"#f0f921\"]]}],\"surface\":[{\"type\":\"surface\",\"colorbar\":{\"outlinewidth\":0,\"ticks\":\"\"},\"colorscale\":[[0.0,\"#0d0887\"],[0.1111111111111111,\"#46039f\"],[0.2222222222222222,\"#7201a8\"],[0.3333333333333333,\"#9c179e\"],[0.4444444444444444,\"#bd3786\"],[0.5555555555555556,\"#d8576b\"],[0.6666666666666666,\"#ed7953\"],[0.7777777777777778,\"#fb9f3a\"],[0.8888888888888888,\"#fdca26\"],[1.0,\"#f0f921\"]]}],\"mesh3d\":[{\"type\":\"mesh3d\",\"colorbar\":{\"outlinewidth\":0,\"ticks\":\"\"}}],\"scatter\":[{\"fillpattern\":{\"fillmode\":\"overlay\",\"size\":10,\"solidity\":0.2},\"type\":\"scatter\"}],\"parcoords\":[{\"type\":\"parcoords\",\"line\":{\"colorbar\":{\"outlinewidth\":0,\"ticks\":\"\"}}}],\"scatterpolargl\":[{\"type\":\"scatterpolargl\",\"marker\":{\"colorbar\":{\"outlinewidth\":0,\"ticks\":\"\"}}}],\"bar\":[{\"error_x\":{\"color\":\"#2a3f5f\"},\"error_y\":{\"color\":\"#2a3f5f\"},\"marker\":{\"line\":{\"color\":\"#E5ECF6\",\"width\":0.5},\"pattern\":{\"fillmode\":\"overlay\",\"size\":10,\"solidity\":0.2}},\"type\":\"bar\"}],\"scattergeo\":[{\"type\":\"scattergeo\",\"marker\":{\"colorbar\":{\"outlinewidth\":0,\"ticks\":\"\"}}}],\"scatterpolar\":[{\"type\":\"scatterpolar\",\"marker\":{\"colorbar\":{\"outlinewidth\":0,\"ticks\":\"\"}}}],\"histogram\":[{\"marker\":{\"pattern\":{\"fillmode\":\"overlay\",\"size\":10,\"solidity\":0.2}},\"type\":\"histogram\"}],\"scattergl\":[{\"type\":\"scattergl\",\"marker\":{\"colorbar\":{\"outlinewidth\":0,\"ticks\":\"\"}}}],\"scatter3d\":[{\"type\":\"scatter3d\",\"line\":{\"colorbar\":{\"outlinewidth\":0,\"ticks\":\"\"}},\"marker\":{\"colorbar\":{\"outlinewidth\":0,\"ticks\":\"\"}}}],\"scattermapbox\":[{\"type\":\"scattermapbox\",\"marker\":{\"colorbar\":{\"outlinewidth\":0,\"ticks\":\"\"}}}],\"scatterternary\":[{\"type\":\"scatterternary\",\"marker\":{\"colorbar\":{\"outlinewidth\":0,\"ticks\":\"\"}}}],\"scattercarpet\":[{\"type\":\"scattercarpet\",\"marker\":{\"colorbar\":{\"outlinewidth\":0,\"ticks\":\"\"}}}],\"carpet\":[{\"aaxis\":{\"endlinecolor\":\"#2a3f5f\",\"gridcolor\":\"white\",\"linecolor\":\"white\",\"minorgridcolor\":\"white\",\"startlinecolor\":\"#2a3f5f\"},\"baxis\":{\"endlinecolor\":\"#2a3f5f\",\"gridcolor\":\"white\",\"linecolor\":\"white\",\"minorgridcolor\":\"white\",\"startlinecolor\":\"#2a3f5f\"},\"type\":\"carpet\"}],\"table\":[{\"cells\":{\"fill\":{\"color\":\"#EBF0F8\"},\"line\":{\"color\":\"white\"}},\"header\":{\"fill\":{\"color\":\"#C8D4E3\"},\"line\":{\"color\":\"white\"}},\"type\":\"table\"}],\"barpolar\":[{\"marker\":{\"line\":{\"color\":\"#E5ECF6\",\"width\":0.5},\"pattern\":{\"fillmode\":\"overlay\",\"size\":10,\"solidity\":0.2}},\"type\":\"barpolar\"}],\"pie\":[{\"automargin\":true,\"type\":\"pie\"}]},\"layout\":{\"autotypenumbers\":\"strict\",\"colorway\":[\"#636efa\",\"#EF553B\",\"#00cc96\",\"#ab63fa\",\"#FFA15A\",\"#19d3f3\",\"#FF6692\",\"#B6E880\",\"#FF97FF\",\"#FECB52\"],\"font\":{\"color\":\"#2a3f5f\"},\"hovermode\":\"closest\",\"hoverlabel\":{\"align\":\"left\"},\"paper_bgcolor\":\"white\",\"plot_bgcolor\":\"#E5ECF6\",\"polar\":{\"bgcolor\":\"#E5ECF6\",\"angularaxis\":{\"gridcolor\":\"white\",\"linecolor\":\"white\",\"ticks\":\"\"},\"radialaxis\":{\"gridcolor\":\"white\",\"linecolor\":\"white\",\"ticks\":\"\"}},\"ternary\":{\"bgcolor\":\"#E5ECF6\",\"aaxis\":{\"gridcolor\":\"white\",\"linecolor\":\"white\",\"ticks\":\"\"},\"baxis\":{\"gridcolor\":\"white\",\"linecolor\":\"white\",\"ticks\":\"\"},\"caxis\":{\"gridcolor\":\"white\",\"linecolor\":\"white\",\"ticks\":\"\"}},\"coloraxis\":{\"colorbar\":{\"outlinewidth\":0,\"ticks\":\"\"}},\"colorscale\":{\"sequential\":[[0.0,\"#0d0887\"],[0.1111111111111111,\"#46039f\"],[0.2222222222222222,\"#7201a8\"],[0.3333333333333333,\"#9c179e\"],[0.4444444444444444,\"#bd3786\"],[0.5555555555555556,\"#d8576b\"],[0.6666666666666666,\"#ed7953\"],[0.7777777777777778,\"#fb9f3a\"],[0.8888888888888888,\"#fdca26\"],[1.0,\"#f0f921\"]],\"sequentialminus\":[[0.0,\"#0d0887\"],[0.1111111111111111,\"#46039f\"],[0.2222222222222222,\"#7201a8\"],[0.3333333333333333,\"#9c179e\"],[0.4444444444444444,\"#bd3786\"],[0.5555555555555556,\"#d8576b\"],[0.6666666666666666,\"#ed7953\"],[0.7777777777777778,\"#fb9f3a\"],[0.8888888888888888,\"#fdca26\"],[1.0,\"#f0f921\"]],\"diverging\":[[0,\"#8e0152\"],[0.1,\"#c51b7d\"],[0.2,\"#de77ae\"],[0.3,\"#f1b6da\"],[0.4,\"#fde0ef\"],[0.5,\"#f7f7f7\"],[0.6,\"#e6f5d0\"],[0.7,\"#b8e186\"],[0.8,\"#7fbc41\"],[0.9,\"#4d9221\"],[1,\"#276419\"]]},\"xaxis\":{\"gridcolor\":\"white\",\"linecolor\":\"white\",\"ticks\":\"\",\"title\":{\"standoff\":15},\"zerolinecolor\":\"white\",\"automargin\":true,\"zerolinewidth\":2},\"yaxis\":{\"gridcolor\":\"white\",\"linecolor\":\"white\",\"ticks\":\"\",\"title\":{\"standoff\":15},\"zerolinecolor\":\"white\",\"automargin\":true,\"zerolinewidth\":2},\"scene\":{\"xaxis\":{\"backgroundcolor\":\"#E5ECF6\",\"gridcolor\":\"white\",\"linecolor\":\"white\",\"showbackground\":true,\"ticks\":\"\",\"zerolinecolor\":\"white\",\"gridwidth\":2},\"yaxis\":{\"backgroundcolor\":\"#E5ECF6\",\"gridcolor\":\"white\",\"linecolor\":\"white\",\"showbackground\":true,\"ticks\":\"\",\"zerolinecolor\":\"white\",\"gridwidth\":2},\"zaxis\":{\"backgroundcolor\":\"#E5ECF6\",\"gridcolor\":\"white\",\"linecolor\":\"white\",\"showbackground\":true,\"ticks\":\"\",\"zerolinecolor\":\"white\",\"gridwidth\":2}},\"shapedefaults\":{\"line\":{\"color\":\"#2a3f5f\"}},\"annotationdefaults\":{\"arrowcolor\":\"#2a3f5f\",\"arrowhead\":0,\"arrowwidth\":1},\"geo\":{\"bgcolor\":\"white\",\"landcolor\":\"#E5ECF6\",\"subunitcolor\":\"white\",\"showland\":true,\"showlakes\":true,\"lakecolor\":\"white\"},\"title\":{\"x\":0.05},\"mapbox\":{\"style\":\"light\"}}},\"xaxis\":{\"anchor\":\"y\",\"domain\":[0.0,1.0],\"title\":{\"text\":\"Date\"}},\"yaxis\":{\"anchor\":\"x\",\"domain\":[0.0,1.0],\"title\":{\"text\":\"Band mean\"}},\"legend\":{\"tracegroupgap\":0},\"title\":{\"text\":\"NDVI Time Series\"}},                        {\"responsive\": true}                    ).then(function(){\n",
       "                            \n",
       "var gd = document.getElementById('93877973-81c9-4f29-959d-8932aa129857');\n",
       "var x = new MutationObserver(function (mutations, observer) {{\n",
       "        var display = window.getComputedStyle(gd).display;\n",
       "        if (!display || display === 'none') {{\n",
       "            console.log([gd, 'removed!']);\n",
       "            Plotly.purge(gd);\n",
       "            observer.disconnect();\n",
       "        }}\n",
       "}});\n",
       "\n",
       "// Listen for the removal of the full notebook cells\n",
       "var notebookContainer = gd.closest('#notebook-container');\n",
       "if (notebookContainer) {{\n",
       "    x.observe(notebookContainer, {childList: true});\n",
       "}}\n",
       "\n",
       "// Listen for the clearing of the current output cell\n",
       "var outputEl = gd.closest('.output');\n",
       "if (outputEl) {{\n",
       "    x.observe(outputEl, {childList: true});\n",
       "}}\n",
       "\n",
       "                        })                };                });            </script>        </div>"
      ]
     },
     "metadata": {},
     "output_type": "display_data"
    },
    {
     "data": {
      "application/vnd.plotly.v1+json": {
       "config": {
        "plotlyServerURL": "https://plot.ly"
       },
       "data": [
        {
         "hovertemplate": "Date=%{x}<br>Band mean=%{y}<extra></extra>",
         "legendgroup": "",
         "line": {
          "color": "#636efa",
          "dash": "solid"
         },
         "marker": {
          "symbol": "circle"
         },
         "mode": "lines",
         "name": "",
         "orientation": "v",
         "showlegend": false,
         "type": "scatter",
         "x": [
          "2020-01-03T00:00:00",
          "2020-01-08T00:00:00",
          "2020-01-13T00:00:00",
          "2020-01-18T00:00:00",
          "2020-01-23T00:00:00",
          "2020-01-28T00:00:00",
          "2020-02-02T00:00:00",
          "2020-02-07T00:00:00",
          "2020-02-12T00:00:00",
          "2020-02-17T00:00:00",
          "2020-02-17T00:00:00",
          "2020-02-22T00:00:00",
          "2020-02-27T00:00:00",
          "2020-03-03T00:00:00",
          "2020-03-08T00:00:00",
          "2020-03-13T00:00:00",
          "2020-03-18T00:00:00",
          "2020-03-23T00:00:00",
          "2020-03-28T00:00:00",
          "2020-04-02T00:00:00",
          "2020-04-07T00:00:00",
          "2020-04-12T00:00:00",
          "2020-04-17T00:00:00",
          "2020-04-22T00:00:00",
          "2020-04-27T00:00:00",
          "2020-05-02T00:00:00",
          "2020-05-07T00:00:00",
          "2020-05-12T00:00:00",
          "2020-05-17T00:00:00",
          "2020-05-22T00:00:00",
          "2020-05-27T00:00:00",
          "2020-06-01T00:00:00",
          "2020-06-06T00:00:00",
          "2020-06-11T00:00:00",
          "2020-06-16T00:00:00",
          "2020-06-21T00:00:00",
          "2020-06-26T00:00:00",
          "2020-07-01T00:00:00",
          "2020-07-06T00:00:00",
          "2020-07-11T00:00:00",
          "2020-07-16T00:00:00",
          "2020-07-21T00:00:00",
          "2020-07-26T00:00:00",
          "2020-07-31T00:00:00",
          "2020-08-05T00:00:00",
          "2020-08-10T00:00:00",
          "2020-08-15T00:00:00",
          "2020-08-20T00:00:00",
          "2020-08-25T00:00:00",
          "2020-08-30T00:00:00",
          "2020-09-04T00:00:00",
          "2020-09-09T00:00:00",
          "2020-09-14T00:00:00",
          "2020-09-19T00:00:00",
          "2020-09-24T00:00:00",
          "2020-09-29T00:00:00",
          "2020-10-04T00:00:00",
          "2020-10-09T00:00:00",
          "2020-10-14T00:00:00",
          "2020-10-19T00:00:00",
          "2020-10-24T00:00:00",
          "2020-11-03T00:00:00",
          "2020-11-08T00:00:00",
          "2020-11-13T00:00:00",
          "2020-11-18T00:00:00",
          "2020-11-23T00:00:00",
          "2020-11-28T00:00:00",
          "2020-12-03T00:00:00",
          "2020-12-08T00:00:00",
          "2020-12-13T00:00:00",
          "2020-12-18T00:00:00",
          "2020-12-23T00:00:00",
          "2020-12-28T00:00:00"
         ],
         "xaxis": "x",
         "y": [
          0.20678430802942824,
          0.1617853015746576,
          0.3494932873313625,
          0.29919862251101703,
          0.35106305963632695,
          0.3528530353215976,
          0.38152214477411456,
          0.02174093929097233,
          0.3265316093173919,
          -0.004739016024626884,
          -0.006189017632428101,
          0.255585240485716,
          -0.005891817322747144,
          0.3598688727387291,
          0.06446867518367558,
          -0.0521375393429506,
          0.0063514635707126775,
          0.2462046221562175,
          0.1692859736461818,
          -0.006823002199119206,
          0.4732848461894391,
          0.30268082793246087,
          0.006851110130868608,
          0.17605075348366703,
          0.17182854313582227,
          0.5105524263552147,
          0.479302964977599,
          0.4047571394523102,
          0.26632419257183393,
          0.11470846037087667,
          0.5330020570522929,
          0.32536169165704454,
          0.43288402447553903,
          0.1537328988731775,
          0.04224440485470349,
          0.27603973246730823,
          0.481854089824477,
          -0.0544435874047941,
          0.14490533234077912,
          0.21949270615725494,
          0.07320371211014645,
          0.28830315978195564,
          -0.04360585257902451,
          0.3146924373125389,
          0.19010494049657609,
          0.38804363203176306,
          -0.05464457773074568,
          0.360993854266084,
          0.28651705056940463,
          0.37506681489254373,
          -0.02343380830151999,
          0.34300269554035634,
          -0.0012610625536495642,
          0.10127045884395403,
          0.16630397936113772,
          -0.03130378779135701,
          0.21384774779852847,
          0.46849307873421836,
          0.132681843457424,
          0.4227687029831974,
          0.41179318775107354,
          0.11790251359835899,
          0.34996552668396363,
          0.37055007213560176,
          0.3880761058767987,
          0.023872720464920043,
          -0.014336013511072524,
          0.25366430101447307,
          0.06734148151021736,
          0.3319602348842183,
          0.007070724943922914,
          0.5236110784354652,
          -0.024753012507636674
         ],
         "yaxis": "y"
        }
       ],
       "layout": {
        "autosize": true,
        "legend": {
         "tracegroupgap": 0
        },
        "template": {
         "data": {
          "bar": [
           {
            "error_x": {
             "color": "#2a3f5f"
            },
            "error_y": {
             "color": "#2a3f5f"
            },
            "marker": {
             "line": {
              "color": "#E5ECF6",
              "width": 0.5
             },
             "pattern": {
              "fillmode": "overlay",
              "size": 10,
              "solidity": 0.2
             }
            },
            "type": "bar"
           }
          ],
          "barpolar": [
           {
            "marker": {
             "line": {
              "color": "#E5ECF6",
              "width": 0.5
             },
             "pattern": {
              "fillmode": "overlay",
              "size": 10,
              "solidity": 0.2
             }
            },
            "type": "barpolar"
           }
          ],
          "carpet": [
           {
            "aaxis": {
             "endlinecolor": "#2a3f5f",
             "gridcolor": "white",
             "linecolor": "white",
             "minorgridcolor": "white",
             "startlinecolor": "#2a3f5f"
            },
            "baxis": {
             "endlinecolor": "#2a3f5f",
             "gridcolor": "white",
             "linecolor": "white",
             "minorgridcolor": "white",
             "startlinecolor": "#2a3f5f"
            },
            "type": "carpet"
           }
          ],
          "choropleth": [
           {
            "colorbar": {
             "outlinewidth": 0,
             "ticks": ""
            },
            "type": "choropleth"
           }
          ],
          "contour": [
           {
            "colorbar": {
             "outlinewidth": 0,
             "ticks": ""
            },
            "colorscale": [
             [
              0,
              "#0d0887"
             ],
             [
              0.1111111111111111,
              "#46039f"
             ],
             [
              0.2222222222222222,
              "#7201a8"
             ],
             [
              0.3333333333333333,
              "#9c179e"
             ],
             [
              0.4444444444444444,
              "#bd3786"
             ],
             [
              0.5555555555555556,
              "#d8576b"
             ],
             [
              0.6666666666666666,
              "#ed7953"
             ],
             [
              0.7777777777777778,
              "#fb9f3a"
             ],
             [
              0.8888888888888888,
              "#fdca26"
             ],
             [
              1,
              "#f0f921"
             ]
            ],
            "type": "contour"
           }
          ],
          "contourcarpet": [
           {
            "colorbar": {
             "outlinewidth": 0,
             "ticks": ""
            },
            "type": "contourcarpet"
           }
          ],
          "heatmap": [
           {
            "colorbar": {
             "outlinewidth": 0,
             "ticks": ""
            },
            "colorscale": [
             [
              0,
              "#0d0887"
             ],
             [
              0.1111111111111111,
              "#46039f"
             ],
             [
              0.2222222222222222,
              "#7201a8"
             ],
             [
              0.3333333333333333,
              "#9c179e"
             ],
             [
              0.4444444444444444,
              "#bd3786"
             ],
             [
              0.5555555555555556,
              "#d8576b"
             ],
             [
              0.6666666666666666,
              "#ed7953"
             ],
             [
              0.7777777777777778,
              "#fb9f3a"
             ],
             [
              0.8888888888888888,
              "#fdca26"
             ],
             [
              1,
              "#f0f921"
             ]
            ],
            "type": "heatmap"
           }
          ],
          "heatmapgl": [
           {
            "colorbar": {
             "outlinewidth": 0,
             "ticks": ""
            },
            "colorscale": [
             [
              0,
              "#0d0887"
             ],
             [
              0.1111111111111111,
              "#46039f"
             ],
             [
              0.2222222222222222,
              "#7201a8"
             ],
             [
              0.3333333333333333,
              "#9c179e"
             ],
             [
              0.4444444444444444,
              "#bd3786"
             ],
             [
              0.5555555555555556,
              "#d8576b"
             ],
             [
              0.6666666666666666,
              "#ed7953"
             ],
             [
              0.7777777777777778,
              "#fb9f3a"
             ],
             [
              0.8888888888888888,
              "#fdca26"
             ],
             [
              1,
              "#f0f921"
             ]
            ],
            "type": "heatmapgl"
           }
          ],
          "histogram": [
           {
            "marker": {
             "pattern": {
              "fillmode": "overlay",
              "size": 10,
              "solidity": 0.2
             }
            },
            "type": "histogram"
           }
          ],
          "histogram2d": [
           {
            "colorbar": {
             "outlinewidth": 0,
             "ticks": ""
            },
            "colorscale": [
             [
              0,
              "#0d0887"
             ],
             [
              0.1111111111111111,
              "#46039f"
             ],
             [
              0.2222222222222222,
              "#7201a8"
             ],
             [
              0.3333333333333333,
              "#9c179e"
             ],
             [
              0.4444444444444444,
              "#bd3786"
             ],
             [
              0.5555555555555556,
              "#d8576b"
             ],
             [
              0.6666666666666666,
              "#ed7953"
             ],
             [
              0.7777777777777778,
              "#fb9f3a"
             ],
             [
              0.8888888888888888,
              "#fdca26"
             ],
             [
              1,
              "#f0f921"
             ]
            ],
            "type": "histogram2d"
           }
          ],
          "histogram2dcontour": [
           {
            "colorbar": {
             "outlinewidth": 0,
             "ticks": ""
            },
            "colorscale": [
             [
              0,
              "#0d0887"
             ],
             [
              0.1111111111111111,
              "#46039f"
             ],
             [
              0.2222222222222222,
              "#7201a8"
             ],
             [
              0.3333333333333333,
              "#9c179e"
             ],
             [
              0.4444444444444444,
              "#bd3786"
             ],
             [
              0.5555555555555556,
              "#d8576b"
             ],
             [
              0.6666666666666666,
              "#ed7953"
             ],
             [
              0.7777777777777778,
              "#fb9f3a"
             ],
             [
              0.8888888888888888,
              "#fdca26"
             ],
             [
              1,
              "#f0f921"
             ]
            ],
            "type": "histogram2dcontour"
           }
          ],
          "mesh3d": [
           {
            "colorbar": {
             "outlinewidth": 0,
             "ticks": ""
            },
            "type": "mesh3d"
           }
          ],
          "parcoords": [
           {
            "line": {
             "colorbar": {
              "outlinewidth": 0,
              "ticks": ""
             }
            },
            "type": "parcoords"
           }
          ],
          "pie": [
           {
            "automargin": true,
            "type": "pie"
           }
          ],
          "scatter": [
           {
            "fillpattern": {
             "fillmode": "overlay",
             "size": 10,
             "solidity": 0.2
            },
            "type": "scatter"
           }
          ],
          "scatter3d": [
           {
            "line": {
             "colorbar": {
              "outlinewidth": 0,
              "ticks": ""
             }
            },
            "marker": {
             "colorbar": {
              "outlinewidth": 0,
              "ticks": ""
             }
            },
            "type": "scatter3d"
           }
          ],
          "scattercarpet": [
           {
            "marker": {
             "colorbar": {
              "outlinewidth": 0,
              "ticks": ""
             }
            },
            "type": "scattercarpet"
           }
          ],
          "scattergeo": [
           {
            "marker": {
             "colorbar": {
              "outlinewidth": 0,
              "ticks": ""
             }
            },
            "type": "scattergeo"
           }
          ],
          "scattergl": [
           {
            "marker": {
             "colorbar": {
              "outlinewidth": 0,
              "ticks": ""
             }
            },
            "type": "scattergl"
           }
          ],
          "scattermapbox": [
           {
            "marker": {
             "colorbar": {
              "outlinewidth": 0,
              "ticks": ""
             }
            },
            "type": "scattermapbox"
           }
          ],
          "scatterpolar": [
           {
            "marker": {
             "colorbar": {
              "outlinewidth": 0,
              "ticks": ""
             }
            },
            "type": "scatterpolar"
           }
          ],
          "scatterpolargl": [
           {
            "marker": {
             "colorbar": {
              "outlinewidth": 0,
              "ticks": ""
             }
            },
            "type": "scatterpolargl"
           }
          ],
          "scatterternary": [
           {
            "marker": {
             "colorbar": {
              "outlinewidth": 0,
              "ticks": ""
             }
            },
            "type": "scatterternary"
           }
          ],
          "surface": [
           {
            "colorbar": {
             "outlinewidth": 0,
             "ticks": ""
            },
            "colorscale": [
             [
              0,
              "#0d0887"
             ],
             [
              0.1111111111111111,
              "#46039f"
             ],
             [
              0.2222222222222222,
              "#7201a8"
             ],
             [
              0.3333333333333333,
              "#9c179e"
             ],
             [
              0.4444444444444444,
              "#bd3786"
             ],
             [
              0.5555555555555556,
              "#d8576b"
             ],
             [
              0.6666666666666666,
              "#ed7953"
             ],
             [
              0.7777777777777778,
              "#fb9f3a"
             ],
             [
              0.8888888888888888,
              "#fdca26"
             ],
             [
              1,
              "#f0f921"
             ]
            ],
            "type": "surface"
           }
          ],
          "table": [
           {
            "cells": {
             "fill": {
              "color": "#EBF0F8"
             },
             "line": {
              "color": "white"
             }
            },
            "header": {
             "fill": {
              "color": "#C8D4E3"
             },
             "line": {
              "color": "white"
             }
            },
            "type": "table"
           }
          ]
         },
         "layout": {
          "annotationdefaults": {
           "arrowcolor": "#2a3f5f",
           "arrowhead": 0,
           "arrowwidth": 1
          },
          "autotypenumbers": "strict",
          "coloraxis": {
           "colorbar": {
            "outlinewidth": 0,
            "ticks": ""
           }
          },
          "colorscale": {
           "diverging": [
            [
             0,
             "#8e0152"
            ],
            [
             0.1,
             "#c51b7d"
            ],
            [
             0.2,
             "#de77ae"
            ],
            [
             0.3,
             "#f1b6da"
            ],
            [
             0.4,
             "#fde0ef"
            ],
            [
             0.5,
             "#f7f7f7"
            ],
            [
             0.6,
             "#e6f5d0"
            ],
            [
             0.7,
             "#b8e186"
            ],
            [
             0.8,
             "#7fbc41"
            ],
            [
             0.9,
             "#4d9221"
            ],
            [
             1,
             "#276419"
            ]
           ],
           "sequential": [
            [
             0,
             "#0d0887"
            ],
            [
             0.1111111111111111,
             "#46039f"
            ],
            [
             0.2222222222222222,
             "#7201a8"
            ],
            [
             0.3333333333333333,
             "#9c179e"
            ],
            [
             0.4444444444444444,
             "#bd3786"
            ],
            [
             0.5555555555555556,
             "#d8576b"
            ],
            [
             0.6666666666666666,
             "#ed7953"
            ],
            [
             0.7777777777777778,
             "#fb9f3a"
            ],
            [
             0.8888888888888888,
             "#fdca26"
            ],
            [
             1,
             "#f0f921"
            ]
           ],
           "sequentialminus": [
            [
             0,
             "#0d0887"
            ],
            [
             0.1111111111111111,
             "#46039f"
            ],
            [
             0.2222222222222222,
             "#7201a8"
            ],
            [
             0.3333333333333333,
             "#9c179e"
            ],
            [
             0.4444444444444444,
             "#bd3786"
            ],
            [
             0.5555555555555556,
             "#d8576b"
            ],
            [
             0.6666666666666666,
             "#ed7953"
            ],
            [
             0.7777777777777778,
             "#fb9f3a"
            ],
            [
             0.8888888888888888,
             "#fdca26"
            ],
            [
             1,
             "#f0f921"
            ]
           ]
          },
          "colorway": [
           "#636efa",
           "#EF553B",
           "#00cc96",
           "#ab63fa",
           "#FFA15A",
           "#19d3f3",
           "#FF6692",
           "#B6E880",
           "#FF97FF",
           "#FECB52"
          ],
          "font": {
           "color": "#2a3f5f"
          },
          "geo": {
           "bgcolor": "white",
           "lakecolor": "white",
           "landcolor": "#E5ECF6",
           "showlakes": true,
           "showland": true,
           "subunitcolor": "white"
          },
          "hoverlabel": {
           "align": "left"
          },
          "hovermode": "closest",
          "mapbox": {
           "style": "light"
          },
          "paper_bgcolor": "white",
          "plot_bgcolor": "#E5ECF6",
          "polar": {
           "angularaxis": {
            "gridcolor": "white",
            "linecolor": "white",
            "ticks": ""
           },
           "bgcolor": "#E5ECF6",
           "radialaxis": {
            "gridcolor": "white",
            "linecolor": "white",
            "ticks": ""
           }
          },
          "scene": {
           "xaxis": {
            "backgroundcolor": "#E5ECF6",
            "gridcolor": "white",
            "gridwidth": 2,
            "linecolor": "white",
            "showbackground": true,
            "ticks": "",
            "zerolinecolor": "white"
           },
           "yaxis": {
            "backgroundcolor": "#E5ECF6",
            "gridcolor": "white",
            "gridwidth": 2,
            "linecolor": "white",
            "showbackground": true,
            "ticks": "",
            "zerolinecolor": "white"
           },
           "zaxis": {
            "backgroundcolor": "#E5ECF6",
            "gridcolor": "white",
            "gridwidth": 2,
            "linecolor": "white",
            "showbackground": true,
            "ticks": "",
            "zerolinecolor": "white"
           }
          },
          "shapedefaults": {
           "line": {
            "color": "#2a3f5f"
           }
          },
          "ternary": {
           "aaxis": {
            "gridcolor": "white",
            "linecolor": "white",
            "ticks": ""
           },
           "baxis": {
            "gridcolor": "white",
            "linecolor": "white",
            "ticks": ""
           },
           "bgcolor": "#E5ECF6",
           "caxis": {
            "gridcolor": "white",
            "linecolor": "white",
            "ticks": ""
           }
          },
          "title": {
           "x": 0.05
          },
          "xaxis": {
           "automargin": true,
           "gridcolor": "white",
           "linecolor": "white",
           "ticks": "",
           "title": {
            "standoff": 15
           },
           "zerolinecolor": "white",
           "zerolinewidth": 2
          },
          "yaxis": {
           "automargin": true,
           "gridcolor": "white",
           "linecolor": "white",
           "ticks": "",
           "title": {
            "standoff": 15
           },
           "zerolinecolor": "white",
           "zerolinewidth": 2
          }
         }
        },
        "title": {
         "text": "NDRE Time Series"
        },
        "xaxis": {
         "anchor": "y",
         "autorange": true,
         "domain": [
          0,
          1
         ],
         "range": [
          "2020-01-03",
          "2020-12-28"
         ],
         "title": {
          "text": "Date"
         },
         "type": "date"
        },
        "yaxis": {
         "anchor": "x",
         "autorange": true,
         "domain": [
          0,
          1
         ],
         "range": [
          -0.08729161299647004,
          0.5656490923180172
         ],
         "title": {
          "text": "Band mean"
         },
         "type": "linear"
        }
       }
      },
      "image/png": "[encoded data removed]",
      "text/html": [
       "<div>                            <div id=\"7347d303-0c25-48aa-ae5a-72f057e3d1df\" class=\"plotly-graph-div\" style=\"height:525px; width:100%;\"></div>            <script type=\"text/javascript\">                require([\"plotly\"], function(Plotly) {                    window.PLOTLYENV=window.PLOTLYENV || {};                                    if (document.getElementById(\"7347d303-0c25-48aa-ae5a-72f057e3d1df\")) {                    Plotly.newPlot(                        \"7347d303-0c25-48aa-ae5a-72f057e3d1df\",                        [{\"hovertemplate\":\"Date=%{x}\\u003cbr\\u003eBand mean=%{y}\\u003cextra\\u003e\\u003c\\u002fextra\\u003e\",\"legendgroup\":\"\",\"line\":{\"color\":\"#636efa\",\"dash\":\"solid\"},\"marker\":{\"symbol\":\"circle\"},\"mode\":\"lines\",\"name\":\"\",\"orientation\":\"v\",\"showlegend\":false,\"x\":[\"2020-01-03T00:00:00\",\"2020-01-08T00:00:00\",\"2020-01-13T00:00:00\",\"2020-01-18T00:00:00\",\"2020-01-23T00:00:00\",\"2020-01-28T00:00:00\",\"2020-02-02T00:00:00\",\"2020-02-07T00:00:00\",\"2020-02-12T00:00:00\",\"2020-02-17T00:00:00\",\"2020-02-17T00:00:00\",\"2020-02-22T00:00:00\",\"2020-02-27T00:00:00\",\"2020-03-03T00:00:00\",\"2020-03-08T00:00:00\",\"2020-03-13T00:00:00\",\"2020-03-18T00:00:00\",\"2020-03-23T00:00:00\",\"2020-03-28T00:00:00\",\"2020-04-02T00:00:00\",\"2020-04-07T00:00:00\",\"2020-04-12T00:00:00\",\"2020-04-17T00:00:00\",\"2020-04-22T00:00:00\",\"2020-04-27T00:00:00\",\"2020-05-02T00:00:00\",\"2020-05-07T00:00:00\",\"2020-05-12T00:00:00\",\"2020-05-17T00:00:00\",\"2020-05-22T00:00:00\",\"2020-05-27T00:00:00\",\"2020-06-01T00:00:00\",\"2020-06-06T00:00:00\",\"2020-06-11T00:00:00\",\"2020-06-16T00:00:00\",\"2020-06-21T00:00:00\",\"2020-06-26T00:00:00\",\"2020-07-01T00:00:00\",\"2020-07-06T00:00:00\",\"2020-07-11T00:00:00\",\"2020-07-16T00:00:00\",\"2020-07-21T00:00:00\",\"2020-07-26T00:00:00\",\"2020-07-31T00:00:00\",\"2020-08-05T00:00:00\",\"2020-08-10T00:00:00\",\"2020-08-15T00:00:00\",\"2020-08-20T00:00:00\",\"2020-08-25T00:00:00\",\"2020-08-30T00:00:00\",\"2020-09-04T00:00:00\",\"2020-09-09T00:00:00\",\"2020-09-14T00:00:00\",\"2020-09-19T00:00:00\",\"2020-09-24T00:00:00\",\"2020-09-29T00:00:00\",\"2020-10-04T00:00:00\",\"2020-10-09T00:00:00\",\"2020-10-14T00:00:00\",\"2020-10-19T00:00:00\",\"2020-10-24T00:00:00\",\"2020-11-03T00:00:00\",\"2020-11-08T00:00:00\",\"2020-11-13T00:00:00\",\"2020-11-18T00:00:00\",\"2020-11-23T00:00:00\",\"2020-11-28T00:00:00\",\"2020-12-03T00:00:00\",\"2020-12-08T00:00:00\",\"2020-12-13T00:00:00\",\"2020-12-18T00:00:00\",\"2020-12-23T00:00:00\",\"2020-12-28T00:00:00\"],\"xaxis\":\"x\",\"y\":[0.20678430802942824,0.1617853015746576,0.3494932873313625,0.29919862251101703,0.35106305963632695,0.3528530353215976,0.38152214477411456,0.02174093929097233,0.3265316093173919,-0.004739016024626884,-0.006189017632428101,0.255585240485716,-0.005891817322747144,0.3598688727387291,0.06446867518367558,-0.0521375393429506,0.0063514635707126775,0.2462046221562175,0.1692859736461818,-0.006823002199119206,0.4732848461894391,0.30268082793246087,0.006851110130868608,0.17605075348366703,0.17182854313582227,0.5105524263552147,0.479302964977599,0.4047571394523102,0.26632419257183393,0.11470846037087667,0.5330020570522929,0.32536169165704454,0.43288402447553903,0.1537328988731775,0.04224440485470349,0.27603973246730823,0.481854089824477,-0.0544435874047941,0.14490533234077912,0.21949270615725494,0.07320371211014645,0.28830315978195564,-0.04360585257902451,0.3146924373125389,0.19010494049657609,0.38804363203176306,-0.05464457773074568,0.360993854266084,0.28651705056940463,0.37506681489254373,-0.02343380830151999,0.34300269554035634,-0.0012610625536495642,0.10127045884395403,0.16630397936113772,-0.03130378779135701,0.21384774779852847,0.46849307873421836,0.132681843457424,0.4227687029831974,0.41179318775107354,0.11790251359835899,0.34996552668396363,0.37055007213560176,0.3880761058767987,0.023872720464920043,-0.014336013511072524,0.25366430101447307,0.06734148151021736,0.3319602348842183,0.007070724943922914,0.5236110784354652,-0.024753012507636674],\"yaxis\":\"y\",\"type\":\"scatter\"}],                        {\"template\":{\"data\":{\"histogram2dcontour\":[{\"type\":\"histogram2dcontour\",\"colorbar\":{\"outlinewidth\":0,\"ticks\":\"\"},\"colorscale\":[[0.0,\"#0d0887\"],[0.1111111111111111,\"#46039f\"],[0.2222222222222222,\"#7201a8\"],[0.3333333333333333,\"#9c179e\"],[0.4444444444444444,\"#bd3786\"],[0.5555555555555556,\"#d8576b\"],[0.6666666666666666,\"#ed7953\"],[0.7777777777777778,\"#fb9f3a\"],[0.8888888888888888,\"#fdca26\"],[1.0,\"#f0f921\"]]}],\"choropleth\":[{\"type\":\"choropleth\",\"colorbar\":{\"outlinewidth\":0,\"ticks\":\"\"}}],\"histogram2d\":[{\"type\":\"histogram2d\",\"colorbar\":{\"outlinewidth\":0,\"ticks\":\"\"},\"colorscale\":[[0.0,\"#0d0887\"],[0.1111111111111111,\"#46039f\"],[0.2222222222222222,\"#7201a8\"],[0.3333333333333333,\"#9c179e\"],[0.4444444444444444,\"#bd3786\"],[0.5555555555555556,\"#d8576b\"],[0.6666666666666666,\"#ed7953\"],[0.7777777777777778,\"#fb9f3a\"],[0.8888888888888888,\"#fdca26\"],[1.0,\"#f0f921\"]]}],\"heatmap\":[{\"type\":\"heatmap\",\"colorbar\":{\"outlinewidth\":0,\"ticks\":\"\"},\"colorscale\":[[0.0,\"#0d0887\"],[0.1111111111111111,\"#46039f\"],[0.2222222222222222,\"#7201a8\"],[0.3333333333333333,\"#9c179e\"],[0.4444444444444444,\"#bd3786\"],[0.5555555555555556,\"#d8576b\"],[0.6666666666666666,\"#ed7953\"],[0.7777777777777778,\"#fb9f3a\"],[0.8888888888888888,\"#fdca26\"],[1.0,\"#f0f921\"]]}],\"heatmapgl\":[{\"type\":\"heatmapgl\",\"colorbar\":{\"outlinewidth\":0,\"ticks\":\"\"},\"colorscale\":[[0.0,\"#0d0887\"],[0.1111111111111111,\"#46039f\"],[0.2222222222222222,\"#7201a8\"],[0.3333333333333333,\"#9c179e\"],[0.4444444444444444,\"#bd3786\"],[0.5555555555555556,\"#d8576b\"],[0.6666666666666666,\"#ed7953\"],[0.7777777777777778,\"#fb9f3a\"],[0.8888888888888888,\"#fdca26\"],[1.0,\"#f0f921\"]]}],\"contourcarpet\":[{\"type\":\"contourcarpet\",\"colorbar\":{\"outlinewidth\":0,\"ticks\":\"\"}}],\"contour\":[{\"type\":\"contour\",\"colorbar\":{\"outlinewidth\":0,\"ticks\":\"\"},\"colorscale\":[[0.0,\"#0d0887\"],[0.1111111111111111,\"#46039f\"],[0.2222222222222222,\"#7201a8\"],[0.3333333333333333,\"#9c179e\"],[0.4444444444444444,\"#bd3786\"],[0.5555555555555556,\"#d8576b\"],[0.6666666666666666,\"#ed7953\"],[0.7777777777777778,\"#fb9f3a\"],[0.8888888888888888,\"#fdca26\"],[1.0,\"#f0f921\"]]}],\"surface\":[{\"type\":\"surface\",\"colorbar\":{\"outlinewidth\":0,\"ticks\":\"\"},\"colorscale\":[[0.0,\"#0d0887\"],[0.1111111111111111,\"#46039f\"],[0.2222222222222222,\"#7201a8\"],[0.3333333333333333,\"#9c179e\"],[0.4444444444444444,\"#bd3786\"],[0.5555555555555556,\"#d8576b\"],[0.6666666666666666,\"#ed7953\"],[0.7777777777777778,\"#fb9f3a\"],[0.8888888888888888,\"#fdca26\"],[1.0,\"#f0f921\"]]}],\"mesh3d\":[{\"type\":\"mesh3d\",\"colorbar\":{\"outlinewidth\":0,\"ticks\":\"\"}}],\"scatter\":[{\"fillpattern\":{\"fillmode\":\"overlay\",\"size\":10,\"solidity\":0.2},\"type\":\"scatter\"}],\"parcoords\":[{\"type\":\"parcoords\",\"line\":{\"colorbar\":{\"outlinewidth\":0,\"ticks\":\"\"}}}],\"scatterpolargl\":[{\"type\":\"scatterpolargl\",\"marker\":{\"colorbar\":{\"outlinewidth\":0,\"ticks\":\"\"}}}],\"bar\":[{\"error_x\":{\"color\":\"#2a3f5f\"},\"error_y\":{\"color\":\"#2a3f5f\"},\"marker\":{\"line\":{\"color\":\"#E5ECF6\",\"width\":0.5},\"pattern\":{\"fillmode\":\"overlay\",\"size\":10,\"solidity\":0.2}},\"type\":\"bar\"}],\"scattergeo\":[{\"type\":\"scattergeo\",\"marker\":{\"colorbar\":{\"outlinewidth\":0,\"ticks\":\"\"}}}],\"scatterpolar\":[{\"type\":\"scatterpolar\",\"marker\":{\"colorbar\":{\"outlinewidth\":0,\"ticks\":\"\"}}}],\"histogram\":[{\"marker\":{\"pattern\":{\"fillmode\":\"overlay\",\"size\":10,\"solidity\":0.2}},\"type\":\"histogram\"}],\"scattergl\":[{\"type\":\"scattergl\",\"marker\":{\"colorbar\":{\"outlinewidth\":0,\"ticks\":\"\"}}}],\"scatter3d\":[{\"type\":\"scatter3d\",\"line\":{\"colorbar\":{\"outlinewidth\":0,\"ticks\":\"\"}},\"marker\":{\"colorbar\":{\"outlinewidth\":0,\"ticks\":\"\"}}}],\"scattermapbox\":[{\"type\":\"scattermapbox\",\"marker\":{\"colorbar\":{\"outlinewidth\":0,\"ticks\":\"\"}}}],\"scatterternary\":[{\"type\":\"scatterternary\",\"marker\":{\"colorbar\":{\"outlinewidth\":0,\"ticks\":\"\"}}}],\"scattercarpet\":[{\"type\":\"scattercarpet\",\"marker\":{\"colorbar\":{\"outlinewidth\":0,\"ticks\":\"\"}}}],\"carpet\":[{\"aaxis\":{\"endlinecolor\":\"#2a3f5f\",\"gridcolor\":\"white\",\"linecolor\":\"white\",\"minorgridcolor\":\"white\",\"startlinecolor\":\"#2a3f5f\"},\"baxis\":{\"endlinecolor\":\"#2a3f5f\",\"gridcolor\":\"white\",\"linecolor\":\"white\",\"minorgridcolor\":\"white\",\"startlinecolor\":\"#2a3f5f\"},\"type\":\"carpet\"}],\"table\":[{\"cells\":{\"fill\":{\"color\":\"#EBF0F8\"},\"line\":{\"color\":\"white\"}},\"header\":{\"fill\":{\"color\":\"#C8D4E3\"},\"line\":{\"color\":\"white\"}},\"type\":\"table\"}],\"barpolar\":[{\"marker\":{\"line\":{\"color\":\"#E5ECF6\",\"width\":0.5},\"pattern\":{\"fillmode\":\"overlay\",\"size\":10,\"solidity\":0.2}},\"type\":\"barpolar\"}],\"pie\":[{\"automargin\":true,\"type\":\"pie\"}]},\"layout\":{\"autotypenumbers\":\"strict\",\"colorway\":[\"#636efa\",\"#EF553B\",\"#00cc96\",\"#ab63fa\",\"#FFA15A\",\"#19d3f3\",\"#FF6692\",\"#B6E880\",\"#FF97FF\",\"#FECB52\"],\"font\":{\"color\":\"#2a3f5f\"},\"hovermode\":\"closest\",\"hoverlabel\":{\"align\":\"left\"},\"paper_bgcolor\":\"white\",\"plot_bgcolor\":\"#E5ECF6\",\"polar\":{\"bgcolor\":\"#E5ECF6\",\"angularaxis\":{\"gridcolor\":\"white\",\"linecolor\":\"white\",\"ticks\":\"\"},\"radialaxis\":{\"gridcolor\":\"white\",\"linecolor\":\"white\",\"ticks\":\"\"}},\"ternary\":{\"bgcolor\":\"#E5ECF6\",\"aaxis\":{\"gridcolor\":\"white\",\"linecolor\":\"white\",\"ticks\":\"\"},\"baxis\":{\"gridcolor\":\"white\",\"linecolor\":\"white\",\"ticks\":\"\"},\"caxis\":{\"gridcolor\":\"white\",\"linecolor\":\"white\",\"ticks\":\"\"}},\"coloraxis\":{\"colorbar\":{\"outlinewidth\":0,\"ticks\":\"\"}},\"colorscale\":{\"sequential\":[[0.0,\"#0d0887\"],[0.1111111111111111,\"#46039f\"],[0.2222222222222222,\"#7201a8\"],[0.3333333333333333,\"#9c179e\"],[0.4444444444444444,\"#bd3786\"],[0.5555555555555556,\"#d8576b\"],[0.6666666666666666,\"#ed7953\"],[0.7777777777777778,\"#fb9f3a\"],[0.8888888888888888,\"#fdca26\"],[1.0,\"#f0f921\"]],\"sequentialminus\":[[0.0,\"#0d0887\"],[0.1111111111111111,\"#46039f\"],[0.2222222222222222,\"#7201a8\"],[0.3333333333333333,\"#9c179e\"],[0.4444444444444444,\"#bd3786\"],[0.5555555555555556,\"#d8576b\"],[0.6666666666666666,\"#ed7953\"],[0.7777777777777778,\"#fb9f3a\"],[0.8888888888888888,\"#fdca26\"],[1.0,\"#f0f921\"]],\"diverging\":[[0,\"#8e0152\"],[0.1,\"#c51b7d\"],[0.2,\"#de77ae\"],[0.3,\"#f1b6da\"],[0.4,\"#fde0ef\"],[0.5,\"#f7f7f7\"],[0.6,\"#e6f5d0\"],[0.7,\"#b8e186\"],[0.8,\"#7fbc41\"],[0.9,\"#4d9221\"],[1,\"#276419\"]]},\"xaxis\":{\"gridcolor\":\"white\",\"linecolor\":\"white\",\"ticks\":\"\",\"title\":{\"standoff\":15},\"zerolinecolor\":\"white\",\"automargin\":true,\"zerolinewidth\":2},\"yaxis\":{\"gridcolor\":\"white\",\"linecolor\":\"white\",\"ticks\":\"\",\"title\":{\"standoff\":15},\"zerolinecolor\":\"white\",\"automargin\":true,\"zerolinewidth\":2},\"scene\":{\"xaxis\":{\"backgroundcolor\":\"#E5ECF6\",\"gridcolor\":\"white\",\"linecolor\":\"white\",\"showbackground\":true,\"ticks\":\"\",\"zerolinecolor\":\"white\",\"gridwidth\":2},\"yaxis\":{\"backgroundcolor\":\"#E5ECF6\",\"gridcolor\":\"white\",\"linecolor\":\"white\",\"showbackground\":true,\"ticks\":\"\",\"zerolinecolor\":\"white\",\"gridwidth\":2},\"zaxis\":{\"backgroundcolor\":\"#E5ECF6\",\"gridcolor\":\"white\",\"linecolor\":\"white\",\"showbackground\":true,\"ticks\":\"\",\"zerolinecolor\":\"white\",\"gridwidth\":2}},\"shapedefaults\":{\"line\":{\"color\":\"#2a3f5f\"}},\"annotationdefaults\":{\"arrowcolor\":\"#2a3f5f\",\"arrowhead\":0,\"arrowwidth\":1},\"geo\":{\"bgcolor\":\"white\",\"landcolor\":\"#E5ECF6\",\"subunitcolor\":\"white\",\"showland\":true,\"showlakes\":true,\"lakecolor\":\"white\"},\"title\":{\"x\":0.05},\"mapbox\":{\"style\":\"light\"}}},\"xaxis\":{\"anchor\":\"y\",\"domain\":[0.0,1.0],\"title\":{\"text\":\"Date\"}},\"yaxis\":{\"anchor\":\"x\",\"domain\":[0.0,1.0],\"title\":{\"text\":\"Band mean\"}},\"legend\":{\"tracegroupgap\":0},\"title\":{\"text\":\"NDRE Time Series\"}},                        {\"responsive\": true}                    ).then(function(){\n",
       "                            \n",
       "var gd = document.getElementById('7347d303-0c25-48aa-ae5a-72f057e3d1df');\n",
       "var x = new MutationObserver(function (mutations, observer) {{\n",
       "        var display = window.getComputedStyle(gd).display;\n",
       "        if (!display || display === 'none') {{\n",
       "            console.log([gd, 'removed!']);\n",
       "            Plotly.purge(gd);\n",
       "            observer.disconnect();\n",
       "        }}\n",
       "}});\n",
       "\n",
       "// Listen for the removal of the full notebook cells\n",
       "var notebookContainer = gd.closest('#notebook-container');\n",
       "if (notebookContainer) {{\n",
       "    x.observe(notebookContainer, {childList: true});\n",
       "}}\n",
       "\n",
       "// Listen for the clearing of the current output cell\n",
       "var outputEl = gd.closest('.output');\n",
       "if (outputEl) {{\n",
       "    x.observe(outputEl, {childList: true});\n",
       "}}\n",
       "\n",
       "                        })                };                });            </script>        </div>"
      ]
     },
     "metadata": {},
     "output_type": "display_data"
    },
    {
     "data": {
      "application/vnd.plotly.v1+json": {
       "config": {
        "plotlyServerURL": "https://plot.ly"
       },
       "data": [
        {
         "hovertemplate": "Date=%{x}<br>Band mean=%{y}<extra></extra>",
         "legendgroup": "",
         "line": {
          "color": "#636efa",
          "dash": "solid"
         },
         "marker": {
          "symbol": "circle"
         },
         "mode": "lines",
         "name": "",
         "orientation": "v",
         "showlegend": false,
         "type": "scatter",
         "x": [
          "2020-01-03T00:00:00",
          "2020-01-08T00:00:00",
          "2020-01-13T00:00:00",
          "2020-01-18T00:00:00",
          "2020-01-23T00:00:00",
          "2020-01-28T00:00:00",
          "2020-02-02T00:00:00",
          "2020-02-07T00:00:00",
          "2020-02-12T00:00:00",
          "2020-02-17T00:00:00",
          "2020-02-17T00:00:00",
          "2020-02-22T00:00:00",
          "2020-02-27T00:00:00",
          "2020-03-03T00:00:00",
          "2020-03-08T00:00:00",
          "2020-03-13T00:00:00",
          "2020-03-18T00:00:00",
          "2020-03-23T00:00:00",
          "2020-03-28T00:00:00",
          "2020-04-02T00:00:00",
          "2020-04-07T00:00:00",
          "2020-04-12T00:00:00",
          "2020-04-17T00:00:00",
          "2020-04-22T00:00:00",
          "2020-04-27T00:00:00",
          "2020-05-02T00:00:00",
          "2020-05-07T00:00:00",
          "2020-05-12T00:00:00",
          "2020-05-17T00:00:00",
          "2020-05-22T00:00:00",
          "2020-05-27T00:00:00",
          "2020-06-01T00:00:00",
          "2020-06-06T00:00:00",
          "2020-06-11T00:00:00",
          "2020-06-16T00:00:00",
          "2020-06-21T00:00:00",
          "2020-06-26T00:00:00",
          "2020-07-01T00:00:00",
          "2020-07-06T00:00:00",
          "2020-07-11T00:00:00",
          "2020-07-16T00:00:00",
          "2020-07-21T00:00:00",
          "2020-07-26T00:00:00",
          "2020-07-31T00:00:00",
          "2020-08-05T00:00:00",
          "2020-08-10T00:00:00",
          "2020-08-15T00:00:00",
          "2020-08-20T00:00:00",
          "2020-08-25T00:00:00",
          "2020-08-30T00:00:00",
          "2020-09-04T00:00:00",
          "2020-09-09T00:00:00",
          "2020-09-14T00:00:00",
          "2020-09-19T00:00:00",
          "2020-09-24T00:00:00",
          "2020-09-29T00:00:00",
          "2020-10-04T00:00:00",
          "2020-10-09T00:00:00",
          "2020-10-14T00:00:00",
          "2020-10-19T00:00:00",
          "2020-10-24T00:00:00",
          "2020-11-03T00:00:00",
          "2020-11-08T00:00:00",
          "2020-11-13T00:00:00",
          "2020-11-18T00:00:00",
          "2020-11-23T00:00:00",
          "2020-11-28T00:00:00",
          "2020-12-03T00:00:00",
          "2020-12-08T00:00:00",
          "2020-12-13T00:00:00",
          "2020-12-18T00:00:00",
          "2020-12-23T00:00:00",
          "2020-12-28T00:00:00"
         ],
         "xaxis": "x",
         "y": [
          0.27228858671004574,
          0.2064161701074618,
          0.22675257913560498,
          0.2439189611258553,
          0.2253629727458169,
          0.2472468185518536,
          0.23968433270233275,
          0.5245087667690668,
          0.231988201002694,
          0.2503208798997147,
          0.24161699343935905,
          0.22123460866833827,
          0.3421566403786802,
          0.2852365501080132,
          0.5544031127929866,
          0.49795551674122795,
          0.2368344397745583,
          0.23582289381412241,
          0.24675732645539014,
          0.6870926679881951,
          0.2723547547031084,
          0.22577668865735273,
          0.14147256113502382,
          0.28195975162206766,
          0.25984634217936264,
          0.28184745553158425,
          0.28030163048457124,
          0.258545535710522,
          0.19702677526059234,
          0.21608516870129496,
          0.2748500253269592,
          0.31317400679653357,
          0.25958450529309685,
          0.2692096173494672,
          0.2728548619804128,
          0.24491477626156008,
          0.2749935940339427,
          0.6416926196223938,
          0.2236980200711858,
          0.2507773731313852,
          0.12458068120161889,
          0.32236879889998155,
          0.5874361701142947,
          0.24928175251462606,
          0.18508278076206855,
          0.2658675614222515,
          0.5414505147173532,
          0.23485902070504086,
          0.2054800310021545,
          0.2666736260892636,
          0.3949643553119408,
          0.26400393235366537,
          0.19789230775394512,
          0.20318843206205273,
          0.24320728030044508,
          0.2705446911224687,
          0.23905799036442135,
          0.28132057769960944,
          0.294390248807057,
          0.28719419941157104,
          0.28003852956356157,
          0.2588092259393472,
          0.27357583053523177,
          0.25744463608667656,
          0.25829585559633467,
          0.3217596849963311,
          0.46164789497788794,
          0.2432011461660364,
          0.2202667169098839,
          0.28010492613603694,
          0.4789766664618567,
          0.30911842374445386,
          0.5864827277502788
         ],
         "yaxis": "y"
        }
       ],
       "layout": {
        "autosize": true,
        "legend": {
         "tracegroupgap": 0
        },
        "template": {
         "data": {
          "bar": [
           {
            "error_x": {
             "color": "#2a3f5f"
            },
            "error_y": {
             "color": "#2a3f5f"
            },
            "marker": {
             "line": {
              "color": "#E5ECF6",
              "width": 0.5
             },
             "pattern": {
              "fillmode": "overlay",
              "size": 10,
              "solidity": 0.2
             }
            },
            "type": "bar"
           }
          ],
          "barpolar": [
           {
            "marker": {
             "line": {
              "color": "#E5ECF6",
              "width": 0.5
             },
             "pattern": {
              "fillmode": "overlay",
              "size": 10,
              "solidity": 0.2
             }
            },
            "type": "barpolar"
           }
          ],
          "carpet": [
           {
            "aaxis": {
             "endlinecolor": "#2a3f5f",
             "gridcolor": "white",
             "linecolor": "white",
             "minorgridcolor": "white",
             "startlinecolor": "#2a3f5f"
            },
            "baxis": {
             "endlinecolor": "#2a3f5f",
             "gridcolor": "white",
             "linecolor": "white",
             "minorgridcolor": "white",
             "startlinecolor": "#2a3f5f"
            },
            "type": "carpet"
           }
          ],
          "choropleth": [
           {
            "colorbar": {
             "outlinewidth": 0,
             "ticks": ""
            },
            "type": "choropleth"
           }
          ],
          "contour": [
           {
            "colorbar": {
             "outlinewidth": 0,
             "ticks": ""
            },
            "colorscale": [
             [
              0,
              "#0d0887"
             ],
             [
              0.1111111111111111,
              "#46039f"
             ],
             [
              0.2222222222222222,
              "#7201a8"
             ],
             [
              0.3333333333333333,
              "#9c179e"
             ],
             [
              0.4444444444444444,
              "#bd3786"
             ],
             [
              0.5555555555555556,
              "#d8576b"
             ],
             [
              0.6666666666666666,
              "#ed7953"
             ],
             [
              0.7777777777777778,
              "#fb9f3a"
             ],
             [
              0.8888888888888888,
              "#fdca26"
             ],
             [
              1,
              "#f0f921"
             ]
            ],
            "type": "contour"
           }
          ],
          "contourcarpet": [
           {
            "colorbar": {
             "outlinewidth": 0,
             "ticks": ""
            },
            "type": "contourcarpet"
           }
          ],
          "heatmap": [
           {
            "colorbar": {
             "outlinewidth": 0,
             "ticks": ""
            },
            "colorscale": [
             [
              0,
              "#0d0887"
             ],
             [
              0.1111111111111111,
              "#46039f"
             ],
             [
              0.2222222222222222,
              "#7201a8"
             ],
             [
              0.3333333333333333,
              "#9c179e"
             ],
             [
              0.4444444444444444,
              "#bd3786"
             ],
             [
              0.5555555555555556,
              "#d8576b"
             ],
             [
              0.6666666666666666,
              "#ed7953"
             ],
             [
              0.7777777777777778,
              "#fb9f3a"
             ],
             [
              0.8888888888888888,
              "#fdca26"
             ],
             [
              1,
              "#f0f921"
             ]
            ],
            "type": "heatmap"
           }
          ],
          "heatmapgl": [
           {
            "colorbar": {
             "outlinewidth": 0,
             "ticks": ""
            },
            "colorscale": [
             [
              0,
              "#0d0887"
             ],
             [
              0.1111111111111111,
              "#46039f"
             ],
             [
              0.2222222222222222,
              "#7201a8"
             ],
             [
              0.3333333333333333,
              "#9c179e"
             ],
             [
              0.4444444444444444,
              "#bd3786"
             ],
             [
              0.5555555555555556,
              "#d8576b"
             ],
             [
              0.6666666666666666,
              "#ed7953"
             ],
             [
              0.7777777777777778,
              "#fb9f3a"
             ],
             [
              0.8888888888888888,
              "#fdca26"
             ],
             [
              1,
              "#f0f921"
             ]
            ],
            "type": "heatmapgl"
           }
          ],
          "histogram": [
           {
            "marker": {
             "pattern": {
              "fillmode": "overlay",
              "size": 10,
              "solidity": 0.2
             }
            },
            "type": "histogram"
           }
          ],
          "histogram2d": [
           {
            "colorbar": {
             "outlinewidth": 0,
             "ticks": ""
            },
            "colorscale": [
             [
              0,
              "#0d0887"
             ],
             [
              0.1111111111111111,
              "#46039f"
             ],
             [
              0.2222222222222222,
              "#7201a8"
             ],
             [
              0.3333333333333333,
              "#9c179e"
             ],
             [
              0.4444444444444444,
              "#bd3786"
             ],
             [
              0.5555555555555556,
              "#d8576b"
             ],
             [
              0.6666666666666666,
              "#ed7953"
             ],
             [
              0.7777777777777778,
              "#fb9f3a"
             ],
             [
              0.8888888888888888,
              "#fdca26"
             ],
             [
              1,
              "#f0f921"
             ]
            ],
            "type": "histogram2d"
           }
          ],
          "histogram2dcontour": [
           {
            "colorbar": {
             "outlinewidth": 0,
             "ticks": ""
            },
            "colorscale": [
             [
              0,
              "#0d0887"
             ],
             [
              0.1111111111111111,
              "#46039f"
             ],
             [
              0.2222222222222222,
              "#7201a8"
             ],
             [
              0.3333333333333333,
              "#9c179e"
             ],
             [
              0.4444444444444444,
              "#bd3786"
             ],
             [
              0.5555555555555556,
              "#d8576b"
             ],
             [
              0.6666666666666666,
              "#ed7953"
             ],
             [
              0.7777777777777778,
              "#fb9f3a"
             ],
             [
              0.8888888888888888,
              "#fdca26"
             ],
             [
              1,
              "#f0f921"
             ]
            ],
            "type": "histogram2dcontour"
           }
          ],
          "mesh3d": [
           {
            "colorbar": {
             "outlinewidth": 0,
             "ticks": ""
            },
            "type": "mesh3d"
           }
          ],
          "parcoords": [
           {
            "line": {
             "colorbar": {
              "outlinewidth": 0,
              "ticks": ""
             }
            },
            "type": "parcoords"
           }
          ],
          "pie": [
           {
            "automargin": true,
            "type": "pie"
           }
          ],
          "scatter": [
           {
            "fillpattern": {
             "fillmode": "overlay",
             "size": 10,
             "solidity": 0.2
            },
            "type": "scatter"
           }
          ],
          "scatter3d": [
           {
            "line": {
             "colorbar": {
              "outlinewidth": 0,
              "ticks": ""
             }
            },
            "marker": {
             "colorbar": {
              "outlinewidth": 0,
              "ticks": ""
             }
            },
            "type": "scatter3d"
           }
          ],
          "scattercarpet": [
           {
            "marker": {
             "colorbar": {
              "outlinewidth": 0,
              "ticks": ""
             }
            },
            "type": "scattercarpet"
           }
          ],
          "scattergeo": [
           {
            "marker": {
             "colorbar": {
              "outlinewidth": 0,
              "ticks": ""
             }
            },
            "type": "scattergeo"
           }
          ],
          "scattergl": [
           {
            "marker": {
             "colorbar": {
              "outlinewidth": 0,
              "ticks": ""
             }
            },
            "type": "scattergl"
           }
          ],
          "scattermapbox": [
           {
            "marker": {
             "colorbar": {
              "outlinewidth": 0,
              "ticks": ""
             }
            },
            "type": "scattermapbox"
           }
          ],
          "scatterpolar": [
           {
            "marker": {
             "colorbar": {
              "outlinewidth": 0,
              "ticks": ""
             }
            },
            "type": "scatterpolar"
           }
          ],
          "scatterpolargl": [
           {
            "marker": {
             "colorbar": {
              "outlinewidth": 0,
              "ticks": ""
             }
            },
            "type": "scatterpolargl"
           }
          ],
          "scatterternary": [
           {
            "marker": {
             "colorbar": {
              "outlinewidth": 0,
              "ticks": ""
             }
            },
            "type": "scatterternary"
           }
          ],
          "surface": [
           {
            "colorbar": {
             "outlinewidth": 0,
             "ticks": ""
            },
            "colorscale": [
             [
              0,
              "#0d0887"
             ],
             [
              0.1111111111111111,
              "#46039f"
             ],
             [
              0.2222222222222222,
              "#7201a8"
             ],
             [
              0.3333333333333333,
              "#9c179e"
             ],
             [
              0.4444444444444444,
              "#bd3786"
             ],
             [
              0.5555555555555556,
              "#d8576b"
             ],
             [
              0.6666666666666666,
              "#ed7953"
             ],
             [
              0.7777777777777778,
              "#fb9f3a"
             ],
             [
              0.8888888888888888,
              "#fdca26"
             ],
             [
              1,
              "#f0f921"
             ]
            ],
            "type": "surface"
           }
          ],
          "table": [
           {
            "cells": {
             "fill": {
              "color": "#EBF0F8"
             },
             "line": {
              "color": "white"
             }
            },
            "header": {
             "fill": {
              "color": "#C8D4E3"
             },
             "line": {
              "color": "white"
             }
            },
            "type": "table"
           }
          ]
         },
         "layout": {
          "annotationdefaults": {
           "arrowcolor": "#2a3f5f",
           "arrowhead": 0,
           "arrowwidth": 1
          },
          "autotypenumbers": "strict",
          "coloraxis": {
           "colorbar": {
            "outlinewidth": 0,
            "ticks": ""
           }
          },
          "colorscale": {
           "diverging": [
            [
             0,
             "#8e0152"
            ],
            [
             0.1,
             "#c51b7d"
            ],
            [
             0.2,
             "#de77ae"
            ],
            [
             0.3,
             "#f1b6da"
            ],
            [
             0.4,
             "#fde0ef"
            ],
            [
             0.5,
             "#f7f7f7"
            ],
            [
             0.6,
             "#e6f5d0"
            ],
            [
             0.7,
             "#b8e186"
            ],
            [
             0.8,
             "#7fbc41"
            ],
            [
             0.9,
             "#4d9221"
            ],
            [
             1,
             "#276419"
            ]
           ],
           "sequential": [
            [
             0,
             "#0d0887"
            ],
            [
             0.1111111111111111,
             "#46039f"
            ],
            [
             0.2222222222222222,
             "#7201a8"
            ],
            [
             0.3333333333333333,
             "#9c179e"
            ],
            [
             0.4444444444444444,
             "#bd3786"
            ],
            [
             0.5555555555555556,
             "#d8576b"
            ],
            [
             0.6666666666666666,
             "#ed7953"
            ],
            [
             0.7777777777777778,
             "#fb9f3a"
            ],
            [
             0.8888888888888888,
             "#fdca26"
            ],
            [
             1,
             "#f0f921"
            ]
           ],
           "sequentialminus": [
            [
             0,
             "#0d0887"
            ],
            [
             0.1111111111111111,
             "#46039f"
            ],
            [
             0.2222222222222222,
             "#7201a8"
            ],
            [
             0.3333333333333333,
             "#9c179e"
            ],
            [
             0.4444444444444444,
             "#bd3786"
            ],
            [
             0.5555555555555556,
             "#d8576b"
            ],
            [
             0.6666666666666666,
             "#ed7953"
            ],
            [
             0.7777777777777778,
             "#fb9f3a"
            ],
            [
             0.8888888888888888,
             "#fdca26"
            ],
            [
             1,
             "#f0f921"
            ]
           ]
          },
          "colorway": [
           "#636efa",
           "#EF553B",
           "#00cc96",
           "#ab63fa",
           "#FFA15A",
           "#19d3f3",
           "#FF6692",
           "#B6E880",
           "#FF97FF",
           "#FECB52"
          ],
          "font": {
           "color": "#2a3f5f"
          },
          "geo": {
           "bgcolor": "white",
           "lakecolor": "white",
           "landcolor": "#E5ECF6",
           "showlakes": true,
           "showland": true,
           "subunitcolor": "white"
          },
          "hoverlabel": {
           "align": "left"
          },
          "hovermode": "closest",
          "mapbox": {
           "style": "light"
          },
          "paper_bgcolor": "white",
          "plot_bgcolor": "#E5ECF6",
          "polar": {
           "angularaxis": {
            "gridcolor": "white",
            "linecolor": "white",
            "ticks": ""
           },
           "bgcolor": "#E5ECF6",
           "radialaxis": {
            "gridcolor": "white",
            "linecolor": "white",
            "ticks": ""
           }
          },
          "scene": {
           "xaxis": {
            "backgroundcolor": "#E5ECF6",
            "gridcolor": "white",
            "gridwidth": 2,
            "linecolor": "white",
            "showbackground": true,
            "ticks": "",
            "zerolinecolor": "white"
           },
           "yaxis": {
            "backgroundcolor": "#E5ECF6",
            "gridcolor": "white",
            "gridwidth": 2,
            "linecolor": "white",
            "showbackground": true,
            "ticks": "",
            "zerolinecolor": "white"
           },
           "zaxis": {
            "backgroundcolor": "#E5ECF6",
            "gridcolor": "white",
            "gridwidth": 2,
            "linecolor": "white",
            "showbackground": true,
            "ticks": "",
            "zerolinecolor": "white"
           }
          },
          "shapedefaults": {
           "line": {
            "color": "#2a3f5f"
           }
          },
          "ternary": {
           "aaxis": {
            "gridcolor": "white",
            "linecolor": "white",
            "ticks": ""
           },
           "baxis": {
            "gridcolor": "white",
            "linecolor": "white",
            "ticks": ""
           },
           "bgcolor": "#E5ECF6",
           "caxis": {
            "gridcolor": "white",
            "linecolor": "white",
            "ticks": ""
           }
          },
          "title": {
           "x": 0.05
          },
          "xaxis": {
           "automargin": true,
           "gridcolor": "white",
           "linecolor": "white",
           "ticks": "",
           "title": {
            "standoff": 15
           },
           "zerolinecolor": "white",
           "zerolinewidth": 2
          },
          "yaxis": {
           "automargin": true,
           "gridcolor": "white",
           "linecolor": "white",
           "ticks": "",
           "title": {
            "standoff": 15
           },
           "zerolinecolor": "white",
           "zerolinewidth": 2
          }
         }
        },
        "title": {
         "text": "NDMI Time Series"
        },
        "xaxis": {
         "anchor": "y",
         "autorange": true,
         "domain": [
          0,
          1
         ],
         "range": [
          "2020-01-03",
          "2020-12-28"
         ],
         "title": {
          "text": "Date"
         },
         "type": "date"
        },
        "yaxis": {
         "anchor": "x",
         "autorange": true,
         "domain": [
          0,
          1
         ],
         "range": [
          0.09333001526903131,
          0.7183433339207826
         ],
         "title": {
          "text": "Band mean"
         },
         "type": "linear"
        }
       }
      },
      "image/png": "[encoded data removed]",
      "text/html": [
       "<div>                            <div id=\"156ce522-60a9-43f9-b6dc-a7a9365466a3\" class=\"plotly-graph-div\" style=\"height:525px; width:100%;\"></div>            <script type=\"text/javascript\">                require([\"plotly\"], function(Plotly) {                    window.PLOTLYENV=window.PLOTLYENV || {};                                    if (document.getElementById(\"156ce522-60a9-43f9-b6dc-a7a9365466a3\")) {                    Plotly.newPlot(                        \"156ce522-60a9-43f9-b6dc-a7a9365466a3\",                        [{\"hovertemplate\":\"Date=%{x}\\u003cbr\\u003eBand mean=%{y}\\u003cextra\\u003e\\u003c\\u002fextra\\u003e\",\"legendgroup\":\"\",\"line\":{\"color\":\"#636efa\",\"dash\":\"solid\"},\"marker\":{\"symbol\":\"circle\"},\"mode\":\"lines\",\"name\":\"\",\"orientation\":\"v\",\"showlegend\":false,\"x\":[\"2020-01-03T00:00:00\",\"2020-01-08T00:00:00\",\"2020-01-13T00:00:00\",\"2020-01-18T00:00:00\",\"2020-01-23T00:00:00\",\"2020-01-28T00:00:00\",\"2020-02-02T00:00:00\",\"2020-02-07T00:00:00\",\"2020-02-12T00:00:00\",\"2020-02-17T00:00:00\",\"2020-02-17T00:00:00\",\"2020-02-22T00:00:00\",\"2020-02-27T00:00:00\",\"2020-03-03T00:00:00\",\"2020-03-08T00:00:00\",\"2020-03-13T00:00:00\",\"2020-03-18T00:00:00\",\"2020-03-23T00:00:00\",\"2020-03-28T00:00:00\",\"2020-04-02T00:00:00\",\"2020-04-07T00:00:00\",\"2020-04-12T00:00:00\",\"2020-04-17T00:00:00\",\"2020-04-22T00:00:00\",\"2020-04-27T00:00:00\",\"2020-05-02T00:00:00\",\"2020-05-07T00:00:00\",\"2020-05-12T00:00:00\",\"2020-05-17T00:00:00\",\"2020-05-22T00:00:00\",\"2020-05-27T00:00:00\",\"2020-06-01T00:00:00\",\"2020-06-06T00:00:00\",\"2020-06-11T00:00:00\",\"2020-06-16T00:00:00\",\"2020-06-21T00:00:00\",\"2020-06-26T00:00:00\",\"2020-07-01T00:00:00\",\"2020-07-06T00:00:00\",\"2020-07-11T00:00:00\",\"2020-07-16T00:00:00\",\"2020-07-21T00:00:00\",\"2020-07-26T00:00:00\",\"2020-07-31T00:00:00\",\"2020-08-05T00:00:00\",\"2020-08-10T00:00:00\",\"2020-08-15T00:00:00\",\"2020-08-20T00:00:00\",\"2020-08-25T00:00:00\",\"2020-08-30T00:00:00\",\"2020-09-04T00:00:00\",\"2020-09-09T00:00:00\",\"2020-09-14T00:00:00\",\"2020-09-19T00:00:00\",\"2020-09-24T00:00:00\",\"2020-09-29T00:00:00\",\"2020-10-04T00:00:00\",\"2020-10-09T00:00:00\",\"2020-10-14T00:00:00\",\"2020-10-19T00:00:00\",\"2020-10-24T00:00:00\",\"2020-11-03T00:00:00\",\"2020-11-08T00:00:00\",\"2020-11-13T00:00:00\",\"2020-11-18T00:00:00\",\"2020-11-23T00:00:00\",\"2020-11-28T00:00:00\",\"2020-12-03T00:00:00\",\"2020-12-08T00:00:00\",\"2020-12-13T00:00:00\",\"2020-12-18T00:00:00\",\"2020-12-23T00:00:00\",\"2020-12-28T00:00:00\"],\"xaxis\":\"x\",\"y\":[0.27228858671004574,0.2064161701074618,0.22675257913560498,0.2439189611258553,0.2253629727458169,0.2472468185518536,0.23968433270233275,0.5245087667690668,0.231988201002694,0.2503208798997147,0.24161699343935905,0.22123460866833827,0.3421566403786802,0.2852365501080132,0.5544031127929866,0.49795551674122795,0.2368344397745583,0.23582289381412241,0.24675732645539014,0.6870926679881951,0.2723547547031084,0.22577668865735273,0.14147256113502382,0.28195975162206766,0.25984634217936264,0.28184745553158425,0.28030163048457124,0.258545535710522,0.19702677526059234,0.21608516870129496,0.2748500253269592,0.31317400679653357,0.25958450529309685,0.2692096173494672,0.2728548619804128,0.24491477626156008,0.2749935940339427,0.6416926196223938,0.2236980200711858,0.2507773731313852,0.12458068120161889,0.32236879889998155,0.5874361701142947,0.24928175251462606,0.18508278076206855,0.2658675614222515,0.5414505147173532,0.23485902070504086,0.2054800310021545,0.2666736260892636,0.3949643553119408,0.26400393235366537,0.19789230775394512,0.20318843206205273,0.24320728030044508,0.2705446911224687,0.23905799036442135,0.28132057769960944,0.294390248807057,0.28719419941157104,0.28003852956356157,0.2588092259393472,0.27357583053523177,0.25744463608667656,0.25829585559633467,0.3217596849963311,0.46164789497788794,0.2432011461660364,0.2202667169098839,0.28010492613603694,0.4789766664618567,0.30911842374445386,0.5864827277502788],\"yaxis\":\"y\",\"type\":\"scatter\"}],                        {\"template\":{\"data\":{\"histogram2dcontour\":[{\"type\":\"histogram2dcontour\",\"colorbar\":{\"outlinewidth\":0,\"ticks\":\"\"},\"colorscale\":[[0.0,\"#0d0887\"],[0.1111111111111111,\"#46039f\"],[0.2222222222222222,\"#7201a8\"],[0.3333333333333333,\"#9c179e\"],[0.4444444444444444,\"#bd3786\"],[0.5555555555555556,\"#d8576b\"],[0.6666666666666666,\"#ed7953\"],[0.7777777777777778,\"#fb9f3a\"],[0.8888888888888888,\"#fdca26\"],[1.0,\"#f0f921\"]]}],\"choropleth\":[{\"type\":\"choropleth\",\"colorbar\":{\"outlinewidth\":0,\"ticks\":\"\"}}],\"histogram2d\":[{\"type\":\"histogram2d\",\"colorbar\":{\"outlinewidth\":0,\"ticks\":\"\"},\"colorscale\":[[0.0,\"#0d0887\"],[0.1111111111111111,\"#46039f\"],[0.2222222222222222,\"#7201a8\"],[0.3333333333333333,\"#9c179e\"],[0.4444444444444444,\"#bd3786\"],[0.5555555555555556,\"#d8576b\"],[0.6666666666666666,\"#ed7953\"],[0.7777777777777778,\"#fb9f3a\"],[0.8888888888888888,\"#fdca26\"],[1.0,\"#f0f921\"]]}],\"heatmap\":[{\"type\":\"heatmap\",\"colorbar\":{\"outlinewidth\":0,\"ticks\":\"\"},\"colorscale\":[[0.0,\"#0d0887\"],[0.1111111111111111,\"#46039f\"],[0.2222222222222222,\"#7201a8\"],[0.3333333333333333,\"#9c179e\"],[0.4444444444444444,\"#bd3786\"],[0.5555555555555556,\"#d8576b\"],[0.6666666666666666,\"#ed7953\"],[0.7777777777777778,\"#fb9f3a\"],[0.8888888888888888,\"#fdca26\"],[1.0,\"#f0f921\"]]}],\"heatmapgl\":[{\"type\":\"heatmapgl\",\"colorbar\":{\"outlinewidth\":0,\"ticks\":\"\"},\"colorscale\":[[0.0,\"#0d0887\"],[0.1111111111111111,\"#46039f\"],[0.2222222222222222,\"#7201a8\"],[0.3333333333333333,\"#9c179e\"],[0.4444444444444444,\"#bd3786\"],[0.5555555555555556,\"#d8576b\"],[0.6666666666666666,\"#ed7953\"],[0.7777777777777778,\"#fb9f3a\"],[0.8888888888888888,\"#fdca26\"],[1.0,\"#f0f921\"]]}],\"contourcarpet\":[{\"type\":\"contourcarpet\",\"colorbar\":{\"outlinewidth\":0,\"ticks\":\"\"}}],\"contour\":[{\"type\":\"contour\",\"colorbar\":{\"outlinewidth\":0,\"ticks\":\"\"},\"colorscale\":[[0.0,\"#0d0887\"],[0.1111111111111111,\"#46039f\"],[0.2222222222222222,\"#7201a8\"],[0.3333333333333333,\"#9c179e\"],[0.4444444444444444,\"#bd3786\"],[0.5555555555555556,\"#d8576b\"],[0.6666666666666666,\"#ed7953\"],[0.7777777777777778,\"#fb9f3a\"],[0.8888888888888888,\"#fdca26\"],[1.0,\"#f0f921\"]]}],\"surface\":[{\"type\":\"surface\",\"colorbar\":{\"outlinewidth\":0,\"ticks\":\"\"},\"colorscale\":[[0.0,\"#0d0887\"],[0.1111111111111111,\"#46039f\"],[0.2222222222222222,\"#7201a8\"],[0.3333333333333333,\"#9c179e\"],[0.4444444444444444,\"#bd3786\"],[0.5555555555555556,\"#d8576b\"],[0.6666666666666666,\"#ed7953\"],[0.7777777777777778,\"#fb9f3a\"],[0.8888888888888888,\"#fdca26\"],[1.0,\"#f0f921\"]]}],\"mesh3d\":[{\"type\":\"mesh3d\",\"colorbar\":{\"outlinewidth\":0,\"ticks\":\"\"}}],\"scatter\":[{\"fillpattern\":{\"fillmode\":\"overlay\",\"size\":10,\"solidity\":0.2},\"type\":\"scatter\"}],\"parcoords\":[{\"type\":\"parcoords\",\"line\":{\"colorbar\":{\"outlinewidth\":0,\"ticks\":\"\"}}}],\"scatterpolargl\":[{\"type\":\"scatterpolargl\",\"marker\":{\"colorbar\":{\"outlinewidth\":0,\"ticks\":\"\"}}}],\"bar\":[{\"error_x\":{\"color\":\"#2a3f5f\"},\"error_y\":{\"color\":\"#2a3f5f\"},\"marker\":{\"line\":{\"color\":\"#E5ECF6\",\"width\":0.5},\"pattern\":{\"fillmode\":\"overlay\",\"size\":10,\"solidity\":0.2}},\"type\":\"bar\"}],\"scattergeo\":[{\"type\":\"scattergeo\",\"marker\":{\"colorbar\":{\"outlinewidth\":0,\"ticks\":\"\"}}}],\"scatterpolar\":[{\"type\":\"scatterpolar\",\"marker\":{\"colorbar\":{\"outlinewidth\":0,\"ticks\":\"\"}}}],\"histogram\":[{\"marker\":{\"pattern\":{\"fillmode\":\"overlay\",\"size\":10,\"solidity\":0.2}},\"type\":\"histogram\"}],\"scattergl\":[{\"type\":\"scattergl\",\"marker\":{\"colorbar\":{\"outlinewidth\":0,\"ticks\":\"\"}}}],\"scatter3d\":[{\"type\":\"scatter3d\",\"line\":{\"colorbar\":{\"outlinewidth\":0,\"ticks\":\"\"}},\"marker\":{\"colorbar\":{\"outlinewidth\":0,\"ticks\":\"\"}}}],\"scattermapbox\":[{\"type\":\"scattermapbox\",\"marker\":{\"colorbar\":{\"outlinewidth\":0,\"ticks\":\"\"}}}],\"scatterternary\":[{\"type\":\"scatterternary\",\"marker\":{\"colorbar\":{\"outlinewidth\":0,\"ticks\":\"\"}}}],\"scattercarpet\":[{\"type\":\"scattercarpet\",\"marker\":{\"colorbar\":{\"outlinewidth\":0,\"ticks\":\"\"}}}],\"carpet\":[{\"aaxis\":{\"endlinecolor\":\"#2a3f5f\",\"gridcolor\":\"white\",\"linecolor\":\"white\",\"minorgridcolor\":\"white\",\"startlinecolor\":\"#2a3f5f\"},\"baxis\":{\"endlinecolor\":\"#2a3f5f\",\"gridcolor\":\"white\",\"linecolor\":\"white\",\"minorgridcolor\":\"white\",\"startlinecolor\":\"#2a3f5f\"},\"type\":\"carpet\"}],\"table\":[{\"cells\":{\"fill\":{\"color\":\"#EBF0F8\"},\"line\":{\"color\":\"white\"}},\"header\":{\"fill\":{\"color\":\"#C8D4E3\"},\"line\":{\"color\":\"white\"}},\"type\":\"table\"}],\"barpolar\":[{\"marker\":{\"line\":{\"color\":\"#E5ECF6\",\"width\":0.5},\"pattern\":{\"fillmode\":\"overlay\",\"size\":10,\"solidity\":0.2}},\"type\":\"barpolar\"}],\"pie\":[{\"automargin\":true,\"type\":\"pie\"}]},\"layout\":{\"autotypenumbers\":\"strict\",\"colorway\":[\"#636efa\",\"#EF553B\",\"#00cc96\",\"#ab63fa\",\"#FFA15A\",\"#19d3f3\",\"#FF6692\",\"#B6E880\",\"#FF97FF\",\"#FECB52\"],\"font\":{\"color\":\"#2a3f5f\"},\"hovermode\":\"closest\",\"hoverlabel\":{\"align\":\"left\"},\"paper_bgcolor\":\"white\",\"plot_bgcolor\":\"#E5ECF6\",\"polar\":{\"bgcolor\":\"#E5ECF6\",\"angularaxis\":{\"gridcolor\":\"white\",\"linecolor\":\"white\",\"ticks\":\"\"},\"radialaxis\":{\"gridcolor\":\"white\",\"linecolor\":\"white\",\"ticks\":\"\"}},\"ternary\":{\"bgcolor\":\"#E5ECF6\",\"aaxis\":{\"gridcolor\":\"white\",\"linecolor\":\"white\",\"ticks\":\"\"},\"baxis\":{\"gridcolor\":\"white\",\"linecolor\":\"white\",\"ticks\":\"\"},\"caxis\":{\"gridcolor\":\"white\",\"linecolor\":\"white\",\"ticks\":\"\"}},\"coloraxis\":{\"colorbar\":{\"outlinewidth\":0,\"ticks\":\"\"}},\"colorscale\":{\"sequential\":[[0.0,\"#0d0887\"],[0.1111111111111111,\"#46039f\"],[0.2222222222222222,\"#7201a8\"],[0.3333333333333333,\"#9c179e\"],[0.4444444444444444,\"#bd3786\"],[0.5555555555555556,\"#d8576b\"],[0.6666666666666666,\"#ed7953\"],[0.7777777777777778,\"#fb9f3a\"],[0.8888888888888888,\"#fdca26\"],[1.0,\"#f0f921\"]],\"sequentialminus\":[[0.0,\"#0d0887\"],[0.1111111111111111,\"#46039f\"],[0.2222222222222222,\"#7201a8\"],[0.3333333333333333,\"#9c179e\"],[0.4444444444444444,\"#bd3786\"],[0.5555555555555556,\"#d8576b\"],[0.6666666666666666,\"#ed7953\"],[0.7777777777777778,\"#fb9f3a\"],[0.8888888888888888,\"#fdca26\"],[1.0,\"#f0f921\"]],\"diverging\":[[0,\"#8e0152\"],[0.1,\"#c51b7d\"],[0.2,\"#de77ae\"],[0.3,\"#f1b6da\"],[0.4,\"#fde0ef\"],[0.5,\"#f7f7f7\"],[0.6,\"#e6f5d0\"],[0.7,\"#b8e186\"],[0.8,\"#7fbc41\"],[0.9,\"#4d9221\"],[1,\"#276419\"]]},\"xaxis\":{\"gridcolor\":\"white\",\"linecolor\":\"white\",\"ticks\":\"\",\"title\":{\"standoff\":15},\"zerolinecolor\":\"white\",\"automargin\":true,\"zerolinewidth\":2},\"yaxis\":{\"gridcolor\":\"white\",\"linecolor\":\"white\",\"ticks\":\"\",\"title\":{\"standoff\":15},\"zerolinecolor\":\"white\",\"automargin\":true,\"zerolinewidth\":2},\"scene\":{\"xaxis\":{\"backgroundcolor\":\"#E5ECF6\",\"gridcolor\":\"white\",\"linecolor\":\"white\",\"showbackground\":true,\"ticks\":\"\",\"zerolinecolor\":\"white\",\"gridwidth\":2},\"yaxis\":{\"backgroundcolor\":\"#E5ECF6\",\"gridcolor\":\"white\",\"linecolor\":\"white\",\"showbackground\":true,\"ticks\":\"\",\"zerolinecolor\":\"white\",\"gridwidth\":2},\"zaxis\":{\"backgroundcolor\":\"#E5ECF6\",\"gridcolor\":\"white\",\"linecolor\":\"white\",\"showbackground\":true,\"ticks\":\"\",\"zerolinecolor\":\"white\",\"gridwidth\":2}},\"shapedefaults\":{\"line\":{\"color\":\"#2a3f5f\"}},\"annotationdefaults\":{\"arrowcolor\":\"#2a3f5f\",\"arrowhead\":0,\"arrowwidth\":1},\"geo\":{\"bgcolor\":\"white\",\"landcolor\":\"#E5ECF6\",\"subunitcolor\":\"white\",\"showland\":true,\"showlakes\":true,\"lakecolor\":\"white\"},\"title\":{\"x\":0.05},\"mapbox\":{\"style\":\"light\"}}},\"xaxis\":{\"anchor\":\"y\",\"domain\":[0.0,1.0],\"title\":{\"text\":\"Date\"}},\"yaxis\":{\"anchor\":\"x\",\"domain\":[0.0,1.0],\"title\":{\"text\":\"Band mean\"}},\"legend\":{\"tracegroupgap\":0},\"title\":{\"text\":\"NDMI Time Series\"}},                        {\"responsive\": true}                    ).then(function(){\n",
       "                            \n",
       "var gd = document.getElementById('156ce522-60a9-43f9-b6dc-a7a9365466a3');\n",
       "var x = new MutationObserver(function (mutations, observer) {{\n",
       "        var display = window.getComputedStyle(gd).display;\n",
       "        if (!display || display === 'none') {{\n",
       "            console.log([gd, 'removed!']);\n",
       "            Plotly.purge(gd);\n",
       "            observer.disconnect();\n",
       "        }}\n",
       "}});\n",
       "\n",
       "// Listen for the removal of the full notebook cells\n",
       "var notebookContainer = gd.closest('#notebook-container');\n",
       "if (notebookContainer) {{\n",
       "    x.observe(notebookContainer, {childList: true});\n",
       "}}\n",
       "\n",
       "// Listen for the clearing of the current output cell\n",
       "var outputEl = gd.closest('.output');\n",
       "if (outputEl) {{\n",
       "    x.observe(outputEl, {childList: true});\n",
       "}}\n",
       "\n",
       "                        })                };                });            </script>        </div>"
      ]
     },
     "metadata": {},
     "output_type": "display_data"
    },
    {
     "name": "stdout",
     "output_type": "stream",
     "text": [
      "done\n"
     ]
    }
   ],
   "source": [
    "\n",
    "fig = px.line(data, x='Date', y='NDVI_mean', title='NDVI Time Series', labels={'NDVI_mean': 'Band mean'})\n",
    "fig.show()\n",
    "\n",
    "fig_ndre = px.line(ndre_data, x='Date', y='NDRE_mean', title='NDRE Time Series', labels={'NDRE_mean': 'Band mean'})\n",
    "fig_ndre.show()\n",
    "\n",
    "fig_ndmi = px.line(ndmi_data, x='Date', y='NDMI_mean', title='NDMI Time Series', labels={'NDMI_mean': 'Band mean'})\n",
    "fig_ndmi.show()\n",
    "\n",
    "# Save to CSV (use a valid local directory path here)\n",
    "data.to_csv(r\"D:\\pythonCourse05-04-2024\\newNDvi_timeSeries.csv\", index=False)\n",
    "ndre_data.to_csv(r\"D:\\pythonCourse05-04-2024\\newNDRE_timeSeries.csv\", index=False)\n",
    "ndmi_data.to_csv(r\"D:\\pythonCourse05-04-2024\\newNDMI_timeSeries.csv\", index=False)\n",
    "print('done')"
   ]
  },
  {
   "cell_type": "markdown",
   "id": "1ecfc476-f28f-469d-9e5b-25bf310c492d",
   "metadata": {},
   "source": [
    "### Visualizes elevation, slope, and hillshade of the region by processing DEM data and adding them to the map with appropriate styling.\n"
   ]
  },
  {
   "cell_type": "code",
   "execution_count": 103,
   "id": "fadb8725-0bfc-4544-974e-fb0244390a2b",
   "metadata": {},
   "outputs": [
    {
     "data": {
      "text/html": [
       "\n",
       "            <style>\n",
       "                .geemap-dark {\n",
       "                    --jp-widgets-color: white;\n",
       "                    --jp-widgets-label-color: white;\n",
       "                    --jp-ui-font-color1: white;\n",
       "                    --jp-layout-color2: #454545;\n",
       "                    background-color: #383838;\n",
       "                }\n",
       "\n",
       "                .geemap-dark .jupyter-button {\n",
       "                    --jp-layout-color3: #383838;\n",
       "                }\n",
       "\n",
       "                .geemap-colab {\n",
       "                    background-color: var(--colab-primary-surface-color, white);\n",
       "                }\n",
       "\n",
       "                .geemap-colab .jupyter-button {\n",
       "                    --jp-layout-color3: var(--colab-primary-surface-color, white);\n",
       "                }\n",
       "            </style>\n",
       "            "
      ],
      "text/plain": [
       "<IPython.core.display.HTML object>"
      ]
     },
     "metadata": {},
     "output_type": "display_data"
    }
   ],
   "source": [
    "dataset_dem = ee.Image('USGS/SRTMGL1_003').clip(region)\n",
    "elevation = dataset_dem.select('elevation').clip(region)\n",
    "map.addLayer( elevation ,{'palette':['blue','yellow','green'],'min':0 , 'max':100},'elevation')\n",
    "slope = ee.Terrain.slope(elevation)\n",
    "map.addLayer(slope, {min:0,max:100}, 'slope')\n",
    "hillshade =  ee.Terrain.hillshade(elevation).divide(20)\n",
    "map.addLayer( hillshade ,{'palette':['red','yellow','green'] ,'min':0 , 'max':255},'hillshade')"
   ]
  },
  {
   "cell_type": "markdown",
   "id": "78765708-e929-4ba0-b97c-f7d87a3cf2a9",
   "metadata": {},
   "source": [
    "## output path"
   ]
  },
  {
   "cell_type": "code",
   "execution_count": 104,
   "id": "1015089f-e9a9-4b9f-9721-d7a3e578f040",
   "metadata": {},
   "outputs": [
    {
     "data": {
      "text/html": [
       "\n",
       "            <style>\n",
       "                .geemap-dark {\n",
       "                    --jp-widgets-color: white;\n",
       "                    --jp-widgets-label-color: white;\n",
       "                    --jp-ui-font-color1: white;\n",
       "                    --jp-layout-color2: #454545;\n",
       "                    background-color: #383838;\n",
       "                }\n",
       "\n",
       "                .geemap-dark .jupyter-button {\n",
       "                    --jp-layout-color3: #383838;\n",
       "                }\n",
       "\n",
       "                .geemap-colab {\n",
       "                    background-color: var(--colab-primary-surface-color, white);\n",
       "                }\n",
       "\n",
       "                .geemap-colab .jupyter-button {\n",
       "                    --jp-layout-color3: var(--colab-primary-surface-color, white);\n",
       "                }\n",
       "            </style>\n",
       "            "
      ],
      "text/plain": [
       "<IPython.core.display.HTML object>"
      ]
     },
     "metadata": {},
     "output_type": "display_data"
    }
   ],
   "source": [
    "elevation_path = r\"D:\\pythonCourse05-04-2024\\Git_Hub\\elevation_sample.tif\"\n",
    "slope_path = r\"D:\\pythonCourse05-04-2024\\Git_Hub\\slope_sample.tif\"\n",
    "hillshade_path = r\"D:\\pythonCourse05-04-2024\\Git_Hub\\hillshade_sample.tif\""
   ]
  },
  {
   "cell_type": "markdown",
   "id": "9cfcb8b2-aa5b-4985-a9d3-d92d0debde97",
   "metadata": {},
   "source": [
    "## Exports the elevation data "
   ]
  },
  {
   "cell_type": "code",
   "execution_count": 105,
   "id": "2efefc05-498e-43d9-adc3-0f1adcf9eff0",
   "metadata": {},
   "outputs": [
    {
     "data": {
      "text/html": [
       "\n",
       "            <style>\n",
       "                .geemap-dark {\n",
       "                    --jp-widgets-color: white;\n",
       "                    --jp-widgets-label-color: white;\n",
       "                    --jp-ui-font-color1: white;\n",
       "                    --jp-layout-color2: #454545;\n",
       "                    background-color: #383838;\n",
       "                }\n",
       "\n",
       "                .geemap-dark .jupyter-button {\n",
       "                    --jp-layout-color3: #383838;\n",
       "                }\n",
       "\n",
       "                .geemap-colab {\n",
       "                    background-color: var(--colab-primary-surface-color, white);\n",
       "                }\n",
       "\n",
       "                .geemap-colab .jupyter-button {\n",
       "                    --jp-layout-color3: var(--colab-primary-surface-color, white);\n",
       "                }\n",
       "            </style>\n",
       "            "
      ],
      "text/plain": [
       "<IPython.core.display.HTML object>"
      ]
     },
     "metadata": {},
     "output_type": "display_data"
    },
    {
     "name": "stdout",
     "output_type": "stream",
     "text": [
      "Generating URL ...\n",
      "Downloading data from https://earthengine.googleapis.com/v1/projects/archanagis/thumbnails/125bc4239ced2cd27447205c4082a686-deaa518a11bed4f9a9c1e43b6f9d0f42:getPixels\n",
      "Please wait ...\n",
      "Data downloaded to D:\\pythonCourse05-04-2024\\Git_Hub\\elevation_sample.tif\n",
      "Export completed.\n"
     ]
    }
   ],
   "source": [
    "geemap.ee_export_image(\n",
    "    elevation,\n",
    "    filename=elevation_path,\n",
    "    region=region,\n",
    "    crs=crs,\n",
    "    scale=scale,\n",
    "    file_per_band=file_per_band\n",
    ")\n",
    "\n",
    "print('Export completed.')"
   ]
  },
  {
   "cell_type": "markdown",
   "id": "08f6d227-a189-4b3c-910b-62c1ddd8b7ed",
   "metadata": {},
   "source": [
    "## Exports the slope data"
   ]
  },
  {
   "cell_type": "code",
   "execution_count": 106,
   "id": "ad129601-6db6-430f-8279-78f80619f6f5",
   "metadata": {},
   "outputs": [
    {
     "data": {
      "text/html": [
       "\n",
       "            <style>\n",
       "                .geemap-dark {\n",
       "                    --jp-widgets-color: white;\n",
       "                    --jp-widgets-label-color: white;\n",
       "                    --jp-ui-font-color1: white;\n",
       "                    --jp-layout-color2: #454545;\n",
       "                    background-color: #383838;\n",
       "                }\n",
       "\n",
       "                .geemap-dark .jupyter-button {\n",
       "                    --jp-layout-color3: #383838;\n",
       "                }\n",
       "\n",
       "                .geemap-colab {\n",
       "                    background-color: var(--colab-primary-surface-color, white);\n",
       "                }\n",
       "\n",
       "                .geemap-colab .jupyter-button {\n",
       "                    --jp-layout-color3: var(--colab-primary-surface-color, white);\n",
       "                }\n",
       "            </style>\n",
       "            "
      ],
      "text/plain": [
       "<IPython.core.display.HTML object>"
      ]
     },
     "metadata": {},
     "output_type": "display_data"
    },
    {
     "name": "stdout",
     "output_type": "stream",
     "text": [
      "Generating URL ...\n",
      "Downloading data from https://earthengine.googleapis.com/v1/projects/archanagis/thumbnails/8c29eabc7031eb9ae0e4db194944c2c5-2136758be397b0ba731a55f6f5fe9efe:getPixels\n",
      "Please wait ...\n",
      "Data downloaded to D:\\pythonCourse05-04-2024\\Git_Hub\\slope_sample.tif\n",
      "export slope\n"
     ]
    }
   ],
   "source": [
    "geemap.ee_export_image(\n",
    "        slope,\n",
    "        filename= slope_path,\n",
    "        region = region,\n",
    "        scale = scale,\n",
    "        file_per_band = file_per_band\n",
    ")\n",
    "print('export slope')"
   ]
  },
  {
   "cell_type": "markdown",
   "id": "5f799016-77c2-468c-aeac-62e76bd8d5ed",
   "metadata": {},
   "source": [
    "## Exports the hillshade data"
   ]
  },
  {
   "cell_type": "code",
   "execution_count": 107,
   "id": "6e6aa228-dd4a-45a9-b67a-afdd9c29e40e",
   "metadata": {},
   "outputs": [
    {
     "data": {
      "text/html": [
       "\n",
       "            <style>\n",
       "                .geemap-dark {\n",
       "                    --jp-widgets-color: white;\n",
       "                    --jp-widgets-label-color: white;\n",
       "                    --jp-ui-font-color1: white;\n",
       "                    --jp-layout-color2: #454545;\n",
       "                    background-color: #383838;\n",
       "                }\n",
       "\n",
       "                .geemap-dark .jupyter-button {\n",
       "                    --jp-layout-color3: #383838;\n",
       "                }\n",
       "\n",
       "                .geemap-colab {\n",
       "                    background-color: var(--colab-primary-surface-color, white);\n",
       "                }\n",
       "\n",
       "                .geemap-colab .jupyter-button {\n",
       "                    --jp-layout-color3: var(--colab-primary-surface-color, white);\n",
       "                }\n",
       "            </style>\n",
       "            "
      ],
      "text/plain": [
       "<IPython.core.display.HTML object>"
      ]
     },
     "metadata": {},
     "output_type": "display_data"
    },
    {
     "name": "stdout",
     "output_type": "stream",
     "text": [
      "Generating URL ...\n",
      "Downloading data from https://earthengine.googleapis.com/v1/projects/archanagis/thumbnails/082692c0b4f61be9a1951d514fde9d5e-078fe22f66c22d35c6d46079009a4590:getPixels\n",
      "Please wait ...\n",
      "Data downloaded to D:\\pythonCourse05-04-2024\\Git_Hub\\hillshade_sample.tif\n",
      "export hillshade\n"
     ]
    }
   ],
   "source": [
    "geemap.ee_export_image(\n",
    "        hillshade, \n",
    "        filename = hillshade_path,\n",
    "        region = region,\n",
    "        scale = scale,\n",
    "        file_per_band = file_per_band\n",
    ")\n",
    "print('export hillshade')"
   ]
  },
  {
   "cell_type": "markdown",
   "id": "1b39db80-3d76-4d07-931b-9509e5b132f6",
   "metadata": {},
   "source": [
    "##  canopy height"
   ]
  },
  {
   "cell_type": "code",
   "execution_count": 108,
   "id": "d028f5c1-bf5b-4308-b981-7182faf9d515",
   "metadata": {},
   "outputs": [
    {
     "data": {
      "text/html": [
       "\n",
       "            <style>\n",
       "                .geemap-dark {\n",
       "                    --jp-widgets-color: white;\n",
       "                    --jp-widgets-label-color: white;\n",
       "                    --jp-ui-font-color1: white;\n",
       "                    --jp-layout-color2: #454545;\n",
       "                    background-color: #383838;\n",
       "                }\n",
       "\n",
       "                .geemap-dark .jupyter-button {\n",
       "                    --jp-layout-color3: #383838;\n",
       "                }\n",
       "\n",
       "                .geemap-colab {\n",
       "                    background-color: var(--colab-primary-surface-color, white);\n",
       "                }\n",
       "\n",
       "                .geemap-colab .jupyter-button {\n",
       "                    --jp-layout-color3: var(--colab-primary-surface-color, white);\n",
       "                }\n",
       "            </style>\n",
       "            "
      ],
      "text/plain": [
       "<IPython.core.display.HTML object>"
      ]
     },
     "metadata": {},
     "output_type": "display_data"
    }
   ],
   "source": [
    "canopy_height_ETH = ee.Image(\"users/nlang/ETH_GlobalCanopyHeight_2020_10m_v1\")\n",
    "ch = canopy_height_ETH.clip(region)"
   ]
  },
  {
   "cell_type": "markdown",
   "id": "48d390b5-5bfb-4114-a68e-0ebdf4c54c8a",
   "metadata": {},
   "source": [
    "## Mask out the values that are equal to 255"
   ]
  },
  {
   "cell_type": "code",
   "execution_count": 109,
   "id": "5627927d-ff6a-4601-994a-352ff58f0d4a",
   "metadata": {},
   "outputs": [
    {
     "data": {
      "text/html": [
       "\n",
       "            <style>\n",
       "                .geemap-dark {\n",
       "                    --jp-widgets-color: white;\n",
       "                    --jp-widgets-label-color: white;\n",
       "                    --jp-ui-font-color1: white;\n",
       "                    --jp-layout-color2: #454545;\n",
       "                    background-color: #383838;\n",
       "                }\n",
       "\n",
       "                .geemap-dark .jupyter-button {\n",
       "                    --jp-layout-color3: #383838;\n",
       "                }\n",
       "\n",
       "                .geemap-colab {\n",
       "                    background-color: var(--colab-primary-surface-color, white);\n",
       "                }\n",
       "\n",
       "                .geemap-colab .jupyter-button {\n",
       "                    --jp-layout-color3: var(--colab-primary-surface-color, white);\n",
       "                }\n",
       "            </style>\n",
       "            "
      ],
      "text/plain": [
       "<IPython.core.display.HTML object>"
      ]
     },
     "metadata": {},
     "output_type": "display_data"
    }
   ],
   "source": [
    "ch_masked = ch.updateMask(ch.neq(255))"
   ]
  },
  {
   "cell_type": "code",
   "execution_count": 110,
   "id": "05a8a6af-56da-42f4-974c-c8e5e04b6222",
   "metadata": {},
   "outputs": [
    {
     "data": {
      "text/html": [
       "\n",
       "            <style>\n",
       "                .geemap-dark {\n",
       "                    --jp-widgets-color: white;\n",
       "                    --jp-widgets-label-color: white;\n",
       "                    --jp-ui-font-color1: white;\n",
       "                    --jp-layout-color2: #454545;\n",
       "                    background-color: #383838;\n",
       "                }\n",
       "\n",
       "                .geemap-dark .jupyter-button {\n",
       "                    --jp-layout-color3: #383838;\n",
       "                }\n",
       "\n",
       "                .geemap-colab {\n",
       "                    background-color: var(--colab-primary-surface-color, white);\n",
       "                }\n",
       "\n",
       "                .geemap-colab .jupyter-button {\n",
       "                    --jp-layout-color3: var(--colab-primary-surface-color, white);\n",
       "                }\n",
       "            </style>\n",
       "            "
      ],
      "text/plain": [
       "<IPython.core.display.HTML object>"
      ]
     },
     "metadata": {},
     "output_type": "display_data"
    }
   ],
   "source": [
    "canopy_vis = {\n",
    "    'min': 0,\n",
    "    'max': 21,\n",
    "    'palette': ['red', 'yellow', 'green']}\n",
    " \n",
    "map.addLayer(ch,canopy_vis,'canopy height')\n"
   ]
  },
  {
   "cell_type": "markdown",
   "id": "ed130d31-3f68-457e-8687-5bd36a96683c",
   "metadata": {},
   "source": [
    "## Cast the image to float32 before exporting"
   ]
  },
  {
   "cell_type": "code",
   "execution_count": 111,
   "id": "d001c2a0-863d-49cc-a237-94dea8f021de",
   "metadata": {},
   "outputs": [
    {
     "data": {
      "text/html": [
       "\n",
       "            <style>\n",
       "                .geemap-dark {\n",
       "                    --jp-widgets-color: white;\n",
       "                    --jp-widgets-label-color: white;\n",
       "                    --jp-ui-font-color1: white;\n",
       "                    --jp-layout-color2: #454545;\n",
       "                    background-color: #383838;\n",
       "                }\n",
       "\n",
       "                .geemap-dark .jupyter-button {\n",
       "                    --jp-layout-color3: #383838;\n",
       "                }\n",
       "\n",
       "                .geemap-colab {\n",
       "                    background-color: var(--colab-primary-surface-color, white);\n",
       "                }\n",
       "\n",
       "                .geemap-colab .jupyter-button {\n",
       "                    --jp-layout-color3: var(--colab-primary-surface-color, white);\n",
       "                }\n",
       "            </style>\n",
       "            "
      ],
      "text/plain": [
       "<IPython.core.display.HTML object>"
      ]
     },
     "metadata": {},
     "output_type": "display_data"
    }
   ],
   "source": [
    "ch_float32 = ch_masked.toFloat()"
   ]
  },
  {
   "cell_type": "markdown",
   "id": "d63adc1c-f3cc-44a6-8311-0cfd94bb3a9e",
   "metadata": {},
   "source": [
    "## Exports the canopy height data "
   ]
  },
  {
   "cell_type": "code",
   "execution_count": 112,
   "id": "7eaaf7a7-dcc8-403d-b840-98745c86d173",
   "metadata": {},
   "outputs": [
    {
     "data": {
      "text/html": [
       "\n",
       "            <style>\n",
       "                .geemap-dark {\n",
       "                    --jp-widgets-color: white;\n",
       "                    --jp-widgets-label-color: white;\n",
       "                    --jp-ui-font-color1: white;\n",
       "                    --jp-layout-color2: #454545;\n",
       "                    background-color: #383838;\n",
       "                }\n",
       "\n",
       "                .geemap-dark .jupyter-button {\n",
       "                    --jp-layout-color3: #383838;\n",
       "                }\n",
       "\n",
       "                .geemap-colab {\n",
       "                    background-color: var(--colab-primary-surface-color, white);\n",
       "                }\n",
       "\n",
       "                .geemap-colab .jupyter-button {\n",
       "                    --jp-layout-color3: var(--colab-primary-surface-color, white);\n",
       "                }\n",
       "            </style>\n",
       "            "
      ],
      "text/plain": [
       "<IPython.core.display.HTML object>"
      ]
     },
     "metadata": {},
     "output_type": "display_data"
    },
    {
     "name": "stdout",
     "output_type": "stream",
     "text": [
      "Generating URL ...\n",
      "Downloading data from https://earthengine.googleapis.com/v1/projects/archanagis/thumbnails/8e106269ea53e9255ca37b55f37603d1-dcf528d18a68439ae0ce428c04a9509a:getPixels\n",
      "Please wait ...\n",
      "Data downloaded to D:\\pythonCourse05-04-2024\\Git_Hub\\elevation_canopy_height_ETH.tif\n"
     ]
    }
   ],
   "source": [
    "geemap.ee_export_image(\n",
    "    ch_float32,\n",
    "    r\"D:\\pythonCourse05-04-2024\\Git_Hub\\elevation_canopy_height_ETH.tif\",\n",
    "    region=region,\n",
    "    crs='EPSG:4326',\n",
    "    scale=10\n",
    ")"
   ]
  },
  {
   "cell_type": "markdown",
   "id": "f3a856bb-16ba-4ba4-b23e-f081342411ca",
   "metadata": {},
   "source": [
    "## precipitation data"
   ]
  },
  {
   "cell_type": "code",
   "execution_count": 146,
   "id": "9cd936ed-8cee-438e-a75d-eeef451f08ba",
   "metadata": {},
   "outputs": [
    {
     "data": {
      "text/html": [
       "\n",
       "            <style>\n",
       "                .geemap-dark {\n",
       "                    --jp-widgets-color: white;\n",
       "                    --jp-widgets-label-color: white;\n",
       "                    --jp-ui-font-color1: white;\n",
       "                    --jp-layout-color2: #454545;\n",
       "                    background-color: #383838;\n",
       "                }\n",
       "\n",
       "                .geemap-dark .jupyter-button {\n",
       "                    --jp-layout-color3: #383838;\n",
       "                }\n",
       "\n",
       "                .geemap-colab {\n",
       "                    background-color: var(--colab-primary-surface-color, white);\n",
       "                }\n",
       "\n",
       "                .geemap-colab .jupyter-button {\n",
       "                    --jp-layout-color3: var(--colab-primary-surface-color, white);\n",
       "                }\n",
       "            </style>\n",
       "            "
      ],
      "text/plain": [
       "<IPython.core.display.HTML object>"
      ]
     },
     "metadata": {},
     "output_type": "display_data"
    }
   ],
   "source": [
    "dataset = ee.ImageCollection(\"UCSB-CHG/CHIRPS/DAILY\")\\\n",
    "            .filterDate(start_date,end_date)\\\n",
    "            .filterBounds(region)"
   ]
  },
  {
   "cell_type": "markdown",
   "id": "48549c91-dc80-47b6-98ba-529e612af6c6",
   "metadata": {},
   "source": [
    " sum() provide daily rainfall data"
   ]
  },
  {
   "cell_type": "code",
   "execution_count": 147,
   "id": "66120fc7-1024-4761-a4dc-1e32fe029913",
   "metadata": {},
   "outputs": [
    {
     "data": {
      "text/html": [
       "\n",
       "            <style>\n",
       "                .geemap-dark {\n",
       "                    --jp-widgets-color: white;\n",
       "                    --jp-widgets-label-color: white;\n",
       "                    --jp-ui-font-color1: white;\n",
       "                    --jp-layout-color2: #454545;\n",
       "                    background-color: #383838;\n",
       "                }\n",
       "\n",
       "                .geemap-dark .jupyter-button {\n",
       "                    --jp-layout-color3: #383838;\n",
       "                }\n",
       "\n",
       "                .geemap-colab {\n",
       "                    background-color: var(--colab-primary-surface-color, white);\n",
       "                }\n",
       "\n",
       "                .geemap-colab .jupyter-button {\n",
       "                    --jp-layout-color3: var(--colab-primary-surface-color, white);\n",
       "                }\n",
       "            </style>\n",
       "            "
      ],
      "text/plain": [
       "<IPython.core.display.HTML object>"
      ]
     },
     "metadata": {},
     "output_type": "display_data"
    }
   ],
   "source": [
    "clip_data = dataset.sum().clip(region)\n",
    "rain = clip_data.select('precipitation')"
   ]
  },
  {
   "cell_type": "code",
   "execution_count": 148,
   "id": "e0b5860e-76d5-4e44-b472-850ba05b54b2",
   "metadata": {},
   "outputs": [
    {
     "data": {
      "text/html": [
       "\n",
       "            <style>\n",
       "                .geemap-dark {\n",
       "                    --jp-widgets-color: white;\n",
       "                    --jp-widgets-label-color: white;\n",
       "                    --jp-ui-font-color1: white;\n",
       "                    --jp-layout-color2: #454545;\n",
       "                    background-color: #383838;\n",
       "                }\n",
       "\n",
       "                .geemap-dark .jupyter-button {\n",
       "                    --jp-layout-color3: #383838;\n",
       "                }\n",
       "\n",
       "                .geemap-colab {\n",
       "                    background-color: var(--colab-primary-surface-color, white);\n",
       "                }\n",
       "\n",
       "                .geemap-colab .jupyter-button {\n",
       "                    --jp-layout-color3: var(--colab-primary-surface-color, white);\n",
       "                }\n",
       "            </style>\n",
       "            "
      ],
      "text/plain": [
       "<IPython.core.display.HTML object>"
      ]
     },
     "metadata": {},
     "output_type": "display_data"
    }
   ],
   "source": [
    "vis = {\n",
    "    'min':0,\n",
    "    'max':30,\n",
    "     'palette': ['001137', '0aab1e', 'e7eb05', 'ff4a2d', 'e90000']}\n",
    "map.addLayer(rain , vis , 'Rainfall')"
   ]
  },
  {
   "cell_type": "code",
   "execution_count": 149,
   "id": "9fdfa09a-3097-4aed-af06-9f923bd9d474",
   "metadata": {},
   "outputs": [
    {
     "data": {
      "text/html": [
       "\n",
       "            <style>\n",
       "                .geemap-dark {\n",
       "                    --jp-widgets-color: white;\n",
       "                    --jp-widgets-label-color: white;\n",
       "                    --jp-ui-font-color1: white;\n",
       "                    --jp-layout-color2: #454545;\n",
       "                    background-color: #383838;\n",
       "                }\n",
       "\n",
       "                .geemap-dark .jupyter-button {\n",
       "                    --jp-layout-color3: #383838;\n",
       "                }\n",
       "\n",
       "                .geemap-colab {\n",
       "                    background-color: var(--colab-primary-surface-color, white);\n",
       "                }\n",
       "\n",
       "                .geemap-colab .jupyter-button {\n",
       "                    --jp-layout-color3: var(--colab-primary-surface-color, white);\n",
       "                }\n",
       "            </style>\n",
       "            "
      ],
      "text/plain": [
       "<IPython.core.display.HTML object>"
      ]
     },
     "metadata": {},
     "output_type": "display_data"
    }
   ],
   "source": [
    "output = r\"D:\\pythonCourse05-04-2024\\Git_Hub\\rainfall_sample.tif\""
   ]
  },
  {
   "cell_type": "markdown",
   "id": "5ef74095-1e41-4ed8-a51b-25a574029eeb",
   "metadata": {},
   "source": [
    "## Exports the precipitation data "
   ]
  },
  {
   "cell_type": "code",
   "execution_count": 150,
   "id": "254488d4-13d5-41df-92f8-4f532351a576",
   "metadata": {},
   "outputs": [
    {
     "data": {
      "text/html": [
       "\n",
       "            <style>\n",
       "                .geemap-dark {\n",
       "                    --jp-widgets-color: white;\n",
       "                    --jp-widgets-label-color: white;\n",
       "                    --jp-ui-font-color1: white;\n",
       "                    --jp-layout-color2: #454545;\n",
       "                    background-color: #383838;\n",
       "                }\n",
       "\n",
       "                .geemap-dark .jupyter-button {\n",
       "                    --jp-layout-color3: #383838;\n",
       "                }\n",
       "\n",
       "                .geemap-colab {\n",
       "                    background-color: var(--colab-primary-surface-color, white);\n",
       "                }\n",
       "\n",
       "                .geemap-colab .jupyter-button {\n",
       "                    --jp-layout-color3: var(--colab-primary-surface-color, white);\n",
       "                }\n",
       "            </style>\n",
       "            "
      ],
      "text/plain": [
       "<IPython.core.display.HTML object>"
      ]
     },
     "metadata": {},
     "output_type": "display_data"
    },
    {
     "name": "stdout",
     "output_type": "stream",
     "text": [
      "Generating URL ...\n",
      "Downloading data from https://earthengine.googleapis.com/v1/projects/archanagis/thumbnails/6a1c1b96e0301904fc10cc5702364899-c14a2c257fdf030ddc8203beb7555a7c:getPixels\n",
      "Please wait ...\n",
      "Data downloaded to D:\\pythonCourse05-04-2024\\Git_Hub\\rainfall_sample.tif\n"
     ]
    }
   ],
   "source": [
    "geemap.ee_export_image(\n",
    "            rain,\n",
    "        filename = output,\n",
    "        scale = 5566,\n",
    "        crs = 'EPSG:4326',\n",
    "        region = region\n",
    "        \n",
    ")"
   ]
  },
  {
   "cell_type": "markdown",
   "id": "decc4bc2-4325-44e0-a537-f0a71337ec2b",
   "metadata": {},
   "source": [
    "## Function to reduce the region and extract precipitation statistics"
   ]
  },
  {
   "cell_type": "code",
   "execution_count": 151,
   "id": "9d4222e4-c433-4957-be6f-1552279098be",
   "metadata": {},
   "outputs": [
    {
     "data": {
      "text/html": [
       "\n",
       "            <style>\n",
       "                .geemap-dark {\n",
       "                    --jp-widgets-color: white;\n",
       "                    --jp-widgets-label-color: white;\n",
       "                    --jp-ui-font-color1: white;\n",
       "                    --jp-layout-color2: #454545;\n",
       "                    background-color: #383838;\n",
       "                }\n",
       "\n",
       "                .geemap-dark .jupyter-button {\n",
       "                    --jp-layout-color3: #383838;\n",
       "                }\n",
       "\n",
       "                .geemap-colab {\n",
       "                    background-color: var(--colab-primary-surface-color, white);\n",
       "                }\n",
       "\n",
       "                .geemap-colab .jupyter-button {\n",
       "                    --jp-layout-color3: var(--colab-primary-surface-color, white);\n",
       "                }\n",
       "            </style>\n",
       "            "
      ],
      "text/plain": [
       "<IPython.core.display.HTML object>"
      ]
     },
     "metadata": {},
     "output_type": "display_data"
    }
   ],
   "source": [
    "\n",
    "def reduce_image(image):\n",
    "    stats = image.reduceRegion(\n",
    "        reducer=ee.Reducer.min().combine(\n",
    "            reducer2=ee.Reducer.max(), sharedInputs=True\n",
    "        ).combine(\n",
    "            reducer2=ee.Reducer.mean(), sharedInputs=True\n",
    "        ).combine(\n",
    "            reducer2=ee.Reducer.stdDev(), sharedInputs=True\n",
    "        ),\n",
    "        geometry=region,\n",
    "        scale=30,\n",
    "        maxPixels=1e10,\n",
    "        bestEffort=True\n",
    "    )\n",
    "    return image.set({\n",
    "        'min': stats.get('precipitation_min'),\n",
    "        'max': stats.get('precipitation_max'),\n",
    "        'mean': stats.get('precipitation_mean'),\n",
    "        'stdDev': stats.get('precipitation_stdDev'),\n",
    "        'system:time_start': image.get('system:time_start')\n",
    "    })"
   ]
  },
  {
   "cell_type": "markdown",
   "id": "f8dc42b7-f42e-4203-adf4-47bf95f1712d",
   "metadata": {},
   "source": [
    " ## Map the function over the collection"
   ]
  },
  {
   "cell_type": "code",
   "execution_count": 152,
   "id": "bf1aa6fe-9b3d-462e-ad10-39e5d1e98c48",
   "metadata": {},
   "outputs": [
    {
     "data": {
      "text/html": [
       "\n",
       "            <style>\n",
       "                .geemap-dark {\n",
       "                    --jp-widgets-color: white;\n",
       "                    --jp-widgets-label-color: white;\n",
       "                    --jp-ui-font-color1: white;\n",
       "                    --jp-layout-color2: #454545;\n",
       "                    background-color: #383838;\n",
       "                }\n",
       "\n",
       "                .geemap-dark .jupyter-button {\n",
       "                    --jp-layout-color3: #383838;\n",
       "                }\n",
       "\n",
       "                .geemap-colab {\n",
       "                    background-color: var(--colab-primary-surface-color, white);\n",
       "                }\n",
       "\n",
       "                .geemap-colab .jupyter-button {\n",
       "                    --jp-layout-color3: var(--colab-primary-surface-color, white);\n",
       "                }\n",
       "            </style>\n",
       "            "
      ],
      "text/plain": [
       "<IPython.core.display.HTML object>"
      ]
     },
     "metadata": {},
     "output_type": "display_data"
    }
   ],
   "source": [
    "stats = dataset.map(reduce_image).filter(ee.Filter.neq('mean', None))"
   ]
  },
  {
   "cell_type": "markdown",
   "id": "601708f2-c5cc-4098-a0b4-8ee62b195364",
   "metadata": {},
   "source": [
    "## Get the list of dates and values"
   ]
  },
  {
   "cell_type": "code",
   "execution_count": 153,
   "id": "e3931d23-5cb7-4f8c-ac7c-442e9bd9191d",
   "metadata": {},
   "outputs": [
    {
     "data": {
      "text/html": [
       "\n",
       "            <style>\n",
       "                .geemap-dark {\n",
       "                    --jp-widgets-color: white;\n",
       "                    --jp-widgets-label-color: white;\n",
       "                    --jp-ui-font-color1: white;\n",
       "                    --jp-layout-color2: #454545;\n",
       "                    background-color: #383838;\n",
       "                }\n",
       "\n",
       "                .geemap-dark .jupyter-button {\n",
       "                    --jp-layout-color3: #383838;\n",
       "                }\n",
       "\n",
       "                .geemap-colab {\n",
       "                    background-color: var(--colab-primary-surface-color, white);\n",
       "                }\n",
       "\n",
       "                .geemap-colab .jupyter-button {\n",
       "                    --jp-layout-color3: var(--colab-primary-surface-color, white);\n",
       "                }\n",
       "            </style>\n",
       "            "
      ],
      "text/plain": [
       "<IPython.core.display.HTML object>"
      ]
     },
     "metadata": {},
     "output_type": "display_data"
    }
   ],
   "source": [
    "dates = stats.aggregate_array('system:time_start').getInfo()\n",
    "min_values = stats.aggregate_array('min').getInfo()\n",
    "max_values = stats.aggregate_array('max').getInfo()\n",
    "mean_values = stats.aggregate_array('mean').getInfo()\n",
    "std_dev_values = stats.aggregate_array('stdDev').getInfo()"
   ]
  },
  {
   "cell_type": "markdown",
   "id": "da7da14d-6bbc-4045-be57-01456d5a1114",
   "metadata": {},
   "source": [
    "### Converts timestamps to datetime format and creates a DataFrame with precipitation statistics (min, max, mean, and standard deviation) for each date.\n"
   ]
  },
  {
   "cell_type": "code",
   "execution_count": 154,
   "id": "c28174e8-6c74-4502-9a8b-f05abd89e709",
   "metadata": {},
   "outputs": [
    {
     "data": {
      "text/html": [
       "\n",
       "            <style>\n",
       "                .geemap-dark {\n",
       "                    --jp-widgets-color: white;\n",
       "                    --jp-widgets-label-color: white;\n",
       "                    --jp-ui-font-color1: white;\n",
       "                    --jp-layout-color2: #454545;\n",
       "                    background-color: #383838;\n",
       "                }\n",
       "\n",
       "                .geemap-dark .jupyter-button {\n",
       "                    --jp-layout-color3: #383838;\n",
       "                }\n",
       "\n",
       "                .geemap-colab {\n",
       "                    background-color: var(--colab-primary-surface-color, white);\n",
       "                }\n",
       "\n",
       "                .geemap-colab .jupyter-button {\n",
       "                    --jp-layout-color3: var(--colab-primary-surface-color, white);\n",
       "                }\n",
       "            </style>\n",
       "            "
      ],
      "text/plain": [
       "<IPython.core.display.HTML object>"
      ]
     },
     "metadata": {},
     "output_type": "display_data"
    }
   ],
   "source": [
    "# Convert timestamps to datetime\n",
    "dates = [datetime.datetime.utcfromtimestamp(d / 1000) for d in dates]\n",
    "# ee_date = ee.Date('2020-01-01')\n",
    "# py_date = datetime.datetime.utcfromtimestamp(ee_date.getInfo()['value']/1000.0)\n",
    "\n",
    "# # Create a DataFrame\n",
    "# data = pd.DataFrame({'Date': dates, 'Precipitation (mm)': values})\n",
    "\n",
    "# Create a DataFrame\n",
    "data = pd.DataFrame({\n",
    "    'Date': dates,\n",
    "    'Min Precipitation (mm)': min_values,\n",
    "    'Max Precipitation (mm)': max_values,\n",
    "    'Mean Precipitation (mm)': mean_values,\n",
    "    'Standard Deviation (mm)': std_dev_values\n",
    "})\n"
   ]
  },
  {
   "cell_type": "markdown",
   "id": "01637d18-cf40-4019-ab42-aa889c8da60f",
   "metadata": {},
   "source": [
    "## Create a Plotly figure"
   ]
  },
  {
   "cell_type": "code",
   "execution_count": 157,
   "id": "4ce7fea1-430d-4718-b9bb-1bb92925b8c2",
   "metadata": {},
   "outputs": [
    {
     "data": {
      "text/html": [
       "\n",
       "            <style>\n",
       "                .geemap-dark {\n",
       "                    --jp-widgets-color: white;\n",
       "                    --jp-widgets-label-color: white;\n",
       "                    --jp-ui-font-color1: white;\n",
       "                    --jp-layout-color2: #454545;\n",
       "                    background-color: #383838;\n",
       "                }\n",
       "\n",
       "                .geemap-dark .jupyter-button {\n",
       "                    --jp-layout-color3: #383838;\n",
       "                }\n",
       "\n",
       "                .geemap-colab {\n",
       "                    background-color: var(--colab-primary-surface-color, white);\n",
       "                }\n",
       "\n",
       "                .geemap-colab .jupyter-button {\n",
       "                    --jp-layout-color3: var(--colab-primary-surface-color, white);\n",
       "                }\n",
       "            </style>\n",
       "            "
      ],
      "text/plain": [
       "<IPython.core.display.HTML object>"
      ]
     },
     "metadata": {},
     "output_type": "display_data"
    },
    {
     "data": {
      "text/html": [
       "\n",
       "<a download=\"precipitation_time_series.csv\" href=\"data:text/csv;charset=utf-8,Date%2CMin Precipitation (mm)%2CMax Precipitation (mm)%2CMean Precipitation (mm)%2CStandard Deviation (mm)\r",
       "%0A2020-01-01%2C0.0%2C0.0%2C0.0%2C0.0\r",
       "%0A2020-01-02%2C0.0%2C12.095416069030762%2C10.480297929590739%2C3.3738259302872406\r",
       "%0A2020-01-03%2C33.40740966796875%2C37.02644348144531%2C36.27795572054339%2C0.705024158398187\r",
       "%0A2020-01-04%2C9.256610870361328%2C17.13439178466797%2C11.838212514542494%2C1.9143965528318871\r",
       "%0A2020-01-05%2C0.0%2C11.13580322265625%2C2.121230765311359%2C3.923384961668222\r",
       "%0A2020-01-06%2C8.613430976867676%2C10.605491638183594%2C10.14736999727258%2C0.8232407869302718\r",
       "%0A2020-01-07%2C0.0%2C0.0%2C0.0%2C0.0\r",
       "%0A2020-01-08%2C10.456236839294434%2C14.140655517578125%2C13.27022041397068%2C1.3560841118985338\r",
       "%0A2020-01-09%2C7.0703277587890625%2C11.484574317932129%2C8.31297751638841%2C1.9137791080903188\r",
       "%0A2020-01-10%2C0.0%2C0.0%2C0.0%2C0.0\r",
       "%0A2020-01-11%2C7.443100452423096%2C16.327367782592773%2C15.128044936074907%2C2.3326748222778115\r",
       "%0A2020-01-12%2C15.647478103637695%2C23.16204833984375%2C16.350088084286877%2C1.853271621051666\r",
       "%0A2020-01-13%2C0.0%2C0.0%2C0.0%2C0.0\r",
       "%0A2020-01-14%2C0.0%2C0.0%2C0.0%2C0.0\r",
       "%0A2020-01-15%2C0.0%2C0.0%2C0.0%2C0.0\r",
       "%0A2020-01-16%2C0.0%2C0.0%2C0.0%2C0.0\r",
       "%0A2020-01-17%2C0.0%2C0.0%2C0.0%2C0.0\r",
       "%0A2020-01-18%2C8.077858924865723%2C8.956863403320312%2C8.838769539228691%2C0.22300559202171522\r",
       "%0A2020-01-19%2C0.0%2C0.0%2C0.0%2C0.0\r",
       "%0A2020-01-20%2C0.0%2C0.0%2C0.0%2C0.0\r",
       "%0A2020-01-21%2C0.0%2C0.0%2C0.0%2C0.0\r",
       "%0A2020-01-22%2C0.0%2C0.0%2C0.0%2C0.0\r",
       "%0A2020-01-23%2C0.0%2C0.0%2C0.0%2C0.0\r",
       "%0A2020-01-24%2C0.0%2C0.0%2C0.0%2C0.0\r",
       "%0A2020-01-25%2C0.0%2C0.0%2C0.0%2C0.0\r",
       "%0A2020-01-26%2C0.0%2C0.0%2C0.0%2C0.0\r",
       "%0A2020-01-27%2C0.0%2C0.0%2C0.0%2C0.0\r",
       "%0A2020-01-28%2C0.0%2C0.0%2C0.0%2C0.0\r",
       "%0A2020-01-29%2C0.0%2C0.0%2C0.0%2C0.0\r",
       "%0A2020-01-30%2C24.98900032043457%2C26.341625213623047%2C25.48131605665535%2C0.27524120830413934\r",
       "%0A2020-01-31%2C0.0%2C0.0%2C0.0%2C0.0\r",
       "%0A2020-02-01%2C4.083116054534912%2C12.305927276611328%2C7.2263974318486435%2C2.7570233313155974\r",
       "%0A2020-02-02%2C0.0%2C0.0%2C0.0%2C0.0\r",
       "%0A2020-02-03%2C0.0%2C0.0%2C0.0%2C0.0\r",
       "%0A2020-02-04%2C6.0466485023498535%2C6.912117958068848%2C6.310169746761956%2C0.1541246098206333\r",
       "%0A2020-02-05%2C0.0%2C9.92495346069336%2C5.543950965554541%2C3.0382568102291936\r",
       "%0A2020-02-06%2C19.098039627075195%2C21.757038116455078%2C19.888890060366837%2C0.4491353515626817\r",
       "%0A2020-02-07%2C21.826332092285156%2C24.865188598632812%2C22.730161037636183%2C0.5132974908669513\r",
       "%0A2020-02-08%2C0.0%2C0.0%2C0.0%2C0.0\r",
       "%0A2020-02-09%2C0.0%2C0.0%2C0.0%2C0.0\r",
       "%0A2020-02-10%2C0.0%2C0.0%2C0.0%2C0.0\r",
       "%0A2020-02-11%2C0.0%2C0.0%2C0.0%2C0.0\r",
       "%0A2020-02-12%2C0.0%2C0.0%2C0.0%2C0.0\r",
       "%0A2020-02-13%2C0.0%2C9.194640159606934%2C6.11102409639096%2C3.3496470424293365\r",
       "%0A2020-02-14%2C0.0%2C0.0%2C0.0%2C0.0\r",
       "%0A2020-02-15%2C0.0%2C13.614974975585938%2C8.768443614065353%2C2.79719952403049\r",
       "%0A2020-02-16%2C0.0%2C0.0%2C0.0%2C0.0\r",
       "%0A2020-02-17%2C0.0%2C24.942934036254883%2C11.016994011951791%2C6.704078236411705\r",
       "%0A2020-02-18%2C19.427663803100586%2C29.494770050048828%2C27.16284852816287%2C4.153450684921337\r",
       "%0A2020-02-19%2C10.508498191833496%2C16.999204635620117%2C13.756498551523057%2C1.744795818673552\r",
       "%0A2020-02-20%2C0.0%2C25.498807907104492%2C14.777413083828506%2C6.698154516609209\r",
       "%0A2020-02-21%2C0.0%2C0.0%2C0.0%2C0.0\r",
       "%0A2020-02-22%2C0.0%2C0.0%2C0.0%2C0.0\r",
       "%0A2020-02-23%2C11.891915321350098%2C21.095285415649414%2C13.466108835698233%2C1.7234863123653688\r",
       "%0A2020-02-24%2C0.0%2C0.0%2C0.0%2C0.0\r",
       "%0A2020-02-25%2C9.262332916259766%2C13.343027114868164%2C12.698848053123355%2C1.1700681253796377\r",
       "%0A2020-02-26%2C7.868288516998291%2C10.095869064331055%2C8.667995608029596%2C0.44376986909077604\r",
       "%0A2020-02-27%2C0.0%2C0.0%2C0.0%2C0.0\r",
       "%0A2020-02-28%2C0.0%2C0.0%2C0.0%2C0.0\r",
       "%0A2020-02-29%2C0.0%2C0.0%2C0.0%2C0.0\r",
       "%0A2020-03-01%2C0.0%2C0.0%2C0.0%2C0.0\r",
       "%0A2020-03-02%2C0.0%2C0.0%2C0.0%2C0.0\r",
       "%0A2020-03-03%2C0.0%2C6.402714729309082%2C4.468115348553279%2C2.9499104907312756\r",
       "%0A2020-03-04%2C19.365041732788086%2C25.610858917236328%2C23.973718572762014%2C2.5142603143590976\r",
       "%0A2020-03-05%2C12.805429458618164%2C22.007793426513672%2C15.037487875655446%2C3.416346237888803\r",
       "%0A2020-03-06%2C6.545803070068359%2C14.616145133972168%2C12.119158107594426%2C2.97127081245297\r",
       "%0A2020-03-07%2C22.442752838134766%2C25.056249618530273%2C23.24815433311726%2C0.47317005523550554\r",
       "%0A2020-03-08%2C26.80360984802246%2C32.7290153503418%2C28.565109073610696%2C2.2304360478366596\r",
       "%0A2020-03-09%2C0.0%2C0.0%2C0.0%2C0.0\r",
       "%0A2020-03-10%2C19.637409210205078%2C27.431419372558594%2C25.626974674413436%2C3.2287830228897585\r",
       "%0A2020-03-11%2C0.0%2C0.0%2C0.0%2C0.0\r",
       "%0A2020-03-12%2C0.0%2C5.404631614685059%2C4.156174062472048%2C2.2636675449247554\r",
       "%0A2020-03-13%2C13.633203506469727%2C18.944965362548828%2C15.611346789300221%2C1.0992283987251976\r",
       "%0A2020-03-14%2C9.088802337646484%2C12.629977226257324%2C10.407564924855697%2C0.7328191885096834\r",
       "%0A2020-03-15%2C5.163121223449707%2C9.088802337646484%2C6.205069460758059%2C1.5396918682152716\r",
       "%0A2020-03-16%2C0.0%2C0.0%2C0.0%2C0.0\r",
       "%0A2020-03-17%2C0.0%2C0.0%2C0.0%2C0.0\r",
       "%0A2020-03-18%2C0.0%2C0.0%2C0.0%2C0.0\r",
       "%0A2020-03-19%2C0.0%2C0.0%2C0.0%2C0.0\r",
       "%0A2020-03-20%2C33.36873245239258%2C36.19953536987305%2C35.415555892023185%2C1.1987618445879482\r",
       "%0A2020-03-21%2C7.691888332366943%2C13.645919799804688%2C9.352514870256533%2C2.296259751309351\r",
       "%0A2020-03-22%2C20.4688777923584%2C29.883264541625977%2C23.547551242062347%2C1.751938274658348\r",
       "%0A2020-03-23%2C15.5953369140625%2C22.768203735351562%2C17.940991342087724%2C1.3348093619044676\r",
       "%0A2020-03-24%2C15.5953369140625%2C37.33845901489258%2C31.62402301463318%2C9.073576774002332\r",
       "%0A2020-03-25%2C0.0%2C8.790729522705078%2C2.37285853014579%2C3.6897848545936536\r",
       "%0A2020-03-26%2C0.0%2C0.0%2C0.0%2C0.0\r",
       "%0A2020-03-27%2C7.2237396240234375%2C16.37209701538086%2C11.439099497387595%2C2.509742811726154\r",
       "%0A2020-03-28%2C7.2237396240234375%2C12.264815330505371%2C10.82937285228116%2C2.2045359006101655\r",
       "%0A2020-03-29%2C0.0%2C0.0%2C0.0%2C0.0\r",
       "%0A2020-03-30%2C14.447479248046875%2C24.529630661010742%2C21.65874570456232%2C4.409071801220331\r",
       "%0A2020-03-31%2C0.0%2C14.447479248046875%2C3.8620450043840524%2C6.070896656951862\r",
       "%0A2020-04-01%2C49.62995910644531%2C60.71787643432617%2C53.37503119165651%2C2.709314065678397\r",
       "%0A2020-04-02%2C24.814979553222656%2C40.47858428955078%2C33.760823652252675%2C4.923193005157921\r",
       "%0A2020-04-03%2C10.239344596862793%2C23.130619049072266%2C13.11099032216979%2C4.56895249554738\r",
       "%0A2020-04-04%2C16.543319702148438%2C20.23929214477539%2C17.79167660621564%2C0.9031046185301602\r",
       "%0A2020-04-05%2C10.119646072387695%2C27.50540542602539%2C18.92771027125114%2C3.8579325015477886\r",
       "%0A2020-04-06%2C0.0%2C26.96034049987793%2C22.619667631418327%2C7.751177412704774\r",
       "%0A2020-04-07%2C0.0%2C0.0%2C0.0%2C0.0\r",
       "%0A2020-04-08%2C0.0%2C0.0%2C0.0%2C0.0\r",
       "%0A2020-04-09%2C0.0%2C0.0%2C0.0%2C0.0\r",
       "%0A2020-04-10%2C0.0%2C17.695026397705078%2C3.805474545741637%2C7.030698047410677\r",
       "%0A2020-04-11%2C0.0%2C0.0%2C0.0%2C0.0\r",
       "%0A2020-04-12%2C0.0%2C0.0%2C0.0%2C0.0\r",
       "%0A2020-04-13%2C0.0%2C0.0%2C0.0%2C0.0\r",
       "%0A2020-04-14%2C28.4644718170166%2C31.51283073425293%2C28.932758573408275%2C0.866839833276454\r",
       "%0A2020-04-15%2C0.0%2C0.0%2C0.0%2C0.0\r",
       "%0A2020-04-16%2C6.143893718719482%2C15.613728523254395%2C6.608777371747604%2C1.0651152549309146\r",
       "%0A2020-04-17%2C0.0%2C0.0%2C0.0%2C0.0\r",
       "%0A2020-04-18%2C0.0%2C0.0%2C0.0%2C0.0\r",
       "%0A2020-04-19%2C0.0%2C0.0%2C0.0%2C0.0\r",
       "%0A2020-04-20%2C0.0%2C7.847813606262207%2C6.494248299075183%2C0.9084775967201983\r",
       "%0A2020-04-21%2C0.0%2C0.0%2C0.0%2C0.0\r",
       "%0A2020-04-22%2C26.095849990844727%2C31.578948974609375%2C27.623927452304795%2C2.339806273079418\r",
       "%0A2020-04-23%2C8.698616027832031%2C10.526317596435547%2C9.207975398424244%2C0.7799357755662449\r",
       "%0A2020-04-24%2C9.688774108886719%2C21.052635192871094%2C16.06231700271753%2C3.265606315776234\r",
       "%0A2020-04-25%2C10.526317596435547%2C20.719118118286133%2C17.631912404287053%2C2.454195838207757\r",
       "%0A2020-04-26%2C0.0%2C13.096796989440918%2C9.13956065815883%2C6.034062185732546\r",
       "%0A2020-04-27%2C0.0%2C0.0%2C0.0%2C0.0\r",
       "%0A2020-04-28%2C40.005104064941406%2C53.32575607299805%2C47.81874457996458%2C3.2168319041316358\r",
       "%0A2020-04-29%2C40.005104064941406%2C53.32575607299805%2C47.81874457996458%2C3.2168319041316358\r",
       "%0A2020-04-30%2C26.193593978881836%2C30.48008155822754%2C27.38089033526277%2C1.8152449771266732\r",
       "%0A2020-05-01%2C0.0%2C8.244440078735352%2C0.6140758615424554%2C2.1877105908504832\r",
       "%0A2020-05-02%2C0.0%2C0.0%2C0.0%2C0.0\r",
       "%0A2020-05-03%2C0.0%2C0.0%2C0.0%2C0.0\r",
       "%0A2020-05-04%2C0.0%2C21.940349578857422%2C5.595684560548839%2C9.118079463447936\r",
       "%0A2020-05-05%2C0.0%2C0.0%2C0.0%2C0.0\r",
       "%0A2020-05-06%2C0.0%2C0.0%2C0.0%2C0.0\r",
       "%0A2020-05-07%2C0.0%2C0.0%2C0.0%2C0.0\r",
       "%0A2020-05-08%2C0.0%2C0.0%2C0.0%2C0.0\r",
       "%0A2020-05-09%2C0.0%2C0.0%2C0.0%2C0.0\r",
       "%0A2020-05-10%2C0.0%2C0.0%2C0.0%2C0.0\r",
       "%0A2020-05-11%2C0.0%2C0.0%2C0.0%2C0.0\r",
       "%0A2020-05-12%2C0.0%2C0.0%2C0.0%2C0.0\r",
       "%0A2020-05-13%2C11.302817344665527%2C13.691720008850098%2C11.94107190642058%2C0.9261808372147861\r",
       "%0A2020-05-14%2C0.0%2C0.0%2C0.0%2C0.0\r",
       "%0A2020-05-15%2C0.0%2C0.0%2C0.0%2C0.0\r",
       "%0A2020-05-16%2C6.169382572174072%2C10.69008731842041%2C8.864487799954627%2C0.9932406675579598\r",
       "%0A2020-05-17%2C0.0%2C0.0%2C0.0%2C0.0\r",
       "%0A2020-05-18%2C0.0%2C0.0%2C0.0%2C0.0\r",
       "%0A2020-05-19%2C6.169382572174072%2C10.69008731842041%2C8.864487799954627%2C0.9932406675579598\r",
       "%0A2020-05-20%2C12.338765144348145%2C21.38017463684082%2C17.728975599909255%2C1.9864813351159196\r",
       "%0A2020-05-21%2C1.6220413446426392%2C2.375993251800537%2C2.041884618522191%2C0.18808867285398162\r",
       "%0A2020-05-22%2C9.854146003723145%2C15.608621597290039%2C12.78890571524735%2C1.5164302553202207\r",
       "%0A2020-05-23%2C5.417043209075928%2C8.735613822937012%2C7.23873623537257%2C0.8076553472187621\r",
       "%0A2020-05-24%2C15.783252716064453%2C26.264320373535156%2C21.25931485841746%2C2.695892141109606\r",
       "%0A2020-05-25%2C10.769742965698242%2C17.486772537231445%2C14.142672053758803%2C1.7954162346656388\r",
       "%0A2020-05-26%2C25.22683334350586%2C42.26688766479492%2C36.60000865139349%2C3.281982377471768\r",
       "%0A2020-05-27%2C0.0%2C17.716014862060547%2C12.363068052684051%2C8.162265586554991\r",
       "%0A2020-05-28%2C17.716014862060547%2C42.26688766479492%2C24.236940598709417%2C10.297883547775998\r",
       "%0A2020-05-29%2C37.84024429321289%2C63.40033721923828%2C54.900016928988705%2C4.922974869826756\r",
       "%0A2020-05-30%2C0.0%2C0.0%2C0.0%2C0.0\r",
       "%0A2020-05-31%2C0.0%2C0.0%2C0.0%2C0.0\r",
       "%0A2020-06-01%2C9.419745445251465%2C13.720317840576172%2C13.068533827655731%2C0.4841971434024246\r",
       "%0A2020-06-02%2C6.2065629959106445%2C9.925241470336914%2C9.056297014996119%2C0.37892275521573965\r",
       "%0A2020-06-03%2C5.966625690460205%2C9.311553955078125%2C8.481937845262685%2C0.3268389536240113\r",
       "%0A2020-06-04%2C3.6223292350769043%2C5.220128536224365%2C4.578141137271391%2C0.23448411921411141\r",
       "%0A2020-06-05%2C10.58631706237793%2C15.06662368774414%2C14.089290957650242%2C0.6691942036023265\r",
       "%0A2020-06-06%2C11.298931121826172%2C22.236867904663086%2C17.999200183611496%2C2.332372839323615\r",
       "%0A2020-06-07%2C22.597862243652344%2C44.47373580932617%2C35.99840036722299%2C4.66474567864723\r",
       "%0A2020-06-08%2C11.298931121826172%2C22.236867904663086%2C17.999200183611496%2C2.332372839323615\r",
       "%0A2020-06-09%2C0.0%2C15.823461532592773%2C1.2614683031343523%2C4.291440176245557\r",
       "%0A2020-06-10%2C0.0%2C0.0%2C0.0%2C0.0\r",
       "%0A2020-06-11%2C7.004014015197754%2C11.543696403503418%2C9.670495243839783%2C1.0260323031641732\r",
       "%0A2020-06-12%2C18.91705322265625%2C30.445405960083008%2C24.590988458619304%2C3.1781818152084167\r",
       "%0A2020-06-13%2C12.132783889770508%2C18.84572410583496%2C15.452003165471766%2C1.875971839046733\r",
       "%0A2020-06-14%2C8.00031852722168%2C12.675504684448242%2C10.679899802724478%2C1.1121550680521795\r",
       "%0A2020-06-15%2C24.262615203857422%2C39.72776794433594%2C32.546315409765334%2C3.902647273723918\r",
       "%0A2020-06-16%2C0.0%2C0.0%2C0.0%2C0.0\r",
       "%0A2020-06-17%2C0.0%2C0.0%2C0.0%2C0.0\r",
       "%0A2020-06-18%2C0.0%2C0.0%2C0.0%2C0.0\r",
       "%0A2020-06-19%2C0.0%2C0.0%2C0.0%2C0.0\r",
       "%0A2020-06-20%2C0.0%2C0.0%2C0.0%2C0.0\r",
       "%0A2020-06-21%2C0.0%2C0.0%2C0.0%2C0.0\r",
       "%0A2020-06-22%2C0.0%2C0.0%2C0.0%2C0.0\r",
       "%0A2020-06-23%2C0.0%2C0.0%2C0.0%2C0.0\r",
       "%0A2020-06-24%2C0.0%2C0.0%2C0.0%2C0.0\r",
       "%0A2020-06-25%2C0.0%2C0.0%2C0.0%2C0.0\r",
       "%0A2020-06-26%2C0.0%2C8.589219093322754%2C0.6397562556507956%2C2.279199727106274\r",
       "%0A2020-06-27%2C0.0%2C0.0%2C0.0%2C0.0\r",
       "%0A2020-06-28%2C0.0%2C0.0%2C0.0%2C0.0\r",
       "%0A2020-06-29%2C8.589219093322754%2C23.0084228515625%2C21.762957141833475%2C3.962314411826138\r",
       "%0A2020-06-30%2C0.0%2C0.0%2C0.0%2C0.0\r",
       "%0A2020-07-01%2C42.68785858154297%2C107.6966323852539%2C72.59578132930528%2C18.949779049700346\r",
       "%0A2020-07-02%2C0.0%2C13.661603927612305%2C1.0958463969976018%2C3.72287607144043\r",
       "%0A2020-07-03%2C24.39306640625%2C36.424800872802734%2C34.70351733887677%2C2.69201074174726\r",
       "%0A2020-07-04%2C0.0%2C0.0%2C0.0%2C0.0\r",
       "%0A2020-07-05%2C0.0%2C0.0%2C0.0%2C0.0\r",
       "%0A2020-07-06%2C0.0%2C0.0%2C0.0%2C0.0\r",
       "%0A2020-07-07%2C0.0%2C0.0%2C0.0%2C0.0\r",
       "%0A2020-07-08%2C0.0%2C0.0%2C0.0%2C0.0\r",
       "%0A2020-07-09%2C0.0%2C0.0%2C0.0%2C0.0\r",
       "%0A2020-07-10%2C0.0%2C0.0%2C0.0%2C0.0\r",
       "%0A2020-07-11%2C7.15069055557251%2C12.96314811706543%2C11.43363096990778%2C1.0452452113962936\r",
       "%0A2020-07-12%2C21.452072143554688%2C38.88943862915039%2C26.45622607026985%2C6.744457005466923\r",
       "%0A2020-07-13%2C7.15069055557251%2C12.96314811706543%2C11.43363096990778%2C1.0452452113962936\r",
       "%0A2020-07-14%2C0.0%2C0.0%2C0.0%2C0.0\r",
       "%0A2020-07-15%2C0.0%2C0.0%2C0.0%2C0.0\r",
       "%0A2020-07-16%2C4.15492057800293%2C6.396090507507324%2C4.657730712749203%2C0.9266652406188751\r",
       "%0A2020-07-17%2C2.6802353858947754%2C4.090708255767822%2C2.9971882380016677%2C0.582943009263477\r",
       "%0A2020-07-18%2C4.463918685913086%2C6.9189982414245605%2C5.022793679234901%2C1.0120126240733314\r",
       "%0A2020-07-19%2C2.3864831924438477%2C3.6958630084991455%2C2.6850218705592535%2C0.5395784182821306\r",
       "%0A2020-07-20%2C3.379523515701294%2C5.011698246002197%2C3.744743932011893%2C0.6751290508723334\r",
       "%0A2020-07-21%2C0.0%2C9.19149398803711%2C6.414256624004787%2C4.23477941578312\r",
       "%0A2020-07-22%2C0.0%2C0.0%2C0.0%2C0.0\r",
       "%0A2020-07-23%2C0.0%2C0.0%2C0.0%2C0.0\r",
       "%0A2020-07-24%2C0.0%2C0.0%2C0.0%2C0.0\r",
       "%0A2020-07-25%2C9.19149398803711%2C24.281206130981445%2C13.041826934214702%2C6.239027610517661\r",
       "%0A2020-07-26%2C0.0%2C0.0%2C0.0%2C0.0\r",
       "%0A2020-07-27%2C15.765761375427246%2C40.2210693359375%2C21.941274440582006%2C10.097654025903104\r",
       "%0A2020-07-28%2C0.0%2C0.0%2C0.0%2C0.0\r",
       "%0A2020-07-29%2C0.0%2C7.882880687713623%2C5.501044741280897%2C3.6318645170051496\r",
       "%0A2020-07-30%2C0.0%2C7.882880687713623%2C5.501044741280897%2C3.6318645170051496\r",
       "%0A2020-07-31%2C0.0%2C0.0%2C0.0%2C0.0\r",
       "%0A2020-08-01%2C0.0%2C0.0%2C0.0%2C0.0\r",
       "%0A2020-08-02%2C0.0%2C0.0%2C0.0%2C0.0\r",
       "%0A2020-08-03%2C0.0%2C0.0%2C0.0%2C0.0\r",
       "%0A2020-08-04%2C0.0%2C0.0%2C0.0%2C0.0\r",
       "%0A2020-08-05%2C0.0%2C0.0%2C0.0%2C0.0\r",
       "%0A2020-08-06%2C0.0%2C0.0%2C0.0%2C0.0\r",
       "%0A2020-08-07%2C25.51883888244629%2C48.505916595458984%2C34.2965283147593%2C7.995113699814705\r",
       "%0A2020-08-08%2C25.51883888244629%2C48.505916595458984%2C34.2965283147593%2C7.995113699814705\r",
       "%0A2020-08-09%2C0.0%2C0.0%2C0.0%2C0.0\r",
       "%0A2020-08-10%2C0.0%2C0.0%2C0.0%2C0.0\r",
       "%0A2020-08-11%2C0.0%2C0.0%2C0.0%2C0.0\r",
       "%0A2020-08-12%2C0.0%2C0.0%2C0.0%2C0.0\r",
       "%0A2020-08-13%2C32.23478317260742%2C75.77748107910156%2C46.48243490617193%2C15.622221321040627\r",
       "%0A2020-08-14%2C0.0%2C0.0%2C0.0%2C0.0\r",
       "%0A2020-08-15%2C32.23478317260742%2C75.77748107910156%2C46.48243490617193%2C15.622221321040627\r",
       "%0A2020-08-16%2C18.193675994873047%2C54.49311065673828%2C39.656357399340116%2C8.058409621855883\r",
       "%0A2020-08-17%2C17.79737663269043%2C27.24655532836914%2C19.8949053894896%2C3.9164499764098393\r",
       "%0A2020-08-18%2C0.0%2C0.0%2C0.0%2C0.0\r",
       "%0A2020-08-19%2C0.0%2C0.0%2C0.0%2C0.0\r",
       "%0A2020-08-20%2C0.0%2C0.0%2C0.0%2C0.0\r",
       "%0A2020-08-21%2C0.0%2C0.0%2C0.0%2C0.0\r",
       "%0A2020-08-22%2C0.0%2C0.0%2C0.0%2C0.0\r",
       "%0A2020-08-23%2C0.0%2C0.0%2C0.0%2C0.0\r",
       "%0A2020-08-24%2C0.0%2C0.0%2C0.0%2C0.0\r",
       "%0A2020-08-25%2C0.0%2C0.0%2C0.0%2C0.0\r",
       "%0A2020-08-26%2C0.0%2C0.0%2C0.0%2C0.0\r",
       "%0A2020-08-27%2C0.0%2C0.0%2C0.0%2C0.0\r",
       "%0A2020-08-28%2C0.0%2C0.0%2C0.0%2C0.0\r",
       "%0A2020-08-29%2C0.0%2C0.0%2C0.0%2C0.0\r",
       "%0A2020-08-30%2C0.0%2C0.0%2C0.0%2C0.0\r",
       "%0A2020-08-31%2C0.0%2C37.90618133544922%2C26.45271541689335%2C17.464442304948797\r",
       "%0A2020-09-01%2C0.0%2C0.0%2C0.0%2C0.0\r",
       "%0A2020-09-02%2C0.0%2C0.0%2C0.0%2C0.0\r",
       "%0A2020-09-03%2C24.551788330078125%2C65.40874481201172%2C43.95968667980808%2C11.507049295728702\r",
       "%0A2020-09-04%2C0.0%2C0.0%2C0.0%2C0.0\r",
       "%0A2020-09-05%2C0.0%2C0.0%2C0.0%2C0.0\r",
       "%0A2020-09-06%2C14.275179862976074%2C40.54207229614258%2C26.694778874146827%2C7.428467369190295\r",
       "%0A2020-09-07%2C0.0%2C0.0%2C0.0%2C0.0\r",
       "%0A2020-09-08%2C0.0%2C0.0%2C0.0%2C0.0\r",
       "%0A2020-09-09%2C0.0%2C0.0%2C0.0%2C0.0\r",
       "%0A2020-09-10%2C0.0%2C0.0%2C0.0%2C0.0\r",
       "%0A2020-09-11%2C0.0%2C0.0%2C0.0%2C0.0\r",
       "%0A2020-09-12%2C0.0%2C0.0%2C0.0%2C0.0\r",
       "%0A2020-09-13%2C0.0%2C20.038475036621094%2C13.178202724629216%2C4.920002509785312\r",
       "%0A2020-09-14%2C0.0%2C0.0%2C0.0%2C0.0\r",
       "%0A2020-09-15%2C8.264863967895508%2C25.38880729675293%2C15.069253367898671%2C4.317899585222865\r",
       "%0A2020-09-16%2C5.167136192321777%2C13.145485877990723%2C9.054572499318601%2C2.194676831202099\r",
       "%0A2020-09-17%2C3.718967914581299%2C9.301558494567871%2C6.101092241413947%2C1.7106203615409643\r",
       "%0A2020-09-18%2C1.498186707496643%2C4.101393222808838%2C2.685272844510651%2C0.7602808141923149\r",
       "%0A2020-09-19%2C6.052735328674316%2C14.956159591674805%2C9.600164512894192%2C2.8596336198988426\r",
       "%0A2020-09-20%2C6.482021331787109%2C15.668703079223633%2C10.362716844527386%2C2.835655953783222\r",
       "%0A2020-09-21%2C5.100496292114258%2C13.072117805480957%2C10.308546310309447%2C1.6668094020740254\r",
       "%0A2020-09-22%2C0.0%2C11.438101768493652%2C3.0270374063047885%2C4.7859494662818225\r",
       "%0A2020-09-23%2C13.388802528381348%2C34.31430435180664%2C27.05993005767129%2C4.3753736422774026\r",
       "%0A2020-09-24%2C13.388802528381348%2C34.31430435180664%2C21.06699207226564%2C7.082996281802556\r",
       "%0A2020-09-25%2C8.92586898803711%2C22.876203536987305%2C18.03995477653356%2C2.9169157217601436\r",
       "%0A2020-09-26%2C8.95409870147705%2C19.547225952148438%2C13.269810192766352%2C3.876747434679646\r",
       "%0A2020-09-27%2C10.798858642578125%2C39.094451904296875%2C17.708091952882633%2C11.627202694867098\r",
       "%0A2020-09-28%2C26.86229705810547%2C78.18890380859375%2C57.82699861326952%2C12.007087313540616\r",
       "%0A2020-09-29%2C17.9081974029541%2C39.094451904296875%2C25.178363517387158%2C7.474615126789447\r",
       "%0A2020-09-30%2C0.0%2C10.798858642578125%2C8.216579680953842%2C4.493317620999603\r",
       "%0A2020-10-01%2C0.0%2C0.0%2C0.0%2C0.0\r",
       "%0A2020-10-02%2C27.659944534301758%2C41.40724563598633%2C40.081099583186585%2C2.340410321777315\r",
       "%0A2020-10-03%2C59.57878494262695%2C108.84323120117188%2C78.53508293518506%2C16.44870515835338\r",
       "%0A2020-10-04%2C0.0%2C19.04756736755371%2C4.196830527593809%2C7.911234099060278\r",
       "%0A2020-10-05%2C0.0%2C17.377145767211914%2C1.2943129741063437%2C4.611127677637887\r",
       "%0A2020-10-06%2C0.0%2C5.368733882904053%2C1.321364408738996%2C2.0241723804413434\r",
       "%0A2020-10-07%2C4.823624610900879%2C12.563226699829102%2C11.139745948038057%2C1.8781550398405376\r",
       "%0A2020-10-08%2C9.647249221801758%2C12.563226699829102%2C11.499027040557161%2C0.7271547424982466\r",
       "%0A2020-10-09%2C5.368733882904053%2C9.647249221801758%2C7.892412372627286%2C0.6363549842895495\r",
       "%0A2020-10-10%2C0.0%2C0.0%2C0.0%2C0.0\r",
       "%0A2020-10-11%2C4.732637405395508%2C6.2615742683410645%2C5.079924838228296%2C0.6356638934329125\r",
       "%0A2020-10-12%2C18.93054962158203%2C25.046297073364258%2C20.319699352913183%2C2.54265557373165\r",
       "%0A2020-10-13%2C0.0%2C0.0%2C0.0%2C0.0\r",
       "%0A2020-10-14%2C4.732637405395508%2C6.2615742683410645%2C5.079924838228296%2C0.6356638934329125\r",
       "%0A2020-10-15%2C4.732637405395508%2C6.2615742683410645%2C5.079924838228296%2C0.6356638934329125\r",
       "%0A2020-10-16%2C9.202754020690918%2C29.318317413330078%2C11.602347891088634%2C4.072356845131412\r",
       "%0A2020-10-17%2C14.659158706665039%2C18.983413696289062%2C18.804034571771556%2C0.435479522843793\r",
       "%0A2020-10-18%2C9.202754020690918%2C18.508609771728516%2C11.494820733156327%2C3.7639834544970268\r",
       "%0A2020-10-19%2C0.0%2C0.0%2C0.0%2C0.0\r",
       "%0A2020-10-20%2C0.0%2C18.405508041381836%2C7.994668405553624%2C4.9485457312941845\r",
       "%0A2020-10-21%2C0.0%2C0.0%2C0.0%2C0.0\r",
       "%0A2020-10-22%2C0.0%2C0.0%2C0.0%2C0.0\r",
       "%0A2020-10-23%2C0.0%2C0.0%2C0.0%2C0.0\r",
       "%0A2020-10-24%2C0.0%2C11.010753631591797%2C7.969704364827698%2C4.252601890253592\r",
       "%0A2020-10-25%2C0.0%2C0.0%2C0.0%2C0.0\r",
       "%0A2020-10-26%2C9.53679084777832%2C12.79675579071045%2C10.27209041274225%2C1.3500629453530686\r",
       "%0A2020-10-27%2C5.3939924240112305%2C7.758438587188721%2C6.066292781748115%2C0.9052506790433438\r",
       "%0A2020-10-28%2C9.021258354187012%2C12.347477912902832%2C9.946699237524264%2C1.283146053943508\r",
       "%0A2020-10-29%2C2.252091646194458%2C3.0730011463165283%2C2.4907806831374213%2C0.3113008151225049\r",
       "%0A2020-10-30%2C1.896999716758728%2C2.754070997238159%2C2.1353216161898616%2C0.3309870497318387\r",
       "%0A2020-10-31%2C4.259230136871338%2C5.809259414672852%2C4.631573718416108%2C0.6379968138995025\r",
       "%0A2020-11-01%2C5.497628211975098%2C12.173552513122559%2C7.370555766154789%2C2.5865155391300285\r",
       "%0A2020-11-02%2C17.171459197998047%2C20.868947982788086%2C20.546380139757925%2C0.5846979936754417\r",
       "%0A2020-11-03%2C10.016684532165527%2C12.173552513122559%2C11.985387667954202%2C0.3410735647476288\r",
       "%0A2020-11-04%2C0.0%2C5.008342266082764%2C0.03673695200388942%2C0.4436323706103326\r",
       "%0A2020-11-05%2C0.0%2C0.0%2C0.0%2C0.0\r",
       "%0A2020-11-06%2C0.0%2C0.0%2C0.0%2C0.0\r",
       "%0A2020-11-07%2C0.0%2C6.934500694274902%2C6.187576114504752%2C1.2291120749111266\r",
       "%0A2020-11-08%2C3.467250347137451%2C6.1465935707092285%2C3.813052015026983%2C0.5823498619111024\r",
       "%0A2020-11-09%2C6.934500694274902%2C12.293187141418457%2C7.626104030053966%2C1.1646997238222048\r",
       "%0A2020-11-10%2C0.0%2C0.0%2C0.0%2C0.0\r",
       "%0A2020-11-11%2C0.0%2C9.674691200256348%2C2.695663104848096%2C4.208191332270428\r",
       "%0A2020-11-12%2C7.572103023529053%2C12.28067684173584%2C9.635138496595893%2C0.6344898344984901\r",
       "%0A2020-11-13%2C0.0%2C0.0%2C0.0%2C0.0\r",
       "%0A2020-11-14%2C7.572103023529053%2C12.28067684173584%2C9.635138496595893%2C0.6344898344984901\r",
       "%0A2020-11-15%2C0.0%2C9.815037727355957%2C6.849394759925686%2C4.522063528199336\r",
       "%0A2020-11-16%2C15.38451862335205%2C17.710474014282227%2C17.153079020373784%2C0.8644626470562834\r",
       "%0A2020-11-17%2C0.0%2C8.855237007141113%2C6.812203380742989%2C3.640769599210072\r",
       "%0A2020-11-18%2C0.0%2C8.007545471191406%2C1.7643361294439002%2C3.325861279765028\r",
       "%0A2020-11-19%2C7.692259311676025%2C16.265581130981445%2C10.400530894960573%2C3.0781797872911696\r",
       "%0A2020-11-20%2C15.38451862335205%2C17.710474014282227%2C17.153079020373784%2C0.8644626470562834\r",
       "%0A2020-11-21%2C9.10995864868164%2C12.752169609069824%2C9.377014790377839%2C0.3365594229054917\r",
       "%0A2020-11-22%2C0.0%2C0.0%2C0.0%2C0.0\r",
       "%0A2020-11-23%2C0.0%2C9.393057823181152%2C8.56215279981483%2C2.590969172894752\r",
       "%0A2020-11-24%2C9.10995864868164%2C12.752169609069824%2C9.377014790377839%2C0.3365594229054917\r",
       "%0A2020-11-25%2C25.50433921813965%2C29.052942276000977%2C28.037504253436172%2C0.5042366299007397\r",
       "%0A2020-11-26%2C11.181730270385742%2C13.853960990905762%2C13.260549870206667%2C0.9349831007994804\r",
       "%0A2020-11-27%2C8.517379760742188%2C13.853960990905762%2C13.229311725435844%2C1.024022988276558\r",
       "%0A2020-11-28%2C7.454487323760986%2C9.235974311828613%2C8.840366902872722%2C0.6233220442125444\r",
       "%0A2020-11-29%2C14.908974647521973%2C21.293447494506836%2C18.600650151074557%2C1.2849605175834566\r",
       "%0A2020-11-30%2C8.517379760742188%2C12.099956512451172%2C10.006663515646586%2C1.2272883926735418\r",
       "%0A2020-12-01%2C19.863927841186523%2C21.882644653320312%2C21.59452622990843%2C0.5029567084833554\r",
       "%0A2020-12-02%2C0.0%2C0.0%2C0.0%2C0.0\r",
       "%0A2020-12-03%2C0.0%2C0.0%2C0.0%2C0.0\r",
       "%0A2020-12-04%2C0.0%2C0.0%2C0.0%2C0.0\r",
       "%0A2020-12-05%2C0.0%2C0.0%2C0.0%2C0.0\r",
       "%0A2020-12-06%2C0.0%2C0.0%2C0.0%2C0.0\r",
       "%0A2020-12-07%2C0.0%2C0.0%2C0.0%2C0.0\r",
       "%0A2020-12-08%2C7.195627689361572%2C7.564419269561768%2C7.293207074716427%2C0.1446359068514666\r",
       "%0A2020-12-09%2C0.0%2C0.0%2C0.0%2C0.0\r",
       "%0A2020-12-10%2C7.195627689361572%2C7.564419269561768%2C7.293207074716427%2C0.1446359068514666\r",
       "%0A2020-12-11%2C0.0%2C0.0%2C0.0%2C0.0\r",
       "%0A2020-12-12%2C0.0%2C0.0%2C0.0%2C0.0\r",
       "%0A2020-12-13%2C4.792696952819824%2C6.395594596862793%2C5.1713090359451686%2C0.5639492031971262\r",
       "%0A2020-12-14%2C0.0%2C4.874383449554443%2C3.7585514183326416%2C2.046556558837766\r",
       "%0A2020-12-15%2C14.378091812133789%2C19.186784744262695%2C15.513927203432775%2C1.6918468247170069\r",
       "%0A2020-12-16%2C11.544276237487793%2C17.086475372314453%2C16.593063925611297%2C1.4571278960429803\r",
       "%0A2020-12-17%2C10.535615921020508%2C12.81485652923584%2C12.342307844317656%2C0.7287328021324678\r",
       "%0A2020-12-18%2C3.8480920791625977%2C5.587780952453613%2C4.5373757551416505%2C0.5779235568415093\r",
       "%0A2020-12-19%2C4.271618843078613%2C7.696184158325195%2C4.823995639116712%2C0.9856025784496049\r",
       "%0A2020-12-20%2C0.0%2C0.0%2C0.0%2C0.0\r",
       "%0A2020-12-21%2C3.657355785369873%2C4.325799465179443%2C3.940552974843486%2C0.17554556102579336\r",
       "%0A2020-12-22%2C10.972067832946777%2C17.303197860717773%2C14.95637144148671%2C2.1534843294753614\r",
       "%0A2020-12-23%2C0.0%2C3.859501600265503%2C0.02831003104721619%2C0.341869575467202\r",
       "%0A2020-12-24%2C0.0%2C10.972067832946777%2C5.523924174761335%2C2.926293678903751\r",
       "%0A2020-12-25%2C0.0%2C3.989701271057129%2C3.6183517085268724%2C1.0461527993953428\r",
       "%0A2020-12-26%2C9.573698997497559%2C26.689882278442383%2C22.11758263383515%2C7.00343314243183\r",
       "%0A2020-12-27%2C12.185221672058105%2C19.147397994995117%2C13.517939218986909%2C1.683305627150542\r",
       "%0A2020-12-28%2C0.0%2C12.845410346984863%2C0.09422303794675382%2C1.1378295533608849\r",
       "%0A2020-12-29%2C0.0%2C12.185221672058105%2C3.397904972165494%2C5.303424805463896\r",
       "%0A\" \n",
       "style=\"margin-top:10px;display:block;text-align:center;\">Download CSV</a>\n"
      ],
      "text/plain": [
       "<IPython.core.display.HTML object>"
      ]
     },
     "metadata": {},
     "output_type": "display_data"
    },
    {
     "data": {
      "application/vnd.plotly.v1+json": {
       "config": {
        "plotlyServerURL": "https://plot.ly"
       },
       "data": [
        {
         "mode": "lines",
         "name": "Mean Precipitation (mm)",
         "type": "scatter",
         "x": [
          "2020-01-01T00:00:00",
          "2020-01-02T00:00:00",
          "2020-01-03T00:00:00",
          "2020-01-04T00:00:00",
          "2020-01-05T00:00:00",
          "2020-01-06T00:00:00",
          "2020-01-07T00:00:00",
          "2020-01-08T00:00:00",
          "2020-01-09T00:00:00",
          "2020-01-10T00:00:00",
          "2020-01-11T00:00:00",
          "2020-01-12T00:00:00",
          "2020-01-13T00:00:00",
          "2020-01-14T00:00:00",
          "2020-01-15T00:00:00",
          "2020-01-16T00:00:00",
          "2020-01-17T00:00:00",
          "2020-01-18T00:00:00",
          "2020-01-19T00:00:00",
          "2020-01-20T00:00:00",
          "2020-01-21T00:00:00",
          "2020-01-22T00:00:00",
          "2020-01-23T00:00:00",
          "2020-01-24T00:00:00",
          "2020-01-25T00:00:00",
          "2020-01-26T00:00:00",
          "2020-01-27T00:00:00",
          "2020-01-28T00:00:00",
          "2020-01-29T00:00:00",
          "2020-01-30T00:00:00",
          "2020-01-31T00:00:00",
          "2020-02-01T00:00:00",
          "2020-02-02T00:00:00",
          "2020-02-03T00:00:00",
          "2020-02-04T00:00:00",
          "2020-02-05T00:00:00",
          "2020-02-06T00:00:00",
          "2020-02-07T00:00:00",
          "2020-02-08T00:00:00",
          "2020-02-09T00:00:00",
          "2020-02-10T00:00:00",
          "2020-02-11T00:00:00",
          "2020-02-12T00:00:00",
          "2020-02-13T00:00:00",
          "2020-02-14T00:00:00",
          "2020-02-15T00:00:00",
          "2020-02-16T00:00:00",
          "2020-02-17T00:00:00",
          "2020-02-18T00:00:00",
          "2020-02-19T00:00:00",
          "2020-02-20T00:00:00",
          "2020-02-21T00:00:00",
          "2020-02-22T00:00:00",
          "2020-02-23T00:00:00",
          "2020-02-24T00:00:00",
          "2020-02-25T00:00:00",
          "2020-02-26T00:00:00",
          "2020-02-27T00:00:00",
          "2020-02-28T00:00:00",
          "2020-02-29T00:00:00",
          "2020-03-01T00:00:00",
          "2020-03-02T00:00:00",
          "2020-03-03T00:00:00",
          "2020-03-04T00:00:00",
          "2020-03-05T00:00:00",
          "2020-03-06T00:00:00",
          "2020-03-07T00:00:00",
          "2020-03-08T00:00:00",
          "2020-03-09T00:00:00",
          "2020-03-10T00:00:00",
          "2020-03-11T00:00:00",
          "2020-03-12T00:00:00",
          "2020-03-13T00:00:00",
          "2020-03-14T00:00:00",
          "2020-03-15T00:00:00",
          "2020-03-16T00:00:00",
          "2020-03-17T00:00:00",
          "2020-03-18T00:00:00",
          "2020-03-19T00:00:00",
          "2020-03-20T00:00:00",
          "2020-03-21T00:00:00",
          "2020-03-22T00:00:00",
          "2020-03-23T00:00:00",
          "2020-03-24T00:00:00",
          "2020-03-25T00:00:00",
          "2020-03-26T00:00:00",
          "2020-03-27T00:00:00",
          "2020-03-28T00:00:00",
          "2020-03-29T00:00:00",
          "2020-03-30T00:00:00",
          "2020-03-31T00:00:00",
          "2020-04-01T00:00:00",
          "2020-04-02T00:00:00",
          "2020-04-03T00:00:00",
          "2020-04-04T00:00:00",
          "2020-04-05T00:00:00",
          "2020-04-06T00:00:00",
          "2020-04-07T00:00:00",
          "2020-04-08T00:00:00",
          "2020-04-09T00:00:00",
          "2020-04-10T00:00:00",
          "2020-04-11T00:00:00",
          "2020-04-12T00:00:00",
          "2020-04-13T00:00:00",
          "2020-04-14T00:00:00",
          "2020-04-15T00:00:00",
          "2020-04-16T00:00:00",
          "2020-04-17T00:00:00",
          "2020-04-18T00:00:00",
          "2020-04-19T00:00:00",
          "2020-04-20T00:00:00",
          "2020-04-21T00:00:00",
          "2020-04-22T00:00:00",
          "2020-04-23T00:00:00",
          "2020-04-24T00:00:00",
          "2020-04-25T00:00:00",
          "2020-04-26T00:00:00",
          "2020-04-27T00:00:00",
          "2020-04-28T00:00:00",
          "2020-04-29T00:00:00",
          "2020-04-30T00:00:00",
          "2020-05-01T00:00:00",
          "2020-05-02T00:00:00",
          "2020-05-03T00:00:00",
          "2020-05-04T00:00:00",
          "2020-05-05T00:00:00",
          "2020-05-06T00:00:00",
          "2020-05-07T00:00:00",
          "2020-05-08T00:00:00",
          "2020-05-09T00:00:00",
          "2020-05-10T00:00:00",
          "2020-05-11T00:00:00",
          "2020-05-12T00:00:00",
          "2020-05-13T00:00:00",
          "2020-05-14T00:00:00",
          "2020-05-15T00:00:00",
          "2020-05-16T00:00:00",
          "2020-05-17T00:00:00",
          "2020-05-18T00:00:00",
          "2020-05-19T00:00:00",
          "2020-05-20T00:00:00",
          "2020-05-21T00:00:00",
          "2020-05-22T00:00:00",
          "2020-05-23T00:00:00",
          "2020-05-24T00:00:00",
          "2020-05-25T00:00:00",
          "2020-05-26T00:00:00",
          "2020-05-27T00:00:00",
          "2020-05-28T00:00:00",
          "2020-05-29T00:00:00",
          "2020-05-30T00:00:00",
          "2020-05-31T00:00:00",
          "2020-06-01T00:00:00",
          "2020-06-02T00:00:00",
          "2020-06-03T00:00:00",
          "2020-06-04T00:00:00",
          "2020-06-05T00:00:00",
          "2020-06-06T00:00:00",
          "2020-06-07T00:00:00",
          "2020-06-08T00:00:00",
          "2020-06-09T00:00:00",
          "2020-06-10T00:00:00",
          "2020-06-11T00:00:00",
          "2020-06-12T00:00:00",
          "2020-06-13T00:00:00",
          "2020-06-14T00:00:00",
          "2020-06-15T00:00:00",
          "2020-06-16T00:00:00",
          "2020-06-17T00:00:00",
          "2020-06-18T00:00:00",
          "2020-06-19T00:00:00",
          "2020-06-20T00:00:00",
          "2020-06-21T00:00:00",
          "2020-06-22T00:00:00",
          "2020-06-23T00:00:00",
          "2020-06-24T00:00:00",
          "2020-06-25T00:00:00",
          "2020-06-26T00:00:00",
          "2020-06-27T00:00:00",
          "2020-06-28T00:00:00",
          "2020-06-29T00:00:00",
          "2020-06-30T00:00:00",
          "2020-07-01T00:00:00",
          "2020-07-02T00:00:00",
          "2020-07-03T00:00:00",
          "2020-07-04T00:00:00",
          "2020-07-05T00:00:00",
          "2020-07-06T00:00:00",
          "2020-07-07T00:00:00",
          "2020-07-08T00:00:00",
          "2020-07-09T00:00:00",
          "2020-07-10T00:00:00",
          "2020-07-11T00:00:00",
          "2020-07-12T00:00:00",
          "2020-07-13T00:00:00",
          "2020-07-14T00:00:00",
          "2020-07-15T00:00:00",
          "2020-07-16T00:00:00",
          "2020-07-17T00:00:00",
          "2020-07-18T00:00:00",
          "2020-07-19T00:00:00",
          "2020-07-20T00:00:00",
          "2020-07-21T00:00:00",
          "2020-07-22T00:00:00",
          "2020-07-23T00:00:00",
          "2020-07-24T00:00:00",
          "2020-07-25T00:00:00",
          "2020-07-26T00:00:00",
          "2020-07-27T00:00:00",
          "2020-07-28T00:00:00",
          "2020-07-29T00:00:00",
          "2020-07-30T00:00:00",
          "2020-07-31T00:00:00",
          "2020-08-01T00:00:00",
          "2020-08-02T00:00:00",
          "2020-08-03T00:00:00",
          "2020-08-04T00:00:00",
          "2020-08-05T00:00:00",
          "2020-08-06T00:00:00",
          "2020-08-07T00:00:00",
          "2020-08-08T00:00:00",
          "2020-08-09T00:00:00",
          "2020-08-10T00:00:00",
          "2020-08-11T00:00:00",
          "2020-08-12T00:00:00",
          "2020-08-13T00:00:00",
          "2020-08-14T00:00:00",
          "2020-08-15T00:00:00",
          "2020-08-16T00:00:00",
          "2020-08-17T00:00:00",
          "2020-08-18T00:00:00",
          "2020-08-19T00:00:00",
          "2020-08-20T00:00:00",
          "2020-08-21T00:00:00",
          "2020-08-22T00:00:00",
          "2020-08-23T00:00:00",
          "2020-08-24T00:00:00",
          "2020-08-25T00:00:00",
          "2020-08-26T00:00:00",
          "2020-08-27T00:00:00",
          "2020-08-28T00:00:00",
          "2020-08-29T00:00:00",
          "2020-08-30T00:00:00",
          "2020-08-31T00:00:00",
          "2020-09-01T00:00:00",
          "2020-09-02T00:00:00",
          "2020-09-03T00:00:00",
          "2020-09-04T00:00:00",
          "2020-09-05T00:00:00",
          "2020-09-06T00:00:00",
          "2020-09-07T00:00:00",
          "2020-09-08T00:00:00",
          "2020-09-09T00:00:00",
          "2020-09-10T00:00:00",
          "2020-09-11T00:00:00",
          "2020-09-12T00:00:00",
          "2020-09-13T00:00:00",
          "2020-09-14T00:00:00",
          "2020-09-15T00:00:00",
          "2020-09-16T00:00:00",
          "2020-09-17T00:00:00",
          "2020-09-18T00:00:00",
          "2020-09-19T00:00:00",
          "2020-09-20T00:00:00",
          "2020-09-21T00:00:00",
          "2020-09-22T00:00:00",
          "2020-09-23T00:00:00",
          "2020-09-24T00:00:00",
          "2020-09-25T00:00:00",
          "2020-09-26T00:00:00",
          "2020-09-27T00:00:00",
          "2020-09-28T00:00:00",
          "2020-09-29T00:00:00",
          "2020-09-30T00:00:00",
          "2020-10-01T00:00:00",
          "2020-10-02T00:00:00",
          "2020-10-03T00:00:00",
          "2020-10-04T00:00:00",
          "2020-10-05T00:00:00",
          "2020-10-06T00:00:00",
          "2020-10-07T00:00:00",
          "2020-10-08T00:00:00",
          "2020-10-09T00:00:00",
          "2020-10-10T00:00:00",
          "2020-10-11T00:00:00",
          "2020-10-12T00:00:00",
          "2020-10-13T00:00:00",
          "2020-10-14T00:00:00",
          "2020-10-15T00:00:00",
          "2020-10-16T00:00:00",
          "2020-10-17T00:00:00",
          "2020-10-18T00:00:00",
          "2020-10-19T00:00:00",
          "2020-10-20T00:00:00",
          "2020-10-21T00:00:00",
          "2020-10-22T00:00:00",
          "2020-10-23T00:00:00",
          "2020-10-24T00:00:00",
          "2020-10-25T00:00:00",
          "2020-10-26T00:00:00",
          "2020-10-27T00:00:00",
          "2020-10-28T00:00:00",
          "2020-10-29T00:00:00",
          "2020-10-30T00:00:00",
          "2020-10-31T00:00:00",
          "2020-11-01T00:00:00",
          "2020-11-02T00:00:00",
          "2020-11-03T00:00:00",
          "2020-11-04T00:00:00",
          "2020-11-05T00:00:00",
          "2020-11-06T00:00:00",
          "2020-11-07T00:00:00",
          "2020-11-08T00:00:00",
          "2020-11-09T00:00:00",
          "2020-11-10T00:00:00",
          "2020-11-11T00:00:00",
          "2020-11-12T00:00:00",
          "2020-11-13T00:00:00",
          "2020-11-14T00:00:00",
          "2020-11-15T00:00:00",
          "2020-11-16T00:00:00",
          "2020-11-17T00:00:00",
          "2020-11-18T00:00:00",
          "2020-11-19T00:00:00",
          "2020-11-20T00:00:00",
          "2020-11-21T00:00:00",
          "2020-11-22T00:00:00",
          "2020-11-23T00:00:00",
          "2020-11-24T00:00:00",
          "2020-11-25T00:00:00",
          "2020-11-26T00:00:00",
          "2020-11-27T00:00:00",
          "2020-11-28T00:00:00",
          "2020-11-29T00:00:00",
          "2020-11-30T00:00:00",
          "2020-12-01T00:00:00",
          "2020-12-02T00:00:00",
          "2020-12-03T00:00:00",
          "2020-12-04T00:00:00",
          "2020-12-05T00:00:00",
          "2020-12-06T00:00:00",
          "2020-12-07T00:00:00",
          "2020-12-08T00:00:00",
          "2020-12-09T00:00:00",
          "2020-12-10T00:00:00",
          "2020-12-11T00:00:00",
          "2020-12-12T00:00:00",
          "2020-12-13T00:00:00",
          "2020-12-14T00:00:00",
          "2020-12-15T00:00:00",
          "2020-12-16T00:00:00",
          "2020-12-17T00:00:00",
          "2020-12-18T00:00:00",
          "2020-12-19T00:00:00",
          "2020-12-20T00:00:00",
          "2020-12-21T00:00:00",
          "2020-12-22T00:00:00",
          "2020-12-23T00:00:00",
          "2020-12-24T00:00:00",
          "2020-12-25T00:00:00",
          "2020-12-26T00:00:00",
          "2020-12-27T00:00:00",
          "2020-12-28T00:00:00",
          "2020-12-29T00:00:00"
         ],
         "y": [
          0,
          10.480297929590739,
          36.27795572054339,
          11.838212514542494,
          2.121230765311359,
          10.14736999727258,
          0,
          13.27022041397068,
          8.31297751638841,
          0,
          15.128044936074907,
          16.350088084286877,
          0,
          0,
          0,
          0,
          0,
          8.838769539228691,
          0,
          0,
          0,
          0,
          0,
          0,
          0,
          0,
          0,
          0,
          0,
          25.48131605665535,
          0,
          7.2263974318486435,
          0,
          0,
          6.310169746761956,
          5.543950965554541,
          19.888890060366837,
          22.730161037636183,
          0,
          0,
          0,
          0,
          0,
          6.11102409639096,
          0,
          8.768443614065353,
          0,
          11.016994011951791,
          27.16284852816287,
          13.756498551523057,
          14.777413083828506,
          0,
          0,
          13.466108835698233,
          0,
          12.698848053123355,
          8.667995608029596,
          0,
          0,
          0,
          0,
          0,
          4.468115348553279,
          23.973718572762014,
          15.037487875655446,
          12.119158107594426,
          23.24815433311726,
          28.565109073610696,
          0,
          25.626974674413436,
          0,
          4.156174062472048,
          15.611346789300221,
          10.407564924855697,
          6.205069460758059,
          0,
          0,
          0,
          0,
          35.415555892023185,
          9.352514870256533,
          23.547551242062347,
          17.940991342087724,
          31.62402301463318,
          2.37285853014579,
          0,
          11.439099497387595,
          10.82937285228116,
          0,
          21.65874570456232,
          3.8620450043840524,
          53.37503119165651,
          33.760823652252675,
          13.11099032216979,
          17.79167660621564,
          18.92771027125114,
          22.619667631418327,
          0,
          0,
          0,
          3.805474545741637,
          0,
          0,
          0,
          28.932758573408275,
          0,
          6.608777371747604,
          0,
          0,
          0,
          6.494248299075183,
          0,
          27.623927452304795,
          9.207975398424244,
          16.06231700271753,
          17.631912404287053,
          9.13956065815883,
          0,
          47.81874457996458,
          47.81874457996458,
          27.38089033526277,
          0.6140758615424554,
          0,
          0,
          5.595684560548839,
          0,
          0,
          0,
          0,
          0,
          0,
          0,
          0,
          11.94107190642058,
          0,
          0,
          8.864487799954627,
          0,
          0,
          8.864487799954627,
          17.728975599909255,
          2.041884618522191,
          12.78890571524735,
          7.23873623537257,
          21.25931485841746,
          14.142672053758803,
          36.60000865139349,
          12.363068052684051,
          24.236940598709417,
          54.900016928988705,
          0,
          0,
          13.068533827655731,
          9.056297014996119,
          8.481937845262685,
          4.578141137271391,
          14.089290957650242,
          17.999200183611496,
          35.99840036722299,
          17.999200183611496,
          1.2614683031343523,
          0,
          9.670495243839783,
          24.590988458619304,
          15.452003165471766,
          10.679899802724478,
          32.546315409765334,
          0,
          0,
          0,
          0,
          0,
          0,
          0,
          0,
          0,
          0,
          0.6397562556507956,
          0,
          0,
          21.762957141833475,
          0,
          72.59578132930528,
          1.0958463969976018,
          34.70351733887677,
          0,
          0,
          0,
          0,
          0,
          0,
          0,
          11.43363096990778,
          26.45622607026985,
          11.43363096990778,
          0,
          0,
          4.657730712749203,
          2.9971882380016677,
          5.022793679234901,
          2.6850218705592535,
          3.744743932011893,
          6.414256624004787,
          0,
          0,
          0,
          13.041826934214702,
          0,
          21.941274440582006,
          0,
          5.501044741280897,
          5.501044741280897,
          0,
          0,
          0,
          0,
          0,
          0,
          0,
          34.2965283147593,
          34.2965283147593,
          0,
          0,
          0,
          0,
          46.48243490617193,
          0,
          46.48243490617193,
          39.656357399340116,
          19.8949053894896,
          0,
          0,
          0,
          0,
          0,
          0,
          0,
          0,
          0,
          0,
          0,
          0,
          0,
          26.45271541689335,
          0,
          0,
          43.95968667980808,
          0,
          0,
          26.694778874146827,
          0,
          0,
          0,
          0,
          0,
          0,
          13.178202724629216,
          0,
          15.069253367898671,
          9.054572499318601,
          6.101092241413947,
          2.685272844510651,
          9.600164512894192,
          10.362716844527386,
          10.308546310309447,
          3.0270374063047885,
          27.05993005767129,
          21.06699207226564,
          18.03995477653356,
          13.269810192766352,
          17.708091952882633,
          57.82699861326952,
          25.178363517387158,
          8.216579680953842,
          0,
          40.081099583186585,
          78.53508293518506,
          4.196830527593809,
          1.2943129741063437,
          1.321364408738996,
          11.139745948038057,
          11.499027040557161,
          7.892412372627286,
          0,
          5.079924838228296,
          20.319699352913183,
          0,
          5.079924838228296,
          5.079924838228296,
          11.602347891088634,
          18.804034571771556,
          11.494820733156327,
          0,
          7.994668405553624,
          0,
          0,
          0,
          7.969704364827698,
          0,
          10.27209041274225,
          6.066292781748115,
          9.946699237524264,
          2.4907806831374213,
          2.1353216161898616,
          4.631573718416108,
          7.370555766154789,
          20.546380139757925,
          11.985387667954202,
          0.03673695200388942,
          0,
          0,
          6.187576114504752,
          3.813052015026983,
          7.626104030053966,
          0,
          2.695663104848096,
          9.635138496595893,
          0,
          9.635138496595893,
          6.849394759925686,
          17.153079020373784,
          6.812203380742989,
          1.7643361294439002,
          10.400530894960573,
          17.153079020373784,
          9.377014790377839,
          0,
          8.56215279981483,
          9.377014790377839,
          28.037504253436172,
          13.260549870206667,
          13.229311725435844,
          8.840366902872722,
          18.600650151074557,
          10.006663515646586,
          21.59452622990843,
          0,
          0,
          0,
          0,
          0,
          0,
          7.293207074716427,
          0,
          7.293207074716427,
          0,
          0,
          5.1713090359451686,
          3.7585514183326416,
          15.513927203432775,
          16.593063925611297,
          12.342307844317656,
          4.5373757551416505,
          4.823995639116712,
          0,
          3.940552974843486,
          14.95637144148671,
          0.02831003104721619,
          5.523924174761335,
          3.6183517085268724,
          22.11758263383515,
          13.517939218986909,
          0.09422303794675382,
          3.397904972165494
         ]
        }
       ],
       "layout": {
        "autosize": true,
        "template": {
         "data": {
          "bar": [
           {
            "error_x": {
             "color": "#2a3f5f"
            },
            "error_y": {
             "color": "#2a3f5f"
            },
            "marker": {
             "line": {
              "color": "#E5ECF6",
              "width": 0.5
             },
             "pattern": {
              "fillmode": "overlay",
              "size": 10,
              "solidity": 0.2
             }
            },
            "type": "bar"
           }
          ],
          "barpolar": [
           {
            "marker": {
             "line": {
              "color": "#E5ECF6",
              "width": 0.5
             },
             "pattern": {
              "fillmode": "overlay",
              "size": 10,
              "solidity": 0.2
             }
            },
            "type": "barpolar"
           }
          ],
          "carpet": [
           {
            "aaxis": {
             "endlinecolor": "#2a3f5f",
             "gridcolor": "white",
             "linecolor": "white",
             "minorgridcolor": "white",
             "startlinecolor": "#2a3f5f"
            },
            "baxis": {
             "endlinecolor": "#2a3f5f",
             "gridcolor": "white",
             "linecolor": "white",
             "minorgridcolor": "white",
             "startlinecolor": "#2a3f5f"
            },
            "type": "carpet"
           }
          ],
          "choropleth": [
           {
            "colorbar": {
             "outlinewidth": 0,
             "ticks": ""
            },
            "type": "choropleth"
           }
          ],
          "contour": [
           {
            "colorbar": {
             "outlinewidth": 0,
             "ticks": ""
            },
            "colorscale": [
             [
              0,
              "#0d0887"
             ],
             [
              0.1111111111111111,
              "#46039f"
             ],
             [
              0.2222222222222222,
              "#7201a8"
             ],
             [
              0.3333333333333333,
              "#9c179e"
             ],
             [
              0.4444444444444444,
              "#bd3786"
             ],
             [
              0.5555555555555556,
              "#d8576b"
             ],
             [
              0.6666666666666666,
              "#ed7953"
             ],
             [
              0.7777777777777778,
              "#fb9f3a"
             ],
             [
              0.8888888888888888,
              "#fdca26"
             ],
             [
              1,
              "#f0f921"
             ]
            ],
            "type": "contour"
           }
          ],
          "contourcarpet": [
           {
            "colorbar": {
             "outlinewidth": 0,
             "ticks": ""
            },
            "type": "contourcarpet"
           }
          ],
          "heatmap": [
           {
            "colorbar": {
             "outlinewidth": 0,
             "ticks": ""
            },
            "colorscale": [
             [
              0,
              "#0d0887"
             ],
             [
              0.1111111111111111,
              "#46039f"
             ],
             [
              0.2222222222222222,
              "#7201a8"
             ],
             [
              0.3333333333333333,
              "#9c179e"
             ],
             [
              0.4444444444444444,
              "#bd3786"
             ],
             [
              0.5555555555555556,
              "#d8576b"
             ],
             [
              0.6666666666666666,
              "#ed7953"
             ],
             [
              0.7777777777777778,
              "#fb9f3a"
             ],
             [
              0.8888888888888888,
              "#fdca26"
             ],
             [
              1,
              "#f0f921"
             ]
            ],
            "type": "heatmap"
           }
          ],
          "heatmapgl": [
           {
            "colorbar": {
             "outlinewidth": 0,
             "ticks": ""
            },
            "colorscale": [
             [
              0,
              "#0d0887"
             ],
             [
              0.1111111111111111,
              "#46039f"
             ],
             [
              0.2222222222222222,
              "#7201a8"
             ],
             [
              0.3333333333333333,
              "#9c179e"
             ],
             [
              0.4444444444444444,
              "#bd3786"
             ],
             [
              0.5555555555555556,
              "#d8576b"
             ],
             [
              0.6666666666666666,
              "#ed7953"
             ],
             [
              0.7777777777777778,
              "#fb9f3a"
             ],
             [
              0.8888888888888888,
              "#fdca26"
             ],
             [
              1,
              "#f0f921"
             ]
            ],
            "type": "heatmapgl"
           }
          ],
          "histogram": [
           {
            "marker": {
             "pattern": {
              "fillmode": "overlay",
              "size": 10,
              "solidity": 0.2
             }
            },
            "type": "histogram"
           }
          ],
          "histogram2d": [
           {
            "colorbar": {
             "outlinewidth": 0,
             "ticks": ""
            },
            "colorscale": [
             [
              0,
              "#0d0887"
             ],
             [
              0.1111111111111111,
              "#46039f"
             ],
             [
              0.2222222222222222,
              "#7201a8"
             ],
             [
              0.3333333333333333,
              "#9c179e"
             ],
             [
              0.4444444444444444,
              "#bd3786"
             ],
             [
              0.5555555555555556,
              "#d8576b"
             ],
             [
              0.6666666666666666,
              "#ed7953"
             ],
             [
              0.7777777777777778,
              "#fb9f3a"
             ],
             [
              0.8888888888888888,
              "#fdca26"
             ],
             [
              1,
              "#f0f921"
             ]
            ],
            "type": "histogram2d"
           }
          ],
          "histogram2dcontour": [
           {
            "colorbar": {
             "outlinewidth": 0,
             "ticks": ""
            },
            "colorscale": [
             [
              0,
              "#0d0887"
             ],
             [
              0.1111111111111111,
              "#46039f"
             ],
             [
              0.2222222222222222,
              "#7201a8"
             ],
             [
              0.3333333333333333,
              "#9c179e"
             ],
             [
              0.4444444444444444,
              "#bd3786"
             ],
             [
              0.5555555555555556,
              "#d8576b"
             ],
             [
              0.6666666666666666,
              "#ed7953"
             ],
             [
              0.7777777777777778,
              "#fb9f3a"
             ],
             [
              0.8888888888888888,
              "#fdca26"
             ],
             [
              1,
              "#f0f921"
             ]
            ],
            "type": "histogram2dcontour"
           }
          ],
          "mesh3d": [
           {
            "colorbar": {
             "outlinewidth": 0,
             "ticks": ""
            },
            "type": "mesh3d"
           }
          ],
          "parcoords": [
           {
            "line": {
             "colorbar": {
              "outlinewidth": 0,
              "ticks": ""
             }
            },
            "type": "parcoords"
           }
          ],
          "pie": [
           {
            "automargin": true,
            "type": "pie"
           }
          ],
          "scatter": [
           {
            "fillpattern": {
             "fillmode": "overlay",
             "size": 10,
             "solidity": 0.2
            },
            "type": "scatter"
           }
          ],
          "scatter3d": [
           {
            "line": {
             "colorbar": {
              "outlinewidth": 0,
              "ticks": ""
             }
            },
            "marker": {
             "colorbar": {
              "outlinewidth": 0,
              "ticks": ""
             }
            },
            "type": "scatter3d"
           }
          ],
          "scattercarpet": [
           {
            "marker": {
             "colorbar": {
              "outlinewidth": 0,
              "ticks": ""
             }
            },
            "type": "scattercarpet"
           }
          ],
          "scattergeo": [
           {
            "marker": {
             "colorbar": {
              "outlinewidth": 0,
              "ticks": ""
             }
            },
            "type": "scattergeo"
           }
          ],
          "scattergl": [
           {
            "marker": {
             "colorbar": {
              "outlinewidth": 0,
              "ticks": ""
             }
            },
            "type": "scattergl"
           }
          ],
          "scattermapbox": [
           {
            "marker": {
             "colorbar": {
              "outlinewidth": 0,
              "ticks": ""
             }
            },
            "type": "scattermapbox"
           }
          ],
          "scatterpolar": [
           {
            "marker": {
             "colorbar": {
              "outlinewidth": 0,
              "ticks": ""
             }
            },
            "type": "scatterpolar"
           }
          ],
          "scatterpolargl": [
           {
            "marker": {
             "colorbar": {
              "outlinewidth": 0,
              "ticks": ""
             }
            },
            "type": "scatterpolargl"
           }
          ],
          "scatterternary": [
           {
            "marker": {
             "colorbar": {
              "outlinewidth": 0,
              "ticks": ""
             }
            },
            "type": "scatterternary"
           }
          ],
          "surface": [
           {
            "colorbar": {
             "outlinewidth": 0,
             "ticks": ""
            },
            "colorscale": [
             [
              0,
              "#0d0887"
             ],
             [
              0.1111111111111111,
              "#46039f"
             ],
             [
              0.2222222222222222,
              "#7201a8"
             ],
             [
              0.3333333333333333,
              "#9c179e"
             ],
             [
              0.4444444444444444,
              "#bd3786"
             ],
             [
              0.5555555555555556,
              "#d8576b"
             ],
             [
              0.6666666666666666,
              "#ed7953"
             ],
             [
              0.7777777777777778,
              "#fb9f3a"
             ],
             [
              0.8888888888888888,
              "#fdca26"
             ],
             [
              1,
              "#f0f921"
             ]
            ],
            "type": "surface"
           }
          ],
          "table": [
           {
            "cells": {
             "fill": {
              "color": "#EBF0F8"
             },
             "line": {
              "color": "white"
             }
            },
            "header": {
             "fill": {
              "color": "#C8D4E3"
             },
             "line": {
              "color": "white"
             }
            },
            "type": "table"
           }
          ]
         },
         "layout": {
          "annotationdefaults": {
           "arrowcolor": "#2a3f5f",
           "arrowhead": 0,
           "arrowwidth": 1
          },
          "autotypenumbers": "strict",
          "coloraxis": {
           "colorbar": {
            "outlinewidth": 0,
            "ticks": ""
           }
          },
          "colorscale": {
           "diverging": [
            [
             0,
             "#8e0152"
            ],
            [
             0.1,
             "#c51b7d"
            ],
            [
             0.2,
             "#de77ae"
            ],
            [
             0.3,
             "#f1b6da"
            ],
            [
             0.4,
             "#fde0ef"
            ],
            [
             0.5,
             "#f7f7f7"
            ],
            [
             0.6,
             "#e6f5d0"
            ],
            [
             0.7,
             "#b8e186"
            ],
            [
             0.8,
             "#7fbc41"
            ],
            [
             0.9,
             "#4d9221"
            ],
            [
             1,
             "#276419"
            ]
           ],
           "sequential": [
            [
             0,
             "#0d0887"
            ],
            [
             0.1111111111111111,
             "#46039f"
            ],
            [
             0.2222222222222222,
             "#7201a8"
            ],
            [
             0.3333333333333333,
             "#9c179e"
            ],
            [
             0.4444444444444444,
             "#bd3786"
            ],
            [
             0.5555555555555556,
             "#d8576b"
            ],
            [
             0.6666666666666666,
             "#ed7953"
            ],
            [
             0.7777777777777778,
             "#fb9f3a"
            ],
            [
             0.8888888888888888,
             "#fdca26"
            ],
            [
             1,
             "#f0f921"
            ]
           ],
           "sequentialminus": [
            [
             0,
             "#0d0887"
            ],
            [
             0.1111111111111111,
             "#46039f"
            ],
            [
             0.2222222222222222,
             "#7201a8"
            ],
            [
             0.3333333333333333,
             "#9c179e"
            ],
            [
             0.4444444444444444,
             "#bd3786"
            ],
            [
             0.5555555555555556,
             "#d8576b"
            ],
            [
             0.6666666666666666,
             "#ed7953"
            ],
            [
             0.7777777777777778,
             "#fb9f3a"
            ],
            [
             0.8888888888888888,
             "#fdca26"
            ],
            [
             1,
             "#f0f921"
            ]
           ]
          },
          "colorway": [
           "#636efa",
           "#EF553B",
           "#00cc96",
           "#ab63fa",
           "#FFA15A",
           "#19d3f3",
           "#FF6692",
           "#B6E880",
           "#FF97FF",
           "#FECB52"
          ],
          "font": {
           "color": "#2a3f5f"
          },
          "geo": {
           "bgcolor": "white",
           "lakecolor": "white",
           "landcolor": "#E5ECF6",
           "showlakes": true,
           "showland": true,
           "subunitcolor": "white"
          },
          "hoverlabel": {
           "align": "left"
          },
          "hovermode": "closest",
          "mapbox": {
           "style": "light"
          },
          "paper_bgcolor": "white",
          "plot_bgcolor": "#E5ECF6",
          "polar": {
           "angularaxis": {
            "gridcolor": "white",
            "linecolor": "white",
            "ticks": ""
           },
           "bgcolor": "#E5ECF6",
           "radialaxis": {
            "gridcolor": "white",
            "linecolor": "white",
            "ticks": ""
           }
          },
          "scene": {
           "xaxis": {
            "backgroundcolor": "#E5ECF6",
            "gridcolor": "white",
            "gridwidth": 2,
            "linecolor": "white",
            "showbackground": true,
            "ticks": "",
            "zerolinecolor": "white"
           },
           "yaxis": {
            "backgroundcolor": "#E5ECF6",
            "gridcolor": "white",
            "gridwidth": 2,
            "linecolor": "white",
            "showbackground": true,
            "ticks": "",
            "zerolinecolor": "white"
           },
           "zaxis": {
            "backgroundcolor": "#E5ECF6",
            "gridcolor": "white",
            "gridwidth": 2,
            "linecolor": "white",
            "showbackground": true,
            "ticks": "",
            "zerolinecolor": "white"
           }
          },
          "shapedefaults": {
           "line": {
            "color": "#2a3f5f"
           }
          },
          "ternary": {
           "aaxis": {
            "gridcolor": "white",
            "linecolor": "white",
            "ticks": ""
           },
           "baxis": {
            "gridcolor": "white",
            "linecolor": "white",
            "ticks": ""
           },
           "bgcolor": "#E5ECF6",
           "caxis": {
            "gridcolor": "white",
            "linecolor": "white",
            "ticks": ""
           }
          },
          "title": {
           "x": 0.05
          },
          "xaxis": {
           "automargin": true,
           "gridcolor": "white",
           "linecolor": "white",
           "ticks": "",
           "title": {
            "standoff": 15
           },
           "zerolinecolor": "white",
           "zerolinewidth": 2
          },
          "yaxis": {
           "automargin": true,
           "gridcolor": "white",
           "linecolor": "white",
           "ticks": "",
           "title": {
            "standoff": 15
           },
           "zerolinecolor": "white",
           "zerolinewidth": 2
          }
         }
        },
        "title": {
         "text": "Precipitation Time Series"
        },
        "xaxis": {
         "autorange": true,
         "range": [
          "2020-01-01",
          "2020-12-29"
         ],
         "title": {
          "text": "Date"
         },
         "type": "date"
        },
        "yaxis": {
         "autorange": true,
         "range": [
          -4.363060163065836,
          82.8981430982509
         ],
         "title": {
          "text": "Precipitation (mm)"
         },
         "type": "linear"
        }
       }
      },
      "image/png": "[encoded data removed]",
      "text/html": [
       "<div>                            <div id=\"64f9ff6b-09d9-42b5-9068-b5087739a3f6\" class=\"plotly-graph-div\" style=\"height:525px; width:100%;\"></div>            <script type=\"text/javascript\">                require([\"plotly\"], function(Plotly) {                    window.PLOTLYENV=window.PLOTLYENV || {};                                    if (document.getElementById(\"64f9ff6b-09d9-42b5-9068-b5087739a3f6\")) {                    Plotly.newPlot(                        \"64f9ff6b-09d9-42b5-9068-b5087739a3f6\",                        [{\"mode\":\"lines\",\"name\":\"Mean Precipitation (mm)\",\"x\":[\"2020-01-01T00:00:00\",\"2020-01-02T00:00:00\",\"2020-01-03T00:00:00\",\"2020-01-04T00:00:00\",\"2020-01-05T00:00:00\",\"2020-01-06T00:00:00\",\"2020-01-07T00:00:00\",\"2020-01-08T00:00:00\",\"2020-01-09T00:00:00\",\"2020-01-10T00:00:00\",\"2020-01-11T00:00:00\",\"2020-01-12T00:00:00\",\"2020-01-13T00:00:00\",\"2020-01-14T00:00:00\",\"2020-01-15T00:00:00\",\"2020-01-16T00:00:00\",\"2020-01-17T00:00:00\",\"2020-01-18T00:00:00\",\"2020-01-19T00:00:00\",\"2020-01-20T00:00:00\",\"2020-01-21T00:00:00\",\"2020-01-22T00:00:00\",\"2020-01-23T00:00:00\",\"2020-01-24T00:00:00\",\"2020-01-25T00:00:00\",\"2020-01-26T00:00:00\",\"2020-01-27T00:00:00\",\"2020-01-28T00:00:00\",\"2020-01-29T00:00:00\",\"2020-01-30T00:00:00\",\"2020-01-31T00:00:00\",\"2020-02-01T00:00:00\",\"2020-02-02T00:00:00\",\"2020-02-03T00:00:00\",\"2020-02-04T00:00:00\",\"2020-02-05T00:00:00\",\"2020-02-06T00:00:00\",\"2020-02-07T00:00:00\",\"2020-02-08T00:00:00\",\"2020-02-09T00:00:00\",\"2020-02-10T00:00:00\",\"2020-02-11T00:00:00\",\"2020-02-12T00:00:00\",\"2020-02-13T00:00:00\",\"2020-02-14T00:00:00\",\"2020-02-15T00:00:00\",\"2020-02-16T00:00:00\",\"2020-02-17T00:00:00\",\"2020-02-18T00:00:00\",\"2020-02-19T00:00:00\",\"2020-02-20T00:00:00\",\"2020-02-21T00:00:00\",\"2020-02-22T00:00:00\",\"2020-02-23T00:00:00\",\"2020-02-24T00:00:00\",\"2020-02-25T00:00:00\",\"2020-02-26T00:00:00\",\"2020-02-27T00:00:00\",\"2020-02-28T00:00:00\",\"2020-02-29T00:00:00\",\"2020-03-01T00:00:00\",\"2020-03-02T00:00:00\",\"2020-03-03T00:00:00\",\"2020-03-04T00:00:00\",\"2020-03-05T00:00:00\",\"2020-03-06T00:00:00\",\"2020-03-07T00:00:00\",\"2020-03-08T00:00:00\",\"2020-03-09T00:00:00\",\"2020-03-10T00:00:00\",\"2020-03-11T00:00:00\",\"2020-03-12T00:00:00\",\"2020-03-13T00:00:00\",\"2020-03-14T00:00:00\",\"2020-03-15T00:00:00\",\"2020-03-16T00:00:00\",\"2020-03-17T00:00:00\",\"2020-03-18T00:00:00\",\"2020-03-19T00:00:00\",\"2020-03-20T00:00:00\",\"2020-03-21T00:00:00\",\"2020-03-22T00:00:00\",\"2020-03-23T00:00:00\",\"2020-03-24T00:00:00\",\"2020-03-25T00:00:00\",\"2020-03-26T00:00:00\",\"2020-03-27T00:00:00\",\"2020-03-28T00:00:00\",\"2020-03-29T00:00:00\",\"2020-03-30T00:00:00\",\"2020-03-31T00:00:00\",\"2020-04-01T00:00:00\",\"2020-04-02T00:00:00\",\"2020-04-03T00:00:00\",\"2020-04-04T00:00:00\",\"2020-04-05T00:00:00\",\"2020-04-06T00:00:00\",\"2020-04-07T00:00:00\",\"2020-04-08T00:00:00\",\"2020-04-09T00:00:00\",\"2020-04-10T00:00:00\",\"2020-04-11T00:00:00\",\"2020-04-12T00:00:00\",\"2020-04-13T00:00:00\",\"2020-04-14T00:00:00\",\"2020-04-15T00:00:00\",\"2020-04-16T00:00:00\",\"2020-04-17T00:00:00\",\"2020-04-18T00:00:00\",\"2020-04-19T00:00:00\",\"2020-04-20T00:00:00\",\"2020-04-21T00:00:00\",\"2020-04-22T00:00:00\",\"2020-04-23T00:00:00\",\"2020-04-24T00:00:00\",\"2020-04-25T00:00:00\",\"2020-04-26T00:00:00\",\"2020-04-27T00:00:00\",\"2020-04-28T00:00:00\",\"2020-04-29T00:00:00\",\"2020-04-30T00:00:00\",\"2020-05-01T00:00:00\",\"2020-05-02T00:00:00\",\"2020-05-03T00:00:00\",\"2020-05-04T00:00:00\",\"2020-05-05T00:00:00\",\"2020-05-06T00:00:00\",\"2020-05-07T00:00:00\",\"2020-05-08T00:00:00\",\"2020-05-09T00:00:00\",\"2020-05-10T00:00:00\",\"2020-05-11T00:00:00\",\"2020-05-12T00:00:00\",\"2020-05-13T00:00:00\",\"2020-05-14T00:00:00\",\"2020-05-15T00:00:00\",\"2020-05-16T00:00:00\",\"2020-05-17T00:00:00\",\"2020-05-18T00:00:00\",\"2020-05-19T00:00:00\",\"2020-05-20T00:00:00\",\"2020-05-21T00:00:00\",\"2020-05-22T00:00:00\",\"2020-05-23T00:00:00\",\"2020-05-24T00:00:00\",\"2020-05-25T00:00:00\",\"2020-05-26T00:00:00\",\"2020-05-27T00:00:00\",\"2020-05-28T00:00:00\",\"2020-05-29T00:00:00\",\"2020-05-30T00:00:00\",\"2020-05-31T00:00:00\",\"2020-06-01T00:00:00\",\"2020-06-02T00:00:00\",\"2020-06-03T00:00:00\",\"2020-06-04T00:00:00\",\"2020-06-05T00:00:00\",\"2020-06-06T00:00:00\",\"2020-06-07T00:00:00\",\"2020-06-08T00:00:00\",\"2020-06-09T00:00:00\",\"2020-06-10T00:00:00\",\"2020-06-11T00:00:00\",\"2020-06-12T00:00:00\",\"2020-06-13T00:00:00\",\"2020-06-14T00:00:00\",\"2020-06-15T00:00:00\",\"2020-06-16T00:00:00\",\"2020-06-17T00:00:00\",\"2020-06-18T00:00:00\",\"2020-06-19T00:00:00\",\"2020-06-20T00:00:00\",\"2020-06-21T00:00:00\",\"2020-06-22T00:00:00\",\"2020-06-23T00:00:00\",\"2020-06-24T00:00:00\",\"2020-06-25T00:00:00\",\"2020-06-26T00:00:00\",\"2020-06-27T00:00:00\",\"2020-06-28T00:00:00\",\"2020-06-29T00:00:00\",\"2020-06-30T00:00:00\",\"2020-07-01T00:00:00\",\"2020-07-02T00:00:00\",\"2020-07-03T00:00:00\",\"2020-07-04T00:00:00\",\"2020-07-05T00:00:00\",\"2020-07-06T00:00:00\",\"2020-07-07T00:00:00\",\"2020-07-08T00:00:00\",\"2020-07-09T00:00:00\",\"2020-07-10T00:00:00\",\"2020-07-11T00:00:00\",\"2020-07-12T00:00:00\",\"2020-07-13T00:00:00\",\"2020-07-14T00:00:00\",\"2020-07-15T00:00:00\",\"2020-07-16T00:00:00\",\"2020-07-17T00:00:00\",\"2020-07-18T00:00:00\",\"2020-07-19T00:00:00\",\"2020-07-20T00:00:00\",\"2020-07-21T00:00:00\",\"2020-07-22T00:00:00\",\"2020-07-23T00:00:00\",\"2020-07-24T00:00:00\",\"2020-07-25T00:00:00\",\"2020-07-26T00:00:00\",\"2020-07-27T00:00:00\",\"2020-07-28T00:00:00\",\"2020-07-29T00:00:00\",\"2020-07-30T00:00:00\",\"2020-07-31T00:00:00\",\"2020-08-01T00:00:00\",\"2020-08-02T00:00:00\",\"2020-08-03T00:00:00\",\"2020-08-04T00:00:00\",\"2020-08-05T00:00:00\",\"2020-08-06T00:00:00\",\"2020-08-07T00:00:00\",\"2020-08-08T00:00:00\",\"2020-08-09T00:00:00\",\"2020-08-10T00:00:00\",\"2020-08-11T00:00:00\",\"2020-08-12T00:00:00\",\"2020-08-13T00:00:00\",\"2020-08-14T00:00:00\",\"2020-08-15T00:00:00\",\"2020-08-16T00:00:00\",\"2020-08-17T00:00:00\",\"2020-08-18T00:00:00\",\"2020-08-19T00:00:00\",\"2020-08-20T00:00:00\",\"2020-08-21T00:00:00\",\"2020-08-22T00:00:00\",\"2020-08-23T00:00:00\",\"2020-08-24T00:00:00\",\"2020-08-25T00:00:00\",\"2020-08-26T00:00:00\",\"2020-08-27T00:00:00\",\"2020-08-28T00:00:00\",\"2020-08-29T00:00:00\",\"2020-08-30T00:00:00\",\"2020-08-31T00:00:00\",\"2020-09-01T00:00:00\",\"2020-09-02T00:00:00\",\"2020-09-03T00:00:00\",\"2020-09-04T00:00:00\",\"2020-09-05T00:00:00\",\"2020-09-06T00:00:00\",\"2020-09-07T00:00:00\",\"2020-09-08T00:00:00\",\"2020-09-09T00:00:00\",\"2020-09-10T00:00:00\",\"2020-09-11T00:00:00\",\"2020-09-12T00:00:00\",\"2020-09-13T00:00:00\",\"2020-09-14T00:00:00\",\"2020-09-15T00:00:00\",\"2020-09-16T00:00:00\",\"2020-09-17T00:00:00\",\"2020-09-18T00:00:00\",\"2020-09-19T00:00:00\",\"2020-09-20T00:00:00\",\"2020-09-21T00:00:00\",\"2020-09-22T00:00:00\",\"2020-09-23T00:00:00\",\"2020-09-24T00:00:00\",\"2020-09-25T00:00:00\",\"2020-09-26T00:00:00\",\"2020-09-27T00:00:00\",\"2020-09-28T00:00:00\",\"2020-09-29T00:00:00\",\"2020-09-30T00:00:00\",\"2020-10-01T00:00:00\",\"2020-10-02T00:00:00\",\"2020-10-03T00:00:00\",\"2020-10-04T00:00:00\",\"2020-10-05T00:00:00\",\"2020-10-06T00:00:00\",\"2020-10-07T00:00:00\",\"2020-10-08T00:00:00\",\"2020-10-09T00:00:00\",\"2020-10-10T00:00:00\",\"2020-10-11T00:00:00\",\"2020-10-12T00:00:00\",\"2020-10-13T00:00:00\",\"2020-10-14T00:00:00\",\"2020-10-15T00:00:00\",\"2020-10-16T00:00:00\",\"2020-10-17T00:00:00\",\"2020-10-18T00:00:00\",\"2020-10-19T00:00:00\",\"2020-10-20T00:00:00\",\"2020-10-21T00:00:00\",\"2020-10-22T00:00:00\",\"2020-10-23T00:00:00\",\"2020-10-24T00:00:00\",\"2020-10-25T00:00:00\",\"2020-10-26T00:00:00\",\"2020-10-27T00:00:00\",\"2020-10-28T00:00:00\",\"2020-10-29T00:00:00\",\"2020-10-30T00:00:00\",\"2020-10-31T00:00:00\",\"2020-11-01T00:00:00\",\"2020-11-02T00:00:00\",\"2020-11-03T00:00:00\",\"2020-11-04T00:00:00\",\"2020-11-05T00:00:00\",\"2020-11-06T00:00:00\",\"2020-11-07T00:00:00\",\"2020-11-08T00:00:00\",\"2020-11-09T00:00:00\",\"2020-11-10T00:00:00\",\"2020-11-11T00:00:00\",\"2020-11-12T00:00:00\",\"2020-11-13T00:00:00\",\"2020-11-14T00:00:00\",\"2020-11-15T00:00:00\",\"2020-11-16T00:00:00\",\"2020-11-17T00:00:00\",\"2020-11-18T00:00:00\",\"2020-11-19T00:00:00\",\"2020-11-20T00:00:00\",\"2020-11-21T00:00:00\",\"2020-11-22T00:00:00\",\"2020-11-23T00:00:00\",\"2020-11-24T00:00:00\",\"2020-11-25T00:00:00\",\"2020-11-26T00:00:00\",\"2020-11-27T00:00:00\",\"2020-11-28T00:00:00\",\"2020-11-29T00:00:00\",\"2020-11-30T00:00:00\",\"2020-12-01T00:00:00\",\"2020-12-02T00:00:00\",\"2020-12-03T00:00:00\",\"2020-12-04T00:00:00\",\"2020-12-05T00:00:00\",\"2020-12-06T00:00:00\",\"2020-12-07T00:00:00\",\"2020-12-08T00:00:00\",\"2020-12-09T00:00:00\",\"2020-12-10T00:00:00\",\"2020-12-11T00:00:00\",\"2020-12-12T00:00:00\",\"2020-12-13T00:00:00\",\"2020-12-14T00:00:00\",\"2020-12-15T00:00:00\",\"2020-12-16T00:00:00\",\"2020-12-17T00:00:00\",\"2020-12-18T00:00:00\",\"2020-12-19T00:00:00\",\"2020-12-20T00:00:00\",\"2020-12-21T00:00:00\",\"2020-12-22T00:00:00\",\"2020-12-23T00:00:00\",\"2020-12-24T00:00:00\",\"2020-12-25T00:00:00\",\"2020-12-26T00:00:00\",\"2020-12-27T00:00:00\",\"2020-12-28T00:00:00\",\"2020-12-29T00:00:00\"],\"y\":[0.0,10.480297929590739,36.27795572054339,11.838212514542494,2.121230765311359,10.14736999727258,0.0,13.27022041397068,8.31297751638841,0.0,15.128044936074907,16.350088084286877,0.0,0.0,0.0,0.0,0.0,8.838769539228691,0.0,0.0,0.0,0.0,0.0,0.0,0.0,0.0,0.0,0.0,0.0,25.48131605665535,0.0,7.2263974318486435,0.0,0.0,6.310169746761956,5.543950965554541,19.888890060366837,22.730161037636183,0.0,0.0,0.0,0.0,0.0,6.11102409639096,0.0,8.768443614065353,0.0,11.016994011951791,27.16284852816287,13.756498551523057,14.777413083828506,0.0,0.0,13.466108835698233,0.0,12.698848053123355,8.667995608029596,0.0,0.0,0.0,0.0,0.0,4.468115348553279,23.973718572762014,15.037487875655446,12.119158107594426,23.24815433311726,28.565109073610696,0.0,25.626974674413436,0.0,4.156174062472048,15.611346789300221,10.407564924855697,6.205069460758059,0.0,0.0,0.0,0.0,35.415555892023185,9.352514870256533,23.547551242062347,17.940991342087724,31.62402301463318,2.37285853014579,0.0,11.439099497387595,10.82937285228116,0.0,21.65874570456232,3.8620450043840524,53.37503119165651,33.760823652252675,13.11099032216979,17.79167660621564,18.92771027125114,22.619667631418327,0.0,0.0,0.0,3.805474545741637,0.0,0.0,0.0,28.932758573408275,0.0,6.608777371747604,0.0,0.0,0.0,6.494248299075183,0.0,27.623927452304795,9.207975398424244,16.06231700271753,17.631912404287053,9.13956065815883,0.0,47.81874457996458,47.81874457996458,27.38089033526277,0.6140758615424554,0.0,0.0,5.595684560548839,0.0,0.0,0.0,0.0,0.0,0.0,0.0,0.0,11.94107190642058,0.0,0.0,8.864487799954627,0.0,0.0,8.864487799954627,17.728975599909255,2.041884618522191,12.78890571524735,7.23873623537257,21.25931485841746,14.142672053758803,36.60000865139349,12.363068052684051,24.236940598709417,54.900016928988705,0.0,0.0,13.068533827655731,9.056297014996119,8.481937845262685,4.578141137271391,14.089290957650242,17.999200183611496,35.99840036722299,17.999200183611496,1.2614683031343523,0.0,9.670495243839783,24.590988458619304,15.452003165471766,10.679899802724478,32.546315409765334,0.0,0.0,0.0,0.0,0.0,0.0,0.0,0.0,0.0,0.0,0.6397562556507956,0.0,0.0,21.762957141833475,0.0,72.59578132930528,1.0958463969976018,34.70351733887677,0.0,0.0,0.0,0.0,0.0,0.0,0.0,11.43363096990778,26.45622607026985,11.43363096990778,0.0,0.0,4.657730712749203,2.9971882380016677,5.022793679234901,2.6850218705592535,3.744743932011893,6.414256624004787,0.0,0.0,0.0,13.041826934214702,0.0,21.941274440582006,0.0,5.501044741280897,5.501044741280897,0.0,0.0,0.0,0.0,0.0,0.0,0.0,34.2965283147593,34.2965283147593,0.0,0.0,0.0,0.0,46.48243490617193,0.0,46.48243490617193,39.656357399340116,19.8949053894896,0.0,0.0,0.0,0.0,0.0,0.0,0.0,0.0,0.0,0.0,0.0,0.0,0.0,26.45271541689335,0.0,0.0,43.95968667980808,0.0,0.0,26.694778874146827,0.0,0.0,0.0,0.0,0.0,0.0,13.178202724629216,0.0,15.069253367898671,9.054572499318601,6.101092241413947,2.685272844510651,9.600164512894192,10.362716844527386,10.308546310309447,3.0270374063047885,27.05993005767129,21.06699207226564,18.03995477653356,13.269810192766352,17.708091952882633,57.82699861326952,25.178363517387158,8.216579680953842,0.0,40.081099583186585,78.53508293518506,4.196830527593809,1.2943129741063437,1.321364408738996,11.139745948038057,11.499027040557161,7.892412372627286,0.0,5.079924838228296,20.319699352913183,0.0,5.079924838228296,5.079924838228296,11.602347891088634,18.804034571771556,11.494820733156327,0.0,7.994668405553624,0.0,0.0,0.0,7.969704364827698,0.0,10.27209041274225,6.066292781748115,9.946699237524264,2.4907806831374213,2.1353216161898616,4.631573718416108,7.370555766154789,20.546380139757925,11.985387667954202,0.03673695200388942,0.0,0.0,6.187576114504752,3.813052015026983,7.626104030053966,0.0,2.695663104848096,9.635138496595893,0.0,9.635138496595893,6.849394759925686,17.153079020373784,6.812203380742989,1.7643361294439002,10.400530894960573,17.153079020373784,9.377014790377839,0.0,8.56215279981483,9.377014790377839,28.037504253436172,13.260549870206667,13.229311725435844,8.840366902872722,18.600650151074557,10.006663515646586,21.59452622990843,0.0,0.0,0.0,0.0,0.0,0.0,7.293207074716427,0.0,7.293207074716427,0.0,0.0,5.1713090359451686,3.7585514183326416,15.513927203432775,16.593063925611297,12.342307844317656,4.5373757551416505,4.823995639116712,0.0,3.940552974843486,14.95637144148671,0.02831003104721619,5.523924174761335,3.6183517085268724,22.11758263383515,13.517939218986909,0.09422303794675382,3.397904972165494],\"type\":\"scatter\"}],                        {\"template\":{\"data\":{\"histogram2dcontour\":[{\"type\":\"histogram2dcontour\",\"colorbar\":{\"outlinewidth\":0,\"ticks\":\"\"},\"colorscale\":[[0.0,\"#0d0887\"],[0.1111111111111111,\"#46039f\"],[0.2222222222222222,\"#7201a8\"],[0.3333333333333333,\"#9c179e\"],[0.4444444444444444,\"#bd3786\"],[0.5555555555555556,\"#d8576b\"],[0.6666666666666666,\"#ed7953\"],[0.7777777777777778,\"#fb9f3a\"],[0.8888888888888888,\"#fdca26\"],[1.0,\"#f0f921\"]]}],\"choropleth\":[{\"type\":\"choropleth\",\"colorbar\":{\"outlinewidth\":0,\"ticks\":\"\"}}],\"histogram2d\":[{\"type\":\"histogram2d\",\"colorbar\":{\"outlinewidth\":0,\"ticks\":\"\"},\"colorscale\":[[0.0,\"#0d0887\"],[0.1111111111111111,\"#46039f\"],[0.2222222222222222,\"#7201a8\"],[0.3333333333333333,\"#9c179e\"],[0.4444444444444444,\"#bd3786\"],[0.5555555555555556,\"#d8576b\"],[0.6666666666666666,\"#ed7953\"],[0.7777777777777778,\"#fb9f3a\"],[0.8888888888888888,\"#fdca26\"],[1.0,\"#f0f921\"]]}],\"heatmap\":[{\"type\":\"heatmap\",\"colorbar\":{\"outlinewidth\":0,\"ticks\":\"\"},\"colorscale\":[[0.0,\"#0d0887\"],[0.1111111111111111,\"#46039f\"],[0.2222222222222222,\"#7201a8\"],[0.3333333333333333,\"#9c179e\"],[0.4444444444444444,\"#bd3786\"],[0.5555555555555556,\"#d8576b\"],[0.6666666666666666,\"#ed7953\"],[0.7777777777777778,\"#fb9f3a\"],[0.8888888888888888,\"#fdca26\"],[1.0,\"#f0f921\"]]}],\"heatmapgl\":[{\"type\":\"heatmapgl\",\"colorbar\":{\"outlinewidth\":0,\"ticks\":\"\"},\"colorscale\":[[0.0,\"#0d0887\"],[0.1111111111111111,\"#46039f\"],[0.2222222222222222,\"#7201a8\"],[0.3333333333333333,\"#9c179e\"],[0.4444444444444444,\"#bd3786\"],[0.5555555555555556,\"#d8576b\"],[0.6666666666666666,\"#ed7953\"],[0.7777777777777778,\"#fb9f3a\"],[0.8888888888888888,\"#fdca26\"],[1.0,\"#f0f921\"]]}],\"contourcarpet\":[{\"type\":\"contourcarpet\",\"colorbar\":{\"outlinewidth\":0,\"ticks\":\"\"}}],\"contour\":[{\"type\":\"contour\",\"colorbar\":{\"outlinewidth\":0,\"ticks\":\"\"},\"colorscale\":[[0.0,\"#0d0887\"],[0.1111111111111111,\"#46039f\"],[0.2222222222222222,\"#7201a8\"],[0.3333333333333333,\"#9c179e\"],[0.4444444444444444,\"#bd3786\"],[0.5555555555555556,\"#d8576b\"],[0.6666666666666666,\"#ed7953\"],[0.7777777777777778,\"#fb9f3a\"],[0.8888888888888888,\"#fdca26\"],[1.0,\"#f0f921\"]]}],\"surface\":[{\"type\":\"surface\",\"colorbar\":{\"outlinewidth\":0,\"ticks\":\"\"},\"colorscale\":[[0.0,\"#0d0887\"],[0.1111111111111111,\"#46039f\"],[0.2222222222222222,\"#7201a8\"],[0.3333333333333333,\"#9c179e\"],[0.4444444444444444,\"#bd3786\"],[0.5555555555555556,\"#d8576b\"],[0.6666666666666666,\"#ed7953\"],[0.7777777777777778,\"#fb9f3a\"],[0.8888888888888888,\"#fdca26\"],[1.0,\"#f0f921\"]]}],\"mesh3d\":[{\"type\":\"mesh3d\",\"colorbar\":{\"outlinewidth\":0,\"ticks\":\"\"}}],\"scatter\":[{\"fillpattern\":{\"fillmode\":\"overlay\",\"size\":10,\"solidity\":0.2},\"type\":\"scatter\"}],\"parcoords\":[{\"type\":\"parcoords\",\"line\":{\"colorbar\":{\"outlinewidth\":0,\"ticks\":\"\"}}}],\"scatterpolargl\":[{\"type\":\"scatterpolargl\",\"marker\":{\"colorbar\":{\"outlinewidth\":0,\"ticks\":\"\"}}}],\"bar\":[{\"error_x\":{\"color\":\"#2a3f5f\"},\"error_y\":{\"color\":\"#2a3f5f\"},\"marker\":{\"line\":{\"color\":\"#E5ECF6\",\"width\":0.5},\"pattern\":{\"fillmode\":\"overlay\",\"size\":10,\"solidity\":0.2}},\"type\":\"bar\"}],\"scattergeo\":[{\"type\":\"scattergeo\",\"marker\":{\"colorbar\":{\"outlinewidth\":0,\"ticks\":\"\"}}}],\"scatterpolar\":[{\"type\":\"scatterpolar\",\"marker\":{\"colorbar\":{\"outlinewidth\":0,\"ticks\":\"\"}}}],\"histogram\":[{\"marker\":{\"pattern\":{\"fillmode\":\"overlay\",\"size\":10,\"solidity\":0.2}},\"type\":\"histogram\"}],\"scattergl\":[{\"type\":\"scattergl\",\"marker\":{\"colorbar\":{\"outlinewidth\":0,\"ticks\":\"\"}}}],\"scatter3d\":[{\"type\":\"scatter3d\",\"line\":{\"colorbar\":{\"outlinewidth\":0,\"ticks\":\"\"}},\"marker\":{\"colorbar\":{\"outlinewidth\":0,\"ticks\":\"\"}}}],\"scattermapbox\":[{\"type\":\"scattermapbox\",\"marker\":{\"colorbar\":{\"outlinewidth\":0,\"ticks\":\"\"}}}],\"scatterternary\":[{\"type\":\"scatterternary\",\"marker\":{\"colorbar\":{\"outlinewidth\":0,\"ticks\":\"\"}}}],\"scattercarpet\":[{\"type\":\"scattercarpet\",\"marker\":{\"colorbar\":{\"outlinewidth\":0,\"ticks\":\"\"}}}],\"carpet\":[{\"aaxis\":{\"endlinecolor\":\"#2a3f5f\",\"gridcolor\":\"white\",\"linecolor\":\"white\",\"minorgridcolor\":\"white\",\"startlinecolor\":\"#2a3f5f\"},\"baxis\":{\"endlinecolor\":\"#2a3f5f\",\"gridcolor\":\"white\",\"linecolor\":\"white\",\"minorgridcolor\":\"white\",\"startlinecolor\":\"#2a3f5f\"},\"type\":\"carpet\"}],\"table\":[{\"cells\":{\"fill\":{\"color\":\"#EBF0F8\"},\"line\":{\"color\":\"white\"}},\"header\":{\"fill\":{\"color\":\"#C8D4E3\"},\"line\":{\"color\":\"white\"}},\"type\":\"table\"}],\"barpolar\":[{\"marker\":{\"line\":{\"color\":\"#E5ECF6\",\"width\":0.5},\"pattern\":{\"fillmode\":\"overlay\",\"size\":10,\"solidity\":0.2}},\"type\":\"barpolar\"}],\"pie\":[{\"automargin\":true,\"type\":\"pie\"}]},\"layout\":{\"autotypenumbers\":\"strict\",\"colorway\":[\"#636efa\",\"#EF553B\",\"#00cc96\",\"#ab63fa\",\"#FFA15A\",\"#19d3f3\",\"#FF6692\",\"#B6E880\",\"#FF97FF\",\"#FECB52\"],\"font\":{\"color\":\"#2a3f5f\"},\"hovermode\":\"closest\",\"hoverlabel\":{\"align\":\"left\"},\"paper_bgcolor\":\"white\",\"plot_bgcolor\":\"#E5ECF6\",\"polar\":{\"bgcolor\":\"#E5ECF6\",\"angularaxis\":{\"gridcolor\":\"white\",\"linecolor\":\"white\",\"ticks\":\"\"},\"radialaxis\":{\"gridcolor\":\"white\",\"linecolor\":\"white\",\"ticks\":\"\"}},\"ternary\":{\"bgcolor\":\"#E5ECF6\",\"aaxis\":{\"gridcolor\":\"white\",\"linecolor\":\"white\",\"ticks\":\"\"},\"baxis\":{\"gridcolor\":\"white\",\"linecolor\":\"white\",\"ticks\":\"\"},\"caxis\":{\"gridcolor\":\"white\",\"linecolor\":\"white\",\"ticks\":\"\"}},\"coloraxis\":{\"colorbar\":{\"outlinewidth\":0,\"ticks\":\"\"}},\"colorscale\":{\"sequential\":[[0.0,\"#0d0887\"],[0.1111111111111111,\"#46039f\"],[0.2222222222222222,\"#7201a8\"],[0.3333333333333333,\"#9c179e\"],[0.4444444444444444,\"#bd3786\"],[0.5555555555555556,\"#d8576b\"],[0.6666666666666666,\"#ed7953\"],[0.7777777777777778,\"#fb9f3a\"],[0.8888888888888888,\"#fdca26\"],[1.0,\"#f0f921\"]],\"sequentialminus\":[[0.0,\"#0d0887\"],[0.1111111111111111,\"#46039f\"],[0.2222222222222222,\"#7201a8\"],[0.3333333333333333,\"#9c179e\"],[0.4444444444444444,\"#bd3786\"],[0.5555555555555556,\"#d8576b\"],[0.6666666666666666,\"#ed7953\"],[0.7777777777777778,\"#fb9f3a\"],[0.8888888888888888,\"#fdca26\"],[1.0,\"#f0f921\"]],\"diverging\":[[0,\"#8e0152\"],[0.1,\"#c51b7d\"],[0.2,\"#de77ae\"],[0.3,\"#f1b6da\"],[0.4,\"#fde0ef\"],[0.5,\"#f7f7f7\"],[0.6,\"#e6f5d0\"],[0.7,\"#b8e186\"],[0.8,\"#7fbc41\"],[0.9,\"#4d9221\"],[1,\"#276419\"]]},\"xaxis\":{\"gridcolor\":\"white\",\"linecolor\":\"white\",\"ticks\":\"\",\"title\":{\"standoff\":15},\"zerolinecolor\":\"white\",\"automargin\":true,\"zerolinewidth\":2},\"yaxis\":{\"gridcolor\":\"white\",\"linecolor\":\"white\",\"ticks\":\"\",\"title\":{\"standoff\":15},\"zerolinecolor\":\"white\",\"automargin\":true,\"zerolinewidth\":2},\"scene\":{\"xaxis\":{\"backgroundcolor\":\"#E5ECF6\",\"gridcolor\":\"white\",\"linecolor\":\"white\",\"showbackground\":true,\"ticks\":\"\",\"zerolinecolor\":\"white\",\"gridwidth\":2},\"yaxis\":{\"backgroundcolor\":\"#E5ECF6\",\"gridcolor\":\"white\",\"linecolor\":\"white\",\"showbackground\":true,\"ticks\":\"\",\"zerolinecolor\":\"white\",\"gridwidth\":2},\"zaxis\":{\"backgroundcolor\":\"#E5ECF6\",\"gridcolor\":\"white\",\"linecolor\":\"white\",\"showbackground\":true,\"ticks\":\"\",\"zerolinecolor\":\"white\",\"gridwidth\":2}},\"shapedefaults\":{\"line\":{\"color\":\"#2a3f5f\"}},\"annotationdefaults\":{\"arrowcolor\":\"#2a3f5f\",\"arrowhead\":0,\"arrowwidth\":1},\"geo\":{\"bgcolor\":\"white\",\"landcolor\":\"#E5ECF6\",\"subunitcolor\":\"white\",\"showland\":true,\"showlakes\":true,\"lakecolor\":\"white\"},\"title\":{\"x\":0.05},\"mapbox\":{\"style\":\"light\"}}},\"title\":{\"text\":\"Precipitation Time Series\"},\"xaxis\":{\"title\":{\"text\":\"Date\"}},\"yaxis\":{\"title\":{\"text\":\"Precipitation (mm)\"}}},                        {\"responsive\": true}                    ).then(function(){\n",
       "                            \n",
       "var gd = document.getElementById('64f9ff6b-09d9-42b5-9068-b5087739a3f6');\n",
       "var x = new MutationObserver(function (mutations, observer) {{\n",
       "        var display = window.getComputedStyle(gd).display;\n",
       "        if (!display || display === 'none') {{\n",
       "            console.log([gd, 'removed!']);\n",
       "            Plotly.purge(gd);\n",
       "            observer.disconnect();\n",
       "        }}\n",
       "}});\n",
       "\n",
       "// Listen for the removal of the full notebook cells\n",
       "var notebookContainer = gd.closest('#notebook-container');\n",
       "if (notebookContainer) {{\n",
       "    x.observe(notebookContainer, {childList: true});\n",
       "}}\n",
       "\n",
       "// Listen for the clearing of the current output cell\n",
       "var outputEl = gd.closest('.output');\n",
       "if (outputEl) {{\n",
       "    x.observe(outputEl, {childList: true});\n",
       "}}\n",
       "\n",
       "                        })                };                });            </script>        </div>"
      ]
     },
     "metadata": {},
     "output_type": "display_data"
    }
   ],
   "source": [
    "fig = go.Figure()\n",
    "fig.add_trace(go.Scatter(x=data['Date'], y=data['Mean Precipitation (mm)'], mode='lines', name='Mean Precipitation (mm)'))\n",
    "\n",
    "fig.update_layout(\n",
    "    title='Precipitation Time Series',\n",
    "    xaxis_title='Date',\n",
    "    yaxis_title='Precipitation (mm)',\n",
    "    # template='plotly_dark'\n",
    ")\n",
    "\n",
    "\n",
    "# Update layout with download link\n",
    "download_csv_link = '''\n",
    "<a download=\"precipitation_time_series.csv\" href=\"data:text/csv;charset=utf-8,{csv}\" \n",
    "style=\"margin-top:10px;display:block;text-align:center;\">Download CSV</a>\n",
    "'''.format(csv=data.to_csv(index=False, encoding='utf-8').replace('\\n', '%0A').replace(',', '%2C'))\n",
    "\n",
    "# # Display the download link and show the plot\n",
    "display(HTML(download_csv_link))\n",
    "fig.show()"
   ]
  },
  {
   "cell_type": "markdown",
   "id": "1a461cd6-0398-4c89-b0cc-0222a54df7dd",
   "metadata": {},
   "source": [
    "## Temperature data"
   ]
  },
  {
   "cell_type": "code",
   "execution_count": 160,
   "id": "8690ca29-be3f-4bfa-9a28-afa6960dc738",
   "metadata": {},
   "outputs": [
    {
     "data": {
      "text/html": [
       "\n",
       "            <style>\n",
       "                .geemap-dark {\n",
       "                    --jp-widgets-color: white;\n",
       "                    --jp-widgets-label-color: white;\n",
       "                    --jp-ui-font-color1: white;\n",
       "                    --jp-layout-color2: #454545;\n",
       "                    background-color: #383838;\n",
       "                }\n",
       "\n",
       "                .geemap-dark .jupyter-button {\n",
       "                    --jp-layout-color3: #383838;\n",
       "                }\n",
       "\n",
       "                .geemap-colab {\n",
       "                    background-color: var(--colab-primary-surface-color, white);\n",
       "                }\n",
       "\n",
       "                .geemap-colab .jupyter-button {\n",
       "                    --jp-layout-color3: var(--colab-primary-surface-color, white);\n",
       "                }\n",
       "            </style>\n",
       "            "
      ],
      "text/plain": [
       "<IPython.core.display.HTML object>"
      ]
     },
     "metadata": {},
     "output_type": "display_data"
    }
   ],
   "source": [
    "dataset = ee.ImageCollection(\"ECMWF/ERA5_LAND/MONTHLY_BY_HOUR\")\\\n",
    "            .filterBounds(region)\\\n",
    "            .filterDate(start_date , end_date)\n",
    "char = dataset.mean().clip(region)\n",
    "band_temp = char.select('temperature_2m')\n",
    "visualization = {\n",
    "#   bands: ['temperature_2m'],\n",
    "  'min': 250.0,\n",
    "  'max': 320.0,\n",
    "  'palette': [\n",
    "    '000080', '0000d9', '4000ff', '8000ff', '0080ff', '00ffff',\n",
    "    '00ff80', '80ff00', 'daff00', 'ffff00', 'fff500', 'ffda00',\n",
    "    'ffb000', 'ffa400', 'ff4f00', 'ff2500', 'ff0a00', 'ff00ff',\n",
    "  ]\n",
    "}"
   ]
  },
  {
   "cell_type": "markdown",
   "id": "62420771-9072-4b84-94cc-e867dfbbac37",
   "metadata": {},
   "source": [
    "## Exports the temperature data"
   ]
  },
  {
   "cell_type": "code",
   "execution_count": 161,
   "id": "9ad1a1ac-80f4-461c-910f-087ba4818a39",
   "metadata": {},
   "outputs": [
    {
     "data": {
      "text/html": [
       "\n",
       "            <style>\n",
       "                .geemap-dark {\n",
       "                    --jp-widgets-color: white;\n",
       "                    --jp-widgets-label-color: white;\n",
       "                    --jp-ui-font-color1: white;\n",
       "                    --jp-layout-color2: #454545;\n",
       "                    background-color: #383838;\n",
       "                }\n",
       "\n",
       "                .geemap-dark .jupyter-button {\n",
       "                    --jp-layout-color3: #383838;\n",
       "                }\n",
       "\n",
       "                .geemap-colab {\n",
       "                    background-color: var(--colab-primary-surface-color, white);\n",
       "                }\n",
       "\n",
       "                .geemap-colab .jupyter-button {\n",
       "                    --jp-layout-color3: var(--colab-primary-surface-color, white);\n",
       "                }\n",
       "            </style>\n",
       "            "
      ],
      "text/plain": [
       "<IPython.core.display.HTML object>"
      ]
     },
     "metadata": {},
     "output_type": "display_data"
    },
    {
     "name": "stdout",
     "output_type": "stream",
     "text": [
      "Generating URL ...\n",
      "Downloading data from https://earthengine.googleapis.com/v1/projects/archanagis/thumbnails/4369005610d78f867134ae2a71a0a64e-004a63bc818556a3a3a41af0114d243e:getPixels\n",
      "Please wait ...\n",
      "Data downloaded to D:\\pythonCourse05-04-2024\\Git_Hub\\temperature_sample.tif\n",
      "done\n"
     ]
    }
   ],
   "source": [
    "output = r\"D:\\pythonCourse05-04-2024\\Git_Hub\\temperature_sample.tif\"\n",
    "geemap.ee_export_image(\n",
    "        band_temp,\n",
    "        filename = output,\n",
    "        crs = 'EPSG:4326',\n",
    "        scale = 11132 ,\n",
    "        region = region,\n",
    "        file_per_band = False\n",
    "            \n",
    ")\n",
    "print('done')"
   ]
  },
  {
   "cell_type": "markdown",
   "id": "fd241f90-039d-46fc-b36d-816734aeeece",
   "metadata": {},
   "source": [
    "## Function to calculate monthly statistics"
   ]
  },
  {
   "cell_type": "code",
   "execution_count": 162,
   "id": "c00e788e-a2f6-43c5-9249-5ca0ae5d248b",
   "metadata": {},
   "outputs": [
    {
     "data": {
      "text/html": [
       "\n",
       "            <style>\n",
       "                .geemap-dark {\n",
       "                    --jp-widgets-color: white;\n",
       "                    --jp-widgets-label-color: white;\n",
       "                    --jp-ui-font-color1: white;\n",
       "                    --jp-layout-color2: #454545;\n",
       "                    background-color: #383838;\n",
       "                }\n",
       "\n",
       "                .geemap-dark .jupyter-button {\n",
       "                    --jp-layout-color3: #383838;\n",
       "                }\n",
       "\n",
       "                .geemap-colab {\n",
       "                    background-color: var(--colab-primary-surface-color, white);\n",
       "                }\n",
       "\n",
       "                .geemap-colab .jupyter-button {\n",
       "                    --jp-layout-color3: var(--colab-primary-surface-color, white);\n",
       "                }\n",
       "            </style>\n",
       "            "
      ],
      "text/plain": [
       "<IPython.core.display.HTML object>"
      ]
     },
     "metadata": {},
     "output_type": "display_data"
    },
    {
     "name": "stdout",
     "output_type": "stream",
     "text": [
      "Data saved to D:\\pythonCourse05-04-2024\\Git_Hub\\temp.csv\n"
     ]
    }
   ],
   "source": [
    "def monthly_temperature_stats(month):\n",
    "    date = ee.Date.fromYMD(2020, month, 1)\n",
    "    monthly_data = dataset.filterDate(date, date.advance(1, 'month')).select('temperature_2m')\n",
    "    \n",
    "    # Calculate mean, max, and min\n",
    "    mean_temp = monthly_data.mean().reduceRegion(\n",
    "        reducer=ee.Reducer.mean(),\n",
    "        geometry=region,\n",
    "        scale=1000\n",
    "    ).get('temperature_2m')\n",
    "    \n",
    "    max_temp = monthly_data.max().reduceRegion(\n",
    "        reducer=ee.Reducer.max(),\n",
    "        geometry=region,\n",
    "        scale=1000\n",
    "    ).get('temperature_2m')\n",
    "    \n",
    "    min_temp = monthly_data.min().reduceRegion(\n",
    "        reducer=ee.Reducer.min(),\n",
    "        geometry=region,\n",
    "        scale=1000\n",
    "    ).get('temperature_2m')\n",
    "    \n",
    "    return ee.Feature(None, {\n",
    "        'date': date.format('YYYY-MM'),\n",
    "        'mean_temp': mean_temp,\n",
    "        'max_temp': max_temp,\n",
    "        'min_temp': min_temp\n",
    "    })\n",
    "\n",
    "# Map over months and create a feature collection\n",
    "months = ee.List.sequence(1, 12)\n",
    "temp_features = ee.FeatureCollection(months.map(monthly_temperature_stats))\n",
    "\n",
    "# Convert to a list of dictionaries to create a DataFrame\n",
    "temp_dict = temp_features.getInfo()['features']\n",
    "dates = [item['properties']['date'] for item in temp_dict]\n",
    "mean_temps = [item['properties']['mean_temp'] for item in temp_dict]\n",
    "max_temps = [item['properties']['max_temp'] for item in temp_dict]\n",
    "min_temps = [item['properties']['min_temp'] for item in temp_dict]\n",
    "\n",
    "# Create a DataFrame\n",
    "data = pd.DataFrame({\n",
    "    'Date': dates,\n",
    "    'Mean Temperature (K)': mean_temps,\n",
    "    'Max Temperature (K)': max_temps,\n",
    "    'Min Temperature (K)': min_temps\n",
    "})\n",
    "\n",
    "# Convert the 'Date' column to datetime\n",
    "data['Date'] = pd.to_datetime(data['Date'])\n",
    "\n",
    "# Save to CSV\n",
    "output_csv = r\"D:\\pythonCourse05-04-2024\\Git_Hub\\temp.csv\"\n",
    "data.to_csv(output_csv, index=False)\n",
    "print(f'Data saved to {output_csv}')\n",
    "\n"
   ]
  },
  {
   "cell_type": "markdown",
   "id": "b140cdd7-f64b-413b-b786-c5eca4aa50f8",
   "metadata": {},
   "source": [
    "## Plot the temperature data using Plotly"
   ]
  },
  {
   "cell_type": "code",
   "execution_count": 163,
   "id": "653037d1-e877-4909-bb7c-faa02f1f155b",
   "metadata": {},
   "outputs": [
    {
     "data": {
      "text/html": [
       "\n",
       "            <style>\n",
       "                .geemap-dark {\n",
       "                    --jp-widgets-color: white;\n",
       "                    --jp-widgets-label-color: white;\n",
       "                    --jp-ui-font-color1: white;\n",
       "                    --jp-layout-color2: #454545;\n",
       "                    background-color: #383838;\n",
       "                }\n",
       "\n",
       "                .geemap-dark .jupyter-button {\n",
       "                    --jp-layout-color3: #383838;\n",
       "                }\n",
       "\n",
       "                .geemap-colab {\n",
       "                    background-color: var(--colab-primary-surface-color, white);\n",
       "                }\n",
       "\n",
       "                .geemap-colab .jupyter-button {\n",
       "                    --jp-layout-color3: var(--colab-primary-surface-color, white);\n",
       "                }\n",
       "            </style>\n",
       "            "
      ],
      "text/plain": [
       "<IPython.core.display.HTML object>"
      ]
     },
     "metadata": {},
     "output_type": "display_data"
    },
    {
     "data": {
      "application/vnd.plotly.v1+json": {
       "config": {
        "plotlyServerURL": "https://plot.ly"
       },
       "data": [
        {
         "line": {
          "color": "blue"
         },
         "mode": "lines",
         "name": "Mean Temperature (K)",
         "type": "scatter",
         "x": [
          "2020-01-01T00:00:00",
          "2020-02-01T00:00:00",
          "2020-03-01T00:00:00",
          "2020-04-01T00:00:00",
          "2020-05-01T00:00:00",
          "2020-06-01T00:00:00",
          "2020-07-01T00:00:00",
          "2020-08-01T00:00:00",
          "2020-09-01T00:00:00",
          "2020-10-01T00:00:00",
          "2020-11-01T00:00:00",
          "2020-12-01T00:00:00"
         ],
         "y": [
          299.19583962792825,
          299.2726221325102,
          298.83563428923827,
          298.71149137686933,
          299.26263183985697,
          298.3688960046351,
          298.0271180667273,
          298.1533694384974,
          298.31002170430816,
          298.6377232577284,
          299.00150961789467,
          298.87500004593255
         ]
        },
        {
         "line": {
          "color": "red"
         },
         "mode": "lines",
         "name": "Max Temperature (K)",
         "type": "scatter",
         "x": [
          "2020-01-01T00:00:00",
          "2020-02-01T00:00:00",
          "2020-03-01T00:00:00",
          "2020-04-01T00:00:00",
          "2020-05-01T00:00:00",
          "2020-06-01T00:00:00",
          "2020-07-01T00:00:00",
          "2020-08-01T00:00:00",
          "2020-09-01T00:00:00",
          "2020-10-01T00:00:00",
          "2020-11-01T00:00:00",
          "2020-12-01T00:00:00"
         ],
         "y": [
          301.56336975097656,
          301.7045593261719,
          301.13165283203125,
          300.9887390136719,
          301.8118896484375,
          300.4331817626953,
          299.9698181152344,
          300.5096130371094,
          300.5284881591797,
          301.2150421142578,
          301.6324920654297,
          301.40203857421875
         ]
        },
        {
         "line": {
          "color": "green"
         },
         "mode": "lines",
         "name": "Min Temperature (K)",
         "type": "scatter",
         "x": [
          "2020-01-01T00:00:00",
          "2020-02-01T00:00:00",
          "2020-03-01T00:00:00",
          "2020-04-01T00:00:00",
          "2020-05-01T00:00:00",
          "2020-06-01T00:00:00",
          "2020-07-01T00:00:00",
          "2020-08-01T00:00:00",
          "2020-09-01T00:00:00",
          "2020-10-01T00:00:00",
          "2020-11-01T00:00:00",
          "2020-12-01T00:00:00"
         ],
         "y": [
          295.8531494140625,
          296.0889434814453,
          295.72886657714844,
          295.58750915527344,
          296.0176239013672,
          295.4304504394531,
          295.14990234375,
          294.8261260986328,
          295.1506652832031,
          295.34519958496094,
          295.5893859863281,
          295.7608642578125
         ]
        }
       ],
       "layout": {
        "autosize": true,
        "template": {
         "data": {
          "bar": [
           {
            "error_x": {
             "color": "#2a3f5f"
            },
            "error_y": {
             "color": "#2a3f5f"
            },
            "marker": {
             "line": {
              "color": "#E5ECF6",
              "width": 0.5
             },
             "pattern": {
              "fillmode": "overlay",
              "size": 10,
              "solidity": 0.2
             }
            },
            "type": "bar"
           }
          ],
          "barpolar": [
           {
            "marker": {
             "line": {
              "color": "#E5ECF6",
              "width": 0.5
             },
             "pattern": {
              "fillmode": "overlay",
              "size": 10,
              "solidity": 0.2
             }
            },
            "type": "barpolar"
           }
          ],
          "carpet": [
           {
            "aaxis": {
             "endlinecolor": "#2a3f5f",
             "gridcolor": "white",
             "linecolor": "white",
             "minorgridcolor": "white",
             "startlinecolor": "#2a3f5f"
            },
            "baxis": {
             "endlinecolor": "#2a3f5f",
             "gridcolor": "white",
             "linecolor": "white",
             "minorgridcolor": "white",
             "startlinecolor": "#2a3f5f"
            },
            "type": "carpet"
           }
          ],
          "choropleth": [
           {
            "colorbar": {
             "outlinewidth": 0,
             "ticks": ""
            },
            "type": "choropleth"
           }
          ],
          "contour": [
           {
            "colorbar": {
             "outlinewidth": 0,
             "ticks": ""
            },
            "colorscale": [
             [
              0,
              "#0d0887"
             ],
             [
              0.1111111111111111,
              "#46039f"
             ],
             [
              0.2222222222222222,
              "#7201a8"
             ],
             [
              0.3333333333333333,
              "#9c179e"
             ],
             [
              0.4444444444444444,
              "#bd3786"
             ],
             [
              0.5555555555555556,
              "#d8576b"
             ],
             [
              0.6666666666666666,
              "#ed7953"
             ],
             [
              0.7777777777777778,
              "#fb9f3a"
             ],
             [
              0.8888888888888888,
              "#fdca26"
             ],
             [
              1,
              "#f0f921"
             ]
            ],
            "type": "contour"
           }
          ],
          "contourcarpet": [
           {
            "colorbar": {
             "outlinewidth": 0,
             "ticks": ""
            },
            "type": "contourcarpet"
           }
          ],
          "heatmap": [
           {
            "colorbar": {
             "outlinewidth": 0,
             "ticks": ""
            },
            "colorscale": [
             [
              0,
              "#0d0887"
             ],
             [
              0.1111111111111111,
              "#46039f"
             ],
             [
              0.2222222222222222,
              "#7201a8"
             ],
             [
              0.3333333333333333,
              "#9c179e"
             ],
             [
              0.4444444444444444,
              "#bd3786"
             ],
             [
              0.5555555555555556,
              "#d8576b"
             ],
             [
              0.6666666666666666,
              "#ed7953"
             ],
             [
              0.7777777777777778,
              "#fb9f3a"
             ],
             [
              0.8888888888888888,
              "#fdca26"
             ],
             [
              1,
              "#f0f921"
             ]
            ],
            "type": "heatmap"
           }
          ],
          "heatmapgl": [
           {
            "colorbar": {
             "outlinewidth": 0,
             "ticks": ""
            },
            "colorscale": [
             [
              0,
              "#0d0887"
             ],
             [
              0.1111111111111111,
              "#46039f"
             ],
             [
              0.2222222222222222,
              "#7201a8"
             ],
             [
              0.3333333333333333,
              "#9c179e"
             ],
             [
              0.4444444444444444,
              "#bd3786"
             ],
             [
              0.5555555555555556,
              "#d8576b"
             ],
             [
              0.6666666666666666,
              "#ed7953"
             ],
             [
              0.7777777777777778,
              "#fb9f3a"
             ],
             [
              0.8888888888888888,
              "#fdca26"
             ],
             [
              1,
              "#f0f921"
             ]
            ],
            "type": "heatmapgl"
           }
          ],
          "histogram": [
           {
            "marker": {
             "pattern": {
              "fillmode": "overlay",
              "size": 10,
              "solidity": 0.2
             }
            },
            "type": "histogram"
           }
          ],
          "histogram2d": [
           {
            "colorbar": {
             "outlinewidth": 0,
             "ticks": ""
            },
            "colorscale": [
             [
              0,
              "#0d0887"
             ],
             [
              0.1111111111111111,
              "#46039f"
             ],
             [
              0.2222222222222222,
              "#7201a8"
             ],
             [
              0.3333333333333333,
              "#9c179e"
             ],
             [
              0.4444444444444444,
              "#bd3786"
             ],
             [
              0.5555555555555556,
              "#d8576b"
             ],
             [
              0.6666666666666666,
              "#ed7953"
             ],
             [
              0.7777777777777778,
              "#fb9f3a"
             ],
             [
              0.8888888888888888,
              "#fdca26"
             ],
             [
              1,
              "#f0f921"
             ]
            ],
            "type": "histogram2d"
           }
          ],
          "histogram2dcontour": [
           {
            "colorbar": {
             "outlinewidth": 0,
             "ticks": ""
            },
            "colorscale": [
             [
              0,
              "#0d0887"
             ],
             [
              0.1111111111111111,
              "#46039f"
             ],
             [
              0.2222222222222222,
              "#7201a8"
             ],
             [
              0.3333333333333333,
              "#9c179e"
             ],
             [
              0.4444444444444444,
              "#bd3786"
             ],
             [
              0.5555555555555556,
              "#d8576b"
             ],
             [
              0.6666666666666666,
              "#ed7953"
             ],
             [
              0.7777777777777778,
              "#fb9f3a"
             ],
             [
              0.8888888888888888,
              "#fdca26"
             ],
             [
              1,
              "#f0f921"
             ]
            ],
            "type": "histogram2dcontour"
           }
          ],
          "mesh3d": [
           {
            "colorbar": {
             "outlinewidth": 0,
             "ticks": ""
            },
            "type": "mesh3d"
           }
          ],
          "parcoords": [
           {
            "line": {
             "colorbar": {
              "outlinewidth": 0,
              "ticks": ""
             }
            },
            "type": "parcoords"
           }
          ],
          "pie": [
           {
            "automargin": true,
            "type": "pie"
           }
          ],
          "scatter": [
           {
            "fillpattern": {
             "fillmode": "overlay",
             "size": 10,
             "solidity": 0.2
            },
            "type": "scatter"
           }
          ],
          "scatter3d": [
           {
            "line": {
             "colorbar": {
              "outlinewidth": 0,
              "ticks": ""
             }
            },
            "marker": {
             "colorbar": {
              "outlinewidth": 0,
              "ticks": ""
             }
            },
            "type": "scatter3d"
           }
          ],
          "scattercarpet": [
           {
            "marker": {
             "colorbar": {
              "outlinewidth": 0,
              "ticks": ""
             }
            },
            "type": "scattercarpet"
           }
          ],
          "scattergeo": [
           {
            "marker": {
             "colorbar": {
              "outlinewidth": 0,
              "ticks": ""
             }
            },
            "type": "scattergeo"
           }
          ],
          "scattergl": [
           {
            "marker": {
             "colorbar": {
              "outlinewidth": 0,
              "ticks": ""
             }
            },
            "type": "scattergl"
           }
          ],
          "scattermapbox": [
           {
            "marker": {
             "colorbar": {
              "outlinewidth": 0,
              "ticks": ""
             }
            },
            "type": "scattermapbox"
           }
          ],
          "scatterpolar": [
           {
            "marker": {
             "colorbar": {
              "outlinewidth": 0,
              "ticks": ""
             }
            },
            "type": "scatterpolar"
           }
          ],
          "scatterpolargl": [
           {
            "marker": {
             "colorbar": {
              "outlinewidth": 0,
              "ticks": ""
             }
            },
            "type": "scatterpolargl"
           }
          ],
          "scatterternary": [
           {
            "marker": {
             "colorbar": {
              "outlinewidth": 0,
              "ticks": ""
             }
            },
            "type": "scatterternary"
           }
          ],
          "surface": [
           {
            "colorbar": {
             "outlinewidth": 0,
             "ticks": ""
            },
            "colorscale": [
             [
              0,
              "#0d0887"
             ],
             [
              0.1111111111111111,
              "#46039f"
             ],
             [
              0.2222222222222222,
              "#7201a8"
             ],
             [
              0.3333333333333333,
              "#9c179e"
             ],
             [
              0.4444444444444444,
              "#bd3786"
             ],
             [
              0.5555555555555556,
              "#d8576b"
             ],
             [
              0.6666666666666666,
              "#ed7953"
             ],
             [
              0.7777777777777778,
              "#fb9f3a"
             ],
             [
              0.8888888888888888,
              "#fdca26"
             ],
             [
              1,
              "#f0f921"
             ]
            ],
            "type": "surface"
           }
          ],
          "table": [
           {
            "cells": {
             "fill": {
              "color": "#EBF0F8"
             },
             "line": {
              "color": "white"
             }
            },
            "header": {
             "fill": {
              "color": "#C8D4E3"
             },
             "line": {
              "color": "white"
             }
            },
            "type": "table"
           }
          ]
         },
         "layout": {
          "annotationdefaults": {
           "arrowcolor": "#2a3f5f",
           "arrowhead": 0,
           "arrowwidth": 1
          },
          "autotypenumbers": "strict",
          "coloraxis": {
           "colorbar": {
            "outlinewidth": 0,
            "ticks": ""
           }
          },
          "colorscale": {
           "diverging": [
            [
             0,
             "#8e0152"
            ],
            [
             0.1,
             "#c51b7d"
            ],
            [
             0.2,
             "#de77ae"
            ],
            [
             0.3,
             "#f1b6da"
            ],
            [
             0.4,
             "#fde0ef"
            ],
            [
             0.5,
             "#f7f7f7"
            ],
            [
             0.6,
             "#e6f5d0"
            ],
            [
             0.7,
             "#b8e186"
            ],
            [
             0.8,
             "#7fbc41"
            ],
            [
             0.9,
             "#4d9221"
            ],
            [
             1,
             "#276419"
            ]
           ],
           "sequential": [
            [
             0,
             "#0d0887"
            ],
            [
             0.1111111111111111,
             "#46039f"
            ],
            [
             0.2222222222222222,
             "#7201a8"
            ],
            [
             0.3333333333333333,
             "#9c179e"
            ],
            [
             0.4444444444444444,
             "#bd3786"
            ],
            [
             0.5555555555555556,
             "#d8576b"
            ],
            [
             0.6666666666666666,
             "#ed7953"
            ],
            [
             0.7777777777777778,
             "#fb9f3a"
            ],
            [
             0.8888888888888888,
             "#fdca26"
            ],
            [
             1,
             "#f0f921"
            ]
           ],
           "sequentialminus": [
            [
             0,
             "#0d0887"
            ],
            [
             0.1111111111111111,
             "#46039f"
            ],
            [
             0.2222222222222222,
             "#7201a8"
            ],
            [
             0.3333333333333333,
             "#9c179e"
            ],
            [
             0.4444444444444444,
             "#bd3786"
            ],
            [
             0.5555555555555556,
             "#d8576b"
            ],
            [
             0.6666666666666666,
             "#ed7953"
            ],
            [
             0.7777777777777778,
             "#fb9f3a"
            ],
            [
             0.8888888888888888,
             "#fdca26"
            ],
            [
             1,
             "#f0f921"
            ]
           ]
          },
          "colorway": [
           "#636efa",
           "#EF553B",
           "#00cc96",
           "#ab63fa",
           "#FFA15A",
           "#19d3f3",
           "#FF6692",
           "#B6E880",
           "#FF97FF",
           "#FECB52"
          ],
          "font": {
           "color": "#2a3f5f"
          },
          "geo": {
           "bgcolor": "white",
           "lakecolor": "white",
           "landcolor": "#E5ECF6",
           "showlakes": true,
           "showland": true,
           "subunitcolor": "white"
          },
          "hoverlabel": {
           "align": "left"
          },
          "hovermode": "closest",
          "mapbox": {
           "style": "light"
          },
          "paper_bgcolor": "white",
          "plot_bgcolor": "#E5ECF6",
          "polar": {
           "angularaxis": {
            "gridcolor": "white",
            "linecolor": "white",
            "ticks": ""
           },
           "bgcolor": "#E5ECF6",
           "radialaxis": {
            "gridcolor": "white",
            "linecolor": "white",
            "ticks": ""
           }
          },
          "scene": {
           "xaxis": {
            "backgroundcolor": "#E5ECF6",
            "gridcolor": "white",
            "gridwidth": 2,
            "linecolor": "white",
            "showbackground": true,
            "ticks": "",
            "zerolinecolor": "white"
           },
           "yaxis": {
            "backgroundcolor": "#E5ECF6",
            "gridcolor": "white",
            "gridwidth": 2,
            "linecolor": "white",
            "showbackground": true,
            "ticks": "",
            "zerolinecolor": "white"
           },
           "zaxis": {
            "backgroundcolor": "#E5ECF6",
            "gridcolor": "white",
            "gridwidth": 2,
            "linecolor": "white",
            "showbackground": true,
            "ticks": "",
            "zerolinecolor": "white"
           }
          },
          "shapedefaults": {
           "line": {
            "color": "#2a3f5f"
           }
          },
          "ternary": {
           "aaxis": {
            "gridcolor": "white",
            "linecolor": "white",
            "ticks": ""
           },
           "baxis": {
            "gridcolor": "white",
            "linecolor": "white",
            "ticks": ""
           },
           "bgcolor": "#E5ECF6",
           "caxis": {
            "gridcolor": "white",
            "linecolor": "white",
            "ticks": ""
           }
          },
          "title": {
           "x": 0.05
          },
          "xaxis": {
           "automargin": true,
           "gridcolor": "white",
           "linecolor": "white",
           "ticks": "",
           "title": {
            "standoff": 15
           },
           "zerolinecolor": "white",
           "zerolinewidth": 2
          },
          "yaxis": {
           "automargin": true,
           "gridcolor": "white",
           "linecolor": "white",
           "ticks": "",
           "title": {
            "standoff": 15
           },
           "zerolinecolor": "white",
           "zerolinewidth": 2
          }
         }
        },
        "title": {
         "text": "Monthly Temperature Time Series (2020)"
        },
        "xaxis": {
         "autorange": true,
         "range": [
          "2020-01-01",
          "2020-12-01"
         ],
         "title": {
          "text": "Date"
         },
         "type": "date"
        },
        "yaxis": {
         "autorange": true,
         "range": [
          294.4380281236437,
          302.19998762342664
         ],
         "title": {
          "text": "Temperature (Kelvin)"
         },
         "type": "linear"
        }
       }
      },
      "image/png": "[encoded data removed]",
      "text/html": [
       "<div>                            <div id=\"9d2d46d4-d6f3-4baa-8761-3aee680bb7d6\" class=\"plotly-graph-div\" style=\"height:525px; width:100%;\"></div>            <script type=\"text/javascript\">                require([\"plotly\"], function(Plotly) {                    window.PLOTLYENV=window.PLOTLYENV || {};                                    if (document.getElementById(\"9d2d46d4-d6f3-4baa-8761-3aee680bb7d6\")) {                    Plotly.newPlot(                        \"9d2d46d4-d6f3-4baa-8761-3aee680bb7d6\",                        [{\"line\":{\"color\":\"blue\"},\"mode\":\"lines\",\"name\":\"Mean Temperature (K)\",\"x\":[\"2020-01-01T00:00:00\",\"2020-02-01T00:00:00\",\"2020-03-01T00:00:00\",\"2020-04-01T00:00:00\",\"2020-05-01T00:00:00\",\"2020-06-01T00:00:00\",\"2020-07-01T00:00:00\",\"2020-08-01T00:00:00\",\"2020-09-01T00:00:00\",\"2020-10-01T00:00:00\",\"2020-11-01T00:00:00\",\"2020-12-01T00:00:00\"],\"y\":[299.19583962792825,299.2726221325102,298.83563428923827,298.71149137686933,299.26263183985697,298.3688960046351,298.0271180667273,298.1533694384974,298.31002170430816,298.6377232577284,299.00150961789467,298.87500004593255],\"type\":\"scatter\"},{\"line\":{\"color\":\"red\"},\"mode\":\"lines\",\"name\":\"Max Temperature (K)\",\"x\":[\"2020-01-01T00:00:00\",\"2020-02-01T00:00:00\",\"2020-03-01T00:00:00\",\"2020-04-01T00:00:00\",\"2020-05-01T00:00:00\",\"2020-06-01T00:00:00\",\"2020-07-01T00:00:00\",\"2020-08-01T00:00:00\",\"2020-09-01T00:00:00\",\"2020-10-01T00:00:00\",\"2020-11-01T00:00:00\",\"2020-12-01T00:00:00\"],\"y\":[301.56336975097656,301.7045593261719,301.13165283203125,300.9887390136719,301.8118896484375,300.4331817626953,299.9698181152344,300.5096130371094,300.5284881591797,301.2150421142578,301.6324920654297,301.40203857421875],\"type\":\"scatter\"},{\"line\":{\"color\":\"green\"},\"mode\":\"lines\",\"name\":\"Min Temperature (K)\",\"x\":[\"2020-01-01T00:00:00\",\"2020-02-01T00:00:00\",\"2020-03-01T00:00:00\",\"2020-04-01T00:00:00\",\"2020-05-01T00:00:00\",\"2020-06-01T00:00:00\",\"2020-07-01T00:00:00\",\"2020-08-01T00:00:00\",\"2020-09-01T00:00:00\",\"2020-10-01T00:00:00\",\"2020-11-01T00:00:00\",\"2020-12-01T00:00:00\"],\"y\":[295.8531494140625,296.0889434814453,295.72886657714844,295.58750915527344,296.0176239013672,295.4304504394531,295.14990234375,294.8261260986328,295.1506652832031,295.34519958496094,295.5893859863281,295.7608642578125],\"type\":\"scatter\"}],                        {\"template\":{\"data\":{\"histogram2dcontour\":[{\"type\":\"histogram2dcontour\",\"colorbar\":{\"outlinewidth\":0,\"ticks\":\"\"},\"colorscale\":[[0.0,\"#0d0887\"],[0.1111111111111111,\"#46039f\"],[0.2222222222222222,\"#7201a8\"],[0.3333333333333333,\"#9c179e\"],[0.4444444444444444,\"#bd3786\"],[0.5555555555555556,\"#d8576b\"],[0.6666666666666666,\"#ed7953\"],[0.7777777777777778,\"#fb9f3a\"],[0.8888888888888888,\"#fdca26\"],[1.0,\"#f0f921\"]]}],\"choropleth\":[{\"type\":\"choropleth\",\"colorbar\":{\"outlinewidth\":0,\"ticks\":\"\"}}],\"histogram2d\":[{\"type\":\"histogram2d\",\"colorbar\":{\"outlinewidth\":0,\"ticks\":\"\"},\"colorscale\":[[0.0,\"#0d0887\"],[0.1111111111111111,\"#46039f\"],[0.2222222222222222,\"#7201a8\"],[0.3333333333333333,\"#9c179e\"],[0.4444444444444444,\"#bd3786\"],[0.5555555555555556,\"#d8576b\"],[0.6666666666666666,\"#ed7953\"],[0.7777777777777778,\"#fb9f3a\"],[0.8888888888888888,\"#fdca26\"],[1.0,\"#f0f921\"]]}],\"heatmap\":[{\"type\":\"heatmap\",\"colorbar\":{\"outlinewidth\":0,\"ticks\":\"\"},\"colorscale\":[[0.0,\"#0d0887\"],[0.1111111111111111,\"#46039f\"],[0.2222222222222222,\"#7201a8\"],[0.3333333333333333,\"#9c179e\"],[0.4444444444444444,\"#bd3786\"],[0.5555555555555556,\"#d8576b\"],[0.6666666666666666,\"#ed7953\"],[0.7777777777777778,\"#fb9f3a\"],[0.8888888888888888,\"#fdca26\"],[1.0,\"#f0f921\"]]}],\"heatmapgl\":[{\"type\":\"heatmapgl\",\"colorbar\":{\"outlinewidth\":0,\"ticks\":\"\"},\"colorscale\":[[0.0,\"#0d0887\"],[0.1111111111111111,\"#46039f\"],[0.2222222222222222,\"#7201a8\"],[0.3333333333333333,\"#9c179e\"],[0.4444444444444444,\"#bd3786\"],[0.5555555555555556,\"#d8576b\"],[0.6666666666666666,\"#ed7953\"],[0.7777777777777778,\"#fb9f3a\"],[0.8888888888888888,\"#fdca26\"],[1.0,\"#f0f921\"]]}],\"contourcarpet\":[{\"type\":\"contourcarpet\",\"colorbar\":{\"outlinewidth\":0,\"ticks\":\"\"}}],\"contour\":[{\"type\":\"contour\",\"colorbar\":{\"outlinewidth\":0,\"ticks\":\"\"},\"colorscale\":[[0.0,\"#0d0887\"],[0.1111111111111111,\"#46039f\"],[0.2222222222222222,\"#7201a8\"],[0.3333333333333333,\"#9c179e\"],[0.4444444444444444,\"#bd3786\"],[0.5555555555555556,\"#d8576b\"],[0.6666666666666666,\"#ed7953\"],[0.7777777777777778,\"#fb9f3a\"],[0.8888888888888888,\"#fdca26\"],[1.0,\"#f0f921\"]]}],\"surface\":[{\"type\":\"surface\",\"colorbar\":{\"outlinewidth\":0,\"ticks\":\"\"},\"colorscale\":[[0.0,\"#0d0887\"],[0.1111111111111111,\"#46039f\"],[0.2222222222222222,\"#7201a8\"],[0.3333333333333333,\"#9c179e\"],[0.4444444444444444,\"#bd3786\"],[0.5555555555555556,\"#d8576b\"],[0.6666666666666666,\"#ed7953\"],[0.7777777777777778,\"#fb9f3a\"],[0.8888888888888888,\"#fdca26\"],[1.0,\"#f0f921\"]]}],\"mesh3d\":[{\"type\":\"mesh3d\",\"colorbar\":{\"outlinewidth\":0,\"ticks\":\"\"}}],\"scatter\":[{\"fillpattern\":{\"fillmode\":\"overlay\",\"size\":10,\"solidity\":0.2},\"type\":\"scatter\"}],\"parcoords\":[{\"type\":\"parcoords\",\"line\":{\"colorbar\":{\"outlinewidth\":0,\"ticks\":\"\"}}}],\"scatterpolargl\":[{\"type\":\"scatterpolargl\",\"marker\":{\"colorbar\":{\"outlinewidth\":0,\"ticks\":\"\"}}}],\"bar\":[{\"error_x\":{\"color\":\"#2a3f5f\"},\"error_y\":{\"color\":\"#2a3f5f\"},\"marker\":{\"line\":{\"color\":\"#E5ECF6\",\"width\":0.5},\"pattern\":{\"fillmode\":\"overlay\",\"size\":10,\"solidity\":0.2}},\"type\":\"bar\"}],\"scattergeo\":[{\"type\":\"scattergeo\",\"marker\":{\"colorbar\":{\"outlinewidth\":0,\"ticks\":\"\"}}}],\"scatterpolar\":[{\"type\":\"scatterpolar\",\"marker\":{\"colorbar\":{\"outlinewidth\":0,\"ticks\":\"\"}}}],\"histogram\":[{\"marker\":{\"pattern\":{\"fillmode\":\"overlay\",\"size\":10,\"solidity\":0.2}},\"type\":\"histogram\"}],\"scattergl\":[{\"type\":\"scattergl\",\"marker\":{\"colorbar\":{\"outlinewidth\":0,\"ticks\":\"\"}}}],\"scatter3d\":[{\"type\":\"scatter3d\",\"line\":{\"colorbar\":{\"outlinewidth\":0,\"ticks\":\"\"}},\"marker\":{\"colorbar\":{\"outlinewidth\":0,\"ticks\":\"\"}}}],\"scattermapbox\":[{\"type\":\"scattermapbox\",\"marker\":{\"colorbar\":{\"outlinewidth\":0,\"ticks\":\"\"}}}],\"scatterternary\":[{\"type\":\"scatterternary\",\"marker\":{\"colorbar\":{\"outlinewidth\":0,\"ticks\":\"\"}}}],\"scattercarpet\":[{\"type\":\"scattercarpet\",\"marker\":{\"colorbar\":{\"outlinewidth\":0,\"ticks\":\"\"}}}],\"carpet\":[{\"aaxis\":{\"endlinecolor\":\"#2a3f5f\",\"gridcolor\":\"white\",\"linecolor\":\"white\",\"minorgridcolor\":\"white\",\"startlinecolor\":\"#2a3f5f\"},\"baxis\":{\"endlinecolor\":\"#2a3f5f\",\"gridcolor\":\"white\",\"linecolor\":\"white\",\"minorgridcolor\":\"white\",\"startlinecolor\":\"#2a3f5f\"},\"type\":\"carpet\"}],\"table\":[{\"cells\":{\"fill\":{\"color\":\"#EBF0F8\"},\"line\":{\"color\":\"white\"}},\"header\":{\"fill\":{\"color\":\"#C8D4E3\"},\"line\":{\"color\":\"white\"}},\"type\":\"table\"}],\"barpolar\":[{\"marker\":{\"line\":{\"color\":\"#E5ECF6\",\"width\":0.5},\"pattern\":{\"fillmode\":\"overlay\",\"size\":10,\"solidity\":0.2}},\"type\":\"barpolar\"}],\"pie\":[{\"automargin\":true,\"type\":\"pie\"}]},\"layout\":{\"autotypenumbers\":\"strict\",\"colorway\":[\"#636efa\",\"#EF553B\",\"#00cc96\",\"#ab63fa\",\"#FFA15A\",\"#19d3f3\",\"#FF6692\",\"#B6E880\",\"#FF97FF\",\"#FECB52\"],\"font\":{\"color\":\"#2a3f5f\"},\"hovermode\":\"closest\",\"hoverlabel\":{\"align\":\"left\"},\"paper_bgcolor\":\"white\",\"plot_bgcolor\":\"#E5ECF6\",\"polar\":{\"bgcolor\":\"#E5ECF6\",\"angularaxis\":{\"gridcolor\":\"white\",\"linecolor\":\"white\",\"ticks\":\"\"},\"radialaxis\":{\"gridcolor\":\"white\",\"linecolor\":\"white\",\"ticks\":\"\"}},\"ternary\":{\"bgcolor\":\"#E5ECF6\",\"aaxis\":{\"gridcolor\":\"white\",\"linecolor\":\"white\",\"ticks\":\"\"},\"baxis\":{\"gridcolor\":\"white\",\"linecolor\":\"white\",\"ticks\":\"\"},\"caxis\":{\"gridcolor\":\"white\",\"linecolor\":\"white\",\"ticks\":\"\"}},\"coloraxis\":{\"colorbar\":{\"outlinewidth\":0,\"ticks\":\"\"}},\"colorscale\":{\"sequential\":[[0.0,\"#0d0887\"],[0.1111111111111111,\"#46039f\"],[0.2222222222222222,\"#7201a8\"],[0.3333333333333333,\"#9c179e\"],[0.4444444444444444,\"#bd3786\"],[0.5555555555555556,\"#d8576b\"],[0.6666666666666666,\"#ed7953\"],[0.7777777777777778,\"#fb9f3a\"],[0.8888888888888888,\"#fdca26\"],[1.0,\"#f0f921\"]],\"sequentialminus\":[[0.0,\"#0d0887\"],[0.1111111111111111,\"#46039f\"],[0.2222222222222222,\"#7201a8\"],[0.3333333333333333,\"#9c179e\"],[0.4444444444444444,\"#bd3786\"],[0.5555555555555556,\"#d8576b\"],[0.6666666666666666,\"#ed7953\"],[0.7777777777777778,\"#fb9f3a\"],[0.8888888888888888,\"#fdca26\"],[1.0,\"#f0f921\"]],\"diverging\":[[0,\"#8e0152\"],[0.1,\"#c51b7d\"],[0.2,\"#de77ae\"],[0.3,\"#f1b6da\"],[0.4,\"#fde0ef\"],[0.5,\"#f7f7f7\"],[0.6,\"#e6f5d0\"],[0.7,\"#b8e186\"],[0.8,\"#7fbc41\"],[0.9,\"#4d9221\"],[1,\"#276419\"]]},\"xaxis\":{\"gridcolor\":\"white\",\"linecolor\":\"white\",\"ticks\":\"\",\"title\":{\"standoff\":15},\"zerolinecolor\":\"white\",\"automargin\":true,\"zerolinewidth\":2},\"yaxis\":{\"gridcolor\":\"white\",\"linecolor\":\"white\",\"ticks\":\"\",\"title\":{\"standoff\":15},\"zerolinecolor\":\"white\",\"automargin\":true,\"zerolinewidth\":2},\"scene\":{\"xaxis\":{\"backgroundcolor\":\"#E5ECF6\",\"gridcolor\":\"white\",\"linecolor\":\"white\",\"showbackground\":true,\"ticks\":\"\",\"zerolinecolor\":\"white\",\"gridwidth\":2},\"yaxis\":{\"backgroundcolor\":\"#E5ECF6\",\"gridcolor\":\"white\",\"linecolor\":\"white\",\"showbackground\":true,\"ticks\":\"\",\"zerolinecolor\":\"white\",\"gridwidth\":2},\"zaxis\":{\"backgroundcolor\":\"#E5ECF6\",\"gridcolor\":\"white\",\"linecolor\":\"white\",\"showbackground\":true,\"ticks\":\"\",\"zerolinecolor\":\"white\",\"gridwidth\":2}},\"shapedefaults\":{\"line\":{\"color\":\"#2a3f5f\"}},\"annotationdefaults\":{\"arrowcolor\":\"#2a3f5f\",\"arrowhead\":0,\"arrowwidth\":1},\"geo\":{\"bgcolor\":\"white\",\"landcolor\":\"#E5ECF6\",\"subunitcolor\":\"white\",\"showland\":true,\"showlakes\":true,\"lakecolor\":\"white\"},\"title\":{\"x\":0.05},\"mapbox\":{\"style\":\"light\"}}},\"title\":{\"text\":\"Monthly Temperature Time Series (2020)\"},\"xaxis\":{\"title\":{\"text\":\"Date\"}},\"yaxis\":{\"title\":{\"text\":\"Temperature (Kelvin)\"}}},                        {\"responsive\": true}                    ).then(function(){\n",
       "                            \n",
       "var gd = document.getElementById('9d2d46d4-d6f3-4baa-8761-3aee680bb7d6');\n",
       "var x = new MutationObserver(function (mutations, observer) {{\n",
       "        var display = window.getComputedStyle(gd).display;\n",
       "        if (!display || display === 'none') {{\n",
       "            console.log([gd, 'removed!']);\n",
       "            Plotly.purge(gd);\n",
       "            observer.disconnect();\n",
       "        }}\n",
       "}});\n",
       "\n",
       "// Listen for the removal of the full notebook cells\n",
       "var notebookContainer = gd.closest('#notebook-container');\n",
       "if (notebookContainer) {{\n",
       "    x.observe(notebookContainer, {childList: true});\n",
       "}}\n",
       "\n",
       "// Listen for the clearing of the current output cell\n",
       "var outputEl = gd.closest('.output');\n",
       "if (outputEl) {{\n",
       "    x.observe(outputEl, {childList: true});\n",
       "}}\n",
       "\n",
       "                        })                };                });            </script>        </div>"
      ]
     },
     "metadata": {},
     "output_type": "display_data"
    },
    {
     "data": {
      "text/html": [
       "\n",
       "<a download=\"temperature_time_series.csv\" href=\"data:text/csv;charset=utf-8,Date%2CMean Temperature (K)%2CMax Temperature (K)%2CMin Temperature (K)\r",
       "%0A2020-01-01%2C299.19583962792825%2C301.56336975097656%2C295.8531494140625\r",
       "%0A2020-02-01%2C299.2726221325102%2C301.7045593261719%2C296.0889434814453\r",
       "%0A2020-03-01%2C298.83563428923827%2C301.13165283203125%2C295.72886657714844\r",
       "%0A2020-04-01%2C298.71149137686933%2C300.9887390136719%2C295.58750915527344\r",
       "%0A2020-05-01%2C299.26263183985697%2C301.8118896484375%2C296.0176239013672\r",
       "%0A2020-06-01%2C298.3688960046351%2C300.4331817626953%2C295.4304504394531\r",
       "%0A2020-07-01%2C298.0271180667273%2C299.9698181152344%2C295.14990234375\r",
       "%0A2020-08-01%2C298.1533694384974%2C300.5096130371094%2C294.8261260986328\r",
       "%0A2020-09-01%2C298.31002170430816%2C300.5284881591797%2C295.1506652832031\r",
       "%0A2020-10-01%2C298.6377232577284%2C301.2150421142578%2C295.34519958496094\r",
       "%0A2020-11-01%2C299.00150961789467%2C301.6324920654297%2C295.5893859863281\r",
       "%0A2020-12-01%2C298.87500004593255%2C301.40203857421875%2C295.7608642578125\r",
       "%0A\" \n",
       "style=\"margin-top:10px;display:block;text-align:center;\">Download CSV</a>\n"
      ],
      "text/plain": [
       "<IPython.core.display.HTML object>"
      ]
     },
     "metadata": {},
     "output_type": "display_data"
    }
   ],
   "source": [
    "fig = go.Figure()\n",
    "\n",
    "# Add traces for Mean, Max, and Min Temperature\n",
    "fig.add_trace(go.Scatter(x=data['Date'], y=data['Mean Temperature (K)'], mode='lines', name='Mean Temperature (K)', line=dict(color='blue')))\n",
    "fig.add_trace(go.Scatter(x=data['Date'], y=data['Max Temperature (K)'], mode='lines', name='Max Temperature (K)', line=dict(color='red')))\n",
    "fig.add_trace(go.Scatter(x=data['Date'], y=data['Min Temperature (K)'], mode='lines', name='Min Temperature (K)', line=dict(color='green')))\n",
    "\n",
    "# Update layout\n",
    "fig.update_layout(\n",
    "    title='Monthly Temperature Time Series (2020)',\n",
    "    xaxis_title='Date',\n",
    "    yaxis_title='Temperature (Kelvin)'\n",
    "    # template='plotly_dark'\n",
    ")\n",
    "\n",
    "# Show the plot\n",
    "fig.show()\n",
    "\n",
    "# Optional: Include the download link for CSV\n",
    "download_csv_link = '''\n",
    "<a download=\"temperature_time_series.csv\" href=\"data:text/csv;charset=utf-8,{csv}\" \n",
    "style=\"margin-top:10px;display:block;text-align:center;\">Download CSV</a>\n",
    "'''.format(csv=data.to_csv(index=False, encoding='utf-8').replace('\\n', '%0A').replace(',', '%2C'))\n",
    "\n",
    "display(HTML(download_csv_link))\n"
   ]
  },
  {
   "cell_type": "code",
   "execution_count": null,
   "id": "0ec4947d-f69f-4222-a127-66a18c2a5ed4",
   "metadata": {},
   "outputs": [],
   "source": []
  }
 ],
 "metadata": {
  "kernelspec": {
   "display_name": "Python 3 (ipykernel)",
   "language": "python",
   "name": "python3"
  },
  "language_info": {
   "codemirror_mode": {
    "name": "ipython",
    "version": 3
   },
   "file_extension": ".py",
   "mimetype": "text/x-python",
   "name": "python",
   "nbconvert_exporter": "python",
   "pygments_lexer": "ipython3",
   "version": "3.12.3"
  }
 },
 "nbformat": 4,
 "nbformat_minor": 5
}
